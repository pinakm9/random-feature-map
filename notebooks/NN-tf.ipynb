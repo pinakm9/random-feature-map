{
 "cells": [
  {
   "cell_type": "code",
   "execution_count": 1,
   "id": "9f91fe87-e4cf-4d90-bf34-2e9dac62ef97",
   "metadata": {},
   "outputs": [],
   "source": [
    "import numpy as np \n",
    "from scipy.integrate import odeint\n",
    "import os, sys, warnings\n",
    "from pathlib import Path\n",
    "from os.path import dirname, realpath\n",
    "script_dir = Path(dirname(realpath('.')))\n",
    "module_dir = str(script_dir)\n",
    "sys.path.insert(0, module_dir + '/modules')\n",
    "import utility as ut\n",
    "import surrogate_tf as srnn\n",
    "import matplotlib.pyplot as plt\n",
    "import pandas as pd\n",
    "import tensorflow as tf\n",
    "warnings.filterwarnings('ignore')"
   ]
  },
  {
   "cell_type": "code",
   "execution_count": 2,
   "id": "d8341f71-46f2-49e7-bee9-8154bace790c",
   "metadata": {},
   "outputs": [
    {
     "name": "stderr",
     "output_type": "stream",
     "text": [
      "2024-01-11 08:29:18.984757: I metal_plugin/src/device/metal_device.cc:1154] Metal device set to: Apple M2\n",
      "2024-01-11 08:29:18.984776: I metal_plugin/src/device/metal_device.cc:296] systemMemory: 16.00 GB\n",
      "2024-01-11 08:29:18.984781: I metal_plugin/src/device/metal_device.cc:313] maxCacheSize: 5.33 GB\n",
      "2024-01-11 08:29:18.984809: I tensorflow/core/common_runtime/pluggable_device/pluggable_device_factory.cc:306] Could not identify NUMA node of platform GPU ID 0, defaulting to 0. Your kernel may not have been built with NUMA support.\n",
      "2024-01-11 08:29:18.984822: I tensorflow/core/common_runtime/pluggable_device/pluggable_device_factory.cc:272] Created TensorFlow device (/job:localhost/replica:0/task:0/device:GPU:0 with 0 MB memory) -> physical PluggableDevice (device: 0, name: METAL, pci bus id: <undefined>)\n"
     ]
    }
   ],
   "source": [
    "L63_data_path = '../data/L63-trajectories'\n",
    "N = 20000\n",
    "train = np.load(f'{L63_data_path}/train.npy')[:, :N].astype(np.float32)\n",
    "test = np.load(f'{L63_data_path}/test.npy')[:, :, :1000].astype(np.float32)\n",
    "model = srnn.SurrogateModel_NN(3, 300)"
   ]
  },
  {
   "cell_type": "code",
   "execution_count": 3,
   "id": "29f3a2f6-d413-4364-bd63-3e87f25c5f45",
   "metadata": {},
   "outputs": [
    {
     "name": "stderr",
     "output_type": "stream",
     "text": [
      "WARNING:absl:At this time, the v2.11+ optimizer `tf.keras.optimizers.Adam` runs slowly on M1/M2 Macs, please use the legacy Keras optimizer instead, located at `tf.keras.optimizers.legacy.Adam`.\n",
      "WARNING:absl:`lr` is deprecated in Keras optimizer, please use `learning_rate` or use the legacy optimizer, e.g.,tf.keras.optimizers.legacy.Adam.\n",
      "2024-01-11 08:29:19.192583: I tensorflow/core/grappler/optimizers/custom_graph_optimizer_registry.cc:117] Plugin optimizer for device_type GPU is enabled.\n",
      "2024-01-11 08:29:19.201100: E tensorflow/core/grappler/optimizers/meta_optimizer.cc:961] model_pruner failed: INVALID_ARGUMENT: Graph does not contain terminal node Adam/AssignAddVariableOp.\n"
     ]
    },
    {
     "name": "stdout",
     "output_type": "stream",
     "text": [
      "epoch: 0    loss: 240.755234      time elapsed=0.2732\n",
      "epoch: 100    loss: 18.515656      time elapsed=1.0103\n",
      "epoch: 200    loss: 9.359363      time elapsed=1.7444\n",
      "epoch: 300    loss: 4.688671      time elapsed=2.4837\n",
      "epoch: 400    loss: 2.662088      time elapsed=3.3394\n",
      "epoch: 500    loss: 1.786272      time elapsed=4.0847\n",
      "epoch: 600    loss: 1.347949      time elapsed=4.8755\n",
      "epoch: 700    loss: 1.075942      time elapsed=5.6640\n",
      "epoch: 800    loss: 0.875607      time elapsed=6.4052\n",
      "epoch: 900    loss: 0.723128      time elapsed=7.1682\n",
      "epoch: 1000    loss: 0.605519      time elapsed=7.9731\n",
      "epoch: 1100    loss: 0.511454      time elapsed=8.7150\n",
      "epoch: 1200    loss: 0.434658      time elapsed=9.4527\n",
      "epoch: 1300    loss: 0.371730      time elapsed=10.2188\n",
      "epoch: 1400    loss: 0.319781      time elapsed=11.0244\n",
      "epoch: 1500    loss: 0.276624      time elapsed=11.7955\n",
      "epoch: 1600    loss: 0.240461      time elapsed=12.5918\n",
      "epoch: 1700    loss: 0.209991      time elapsed=13.3372\n",
      "epoch: 1800    loss: 0.184649      time elapsed=14.1030\n",
      "epoch: 1900    loss: 0.162293      time elapsed=14.8678\n",
      "Time taken by learn is 15.6249 seconds\n"
     ]
    }
   ],
   "source": [
    "model.learn(train, epochs=2000, learning_rate=1e-4)"
   ]
  },
  {
   "cell_type": "code",
   "execution_count": 4,
   "id": "f847e2b7-9805-4513-938c-e0bcec7ebbef",
   "metadata": {},
   "outputs": [
    {
     "name": "stdout",
     "output_type": "stream",
     "text": [
      "Working with index = 0\n"
     ]
    },
    {
     "ename": "NotImplementedError",
     "evalue": "in user code:\n\n    File \"/Users/pman0581/Documents/GitHub/random-feature-map/modules/surrogate_tf.py\", line 67, in multistep_forecast  *\n        trajectory[:, 0] = u\n\n    NotImplementedError: Cannot convert a symbolic tf.Tensor (u:0) to a numpy array. This error may indicate that you're trying to pass a Tensor to a NumPy call, which is not supported.\n",
     "output_type": "error",
     "traceback": [
      "\u001b[0;31m---------------------------------------------------------------------------\u001b[0m",
      "\u001b[0;31mNotImplementedError\u001b[0m                       Traceback (most recent call last)",
      "Cell \u001b[0;32mIn[4], line 1\u001b[0m\n\u001b[0;32m----> 1\u001b[0m tau_f_rmse, tau_f_se, rmse, se \u001b[38;5;241m=\u001b[39m \u001b[43mmodel\u001b[49m\u001b[38;5;241;43m.\u001b[39;49m\u001b[43mcompute_tau_f\u001b[49m\u001b[43m(\u001b[49m\u001b[43mtest\u001b[49m\u001b[43m[\u001b[49m\u001b[43m:\u001b[49m\u001b[38;5;241;43m500\u001b[39;49m\u001b[43m,\u001b[49m\u001b[43m \u001b[49m\u001b[43m:\u001b[49m\u001b[43m,\u001b[49m\u001b[43m \u001b[49m\u001b[43m:\u001b[49m\u001b[38;5;241;43m200\u001b[39;49m\u001b[43m]\u001b[49m\u001b[43m,\u001b[49m\u001b[43m \u001b[49m\u001b[43merror_threshold\u001b[49m\u001b[38;5;241;43m=\u001b[39;49m\u001b[38;5;241;43m0.05\u001b[39;49m\u001b[43m)\u001b[49m\n",
      "File \u001b[0;32m~/Documents/GitHub/random-feature-map/modules/utility.py:18\u001b[0m, in \u001b[0;36mtimer.<locals>.new_func\u001b[0;34m(*args, **kwargs)\u001b[0m\n\u001b[1;32m     16\u001b[0m \u001b[38;5;28;01mdef\u001b[39;00m \u001b[38;5;21mnew_func\u001b[39m(\u001b[38;5;241m*\u001b[39margs, \u001b[38;5;241m*\u001b[39m\u001b[38;5;241m*\u001b[39mkwargs):\n\u001b[1;32m     17\u001b[0m \tstart \u001b[38;5;241m=\u001b[39m time()\n\u001b[0;32m---> 18\u001b[0m \tval \u001b[38;5;241m=\u001b[39m \u001b[43mfunc\u001b[49m\u001b[43m(\u001b[49m\u001b[38;5;241;43m*\u001b[39;49m\u001b[43margs\u001b[49m\u001b[43m,\u001b[49m\u001b[38;5;241;43m*\u001b[39;49m\u001b[38;5;241;43m*\u001b[39;49m\u001b[43mkwargs\u001b[49m\u001b[43m)\u001b[49m\n\u001b[1;32m     19\u001b[0m \tend \u001b[38;5;241m=\u001b[39m time()\n\u001b[1;32m     20\u001b[0m \t\u001b[38;5;28mprint\u001b[39m(\u001b[38;5;124mf\u001b[39m\u001b[38;5;124m'\u001b[39m\u001b[38;5;124mTime taken by \u001b[39m\u001b[38;5;132;01m{\u001b[39;00mfunc\u001b[38;5;241m.\u001b[39m\u001b[38;5;18m__name__\u001b[39m\u001b[38;5;132;01m}\u001b[39;00m\u001b[38;5;124m is \u001b[39m\u001b[38;5;132;01m{\u001b[39;00mend\u001b[38;5;241m-\u001b[39mstart\u001b[38;5;132;01m:\u001b[39;00m\u001b[38;5;124m.4f\u001b[39m\u001b[38;5;132;01m}\u001b[39;00m\u001b[38;5;124m seconds\u001b[39m\u001b[38;5;124m'\u001b[39m)\n",
      "File \u001b[0;32m~/Documents/GitHub/random-feature-map/modules/surrogate_tf.py:118\u001b[0m, in \u001b[0;36mSurrogateModel_NN.compute_tau_f\u001b[0;34m(self, test, error_threshold, dt, Lyapunov_time)\u001b[0m\n\u001b[1;32m    116\u001b[0m \u001b[38;5;28mprint\u001b[39m(\u001b[38;5;124mf\u001b[39m\u001b[38;5;124m'\u001b[39m\u001b[38;5;124mWorking with index = \u001b[39m\u001b[38;5;132;01m{\u001b[39;00mvalidation_index\u001b[38;5;132;01m}\u001b[39;00m\u001b[38;5;124m'\u001b[39m)\n\u001b[1;32m    117\u001b[0m validation_ \u001b[38;5;241m=\u001b[39m test[validation_index]\n\u001b[0;32m--> 118\u001b[0m prediction \u001b[38;5;241m=\u001b[39m \u001b[38;5;28;43mself\u001b[39;49m\u001b[38;5;241;43m.\u001b[39;49m\u001b[43mmultistep_forecast\u001b[49m\u001b[43m(\u001b[49m\u001b[43mvalidation_\u001b[49m\u001b[43m[\u001b[49m\u001b[43m:\u001b[49m\u001b[43m,\u001b[49m\u001b[43m \u001b[49m\u001b[38;5;241;43m0\u001b[39;49m\u001b[43m]\u001b[49m\u001b[43m,\u001b[49m\u001b[43m \u001b[49m\u001b[38;5;28;43mself\u001b[39;49m\u001b[38;5;241;43m.\u001b[39;49m\u001b[43mvalidation_points\u001b[49m\u001b[43m)\u001b[49m\n\u001b[1;32m    119\u001b[0m se_ \u001b[38;5;241m=\u001b[39m np\u001b[38;5;241m.\u001b[39mlinalg\u001b[38;5;241m.\u001b[39mnorm(validation_ \u001b[38;5;241m-\u001b[39m prediction, axis\u001b[38;5;241m=\u001b[39m\u001b[38;5;241m0\u001b[39m)\u001b[38;5;241m*\u001b[39m\u001b[38;5;241m*\u001b[39m\u001b[38;5;241m2\u001b[39m \u001b[38;5;241m/\u001b[39m np\u001b[38;5;241m.\u001b[39mlinalg\u001b[38;5;241m.\u001b[39mnorm(validation_, axis\u001b[38;5;241m=\u001b[39m\u001b[38;5;241m0\u001b[39m)\u001b[38;5;241m*\u001b[39m\u001b[38;5;241m*\u001b[39m\u001b[38;5;241m2\u001b[39m\n\u001b[1;32m    120\u001b[0m mse_ \u001b[38;5;241m=\u001b[39m np\u001b[38;5;241m.\u001b[39mcumsum(se_) \u001b[38;5;241m/\u001b[39m np\u001b[38;5;241m.\u001b[39marange(\u001b[38;5;241m1\u001b[39m, \u001b[38;5;28mlen\u001b[39m(se_)\u001b[38;5;241m+\u001b[39m\u001b[38;5;241m1\u001b[39m)\n",
      "File \u001b[0;32m~/miniconda3/envs/metal/lib/python3.11/site-packages/tensorflow/python/util/traceback_utils.py:153\u001b[0m, in \u001b[0;36mfilter_traceback.<locals>.error_handler\u001b[0;34m(*args, **kwargs)\u001b[0m\n\u001b[1;32m    151\u001b[0m \u001b[38;5;28;01mexcept\u001b[39;00m \u001b[38;5;167;01mException\u001b[39;00m \u001b[38;5;28;01mas\u001b[39;00m e:\n\u001b[1;32m    152\u001b[0m   filtered_tb \u001b[38;5;241m=\u001b[39m _process_traceback_frames(e\u001b[38;5;241m.\u001b[39m__traceback__)\n\u001b[0;32m--> 153\u001b[0m   \u001b[38;5;28;01mraise\u001b[39;00m e\u001b[38;5;241m.\u001b[39mwith_traceback(filtered_tb) \u001b[38;5;28;01mfrom\u001b[39;00m \u001b[38;5;28;01mNone\u001b[39;00m\n\u001b[1;32m    154\u001b[0m \u001b[38;5;28;01mfinally\u001b[39;00m:\n\u001b[1;32m    155\u001b[0m   \u001b[38;5;28;01mdel\u001b[39;00m filtered_tb\n",
      "File \u001b[0;32m/var/folders/v9/pbbcbpgd4mj4sbplbm4ht36r0000gq/T/__autograph_generated_fileadb_7c6m.py:20\u001b[0m, in \u001b[0;36mouter_factory.<locals>.inner_factory.<locals>.tf__multistep_forecast\u001b[0;34m(self, u, n_steps)\u001b[0m\n\u001b[1;32m     18\u001b[0m retval_ \u001b[38;5;241m=\u001b[39m ag__\u001b[38;5;241m.\u001b[39mUndefinedReturnValue()\n\u001b[1;32m     19\u001b[0m trajectory \u001b[38;5;241m=\u001b[39m ag__\u001b[38;5;241m.\u001b[39mconverted_call(ag__\u001b[38;5;241m.\u001b[39mld(np)\u001b[38;5;241m.\u001b[39mzeros, ((ag__\u001b[38;5;241m.\u001b[39mld(\u001b[38;5;28mself\u001b[39m)\u001b[38;5;241m.\u001b[39mD, ag__\u001b[38;5;241m.\u001b[39mld(n_steps)),), \u001b[38;5;28;01mNone\u001b[39;00m, fscope)\n\u001b[0;32m---> 20\u001b[0m \u001b[43mag__\u001b[49m\u001b[38;5;241;43m.\u001b[39;49m\u001b[43mld\u001b[49m\u001b[43m(\u001b[49m\u001b[43mtrajectory\u001b[49m\u001b[43m)\u001b[49m\u001b[43m[\u001b[49m\u001b[43m:\u001b[49m\u001b[43m,\u001b[49m\u001b[43m \u001b[49m\u001b[38;5;241;43m0\u001b[39;49m\u001b[43m]\u001b[49m \u001b[38;5;241m=\u001b[39m ag__\u001b[38;5;241m.\u001b[39mld(u)\n\u001b[1;32m     22\u001b[0m \u001b[38;5;28;01mdef\u001b[39;00m \u001b[38;5;21mget_state\u001b[39m():\n\u001b[1;32m     23\u001b[0m     \u001b[38;5;28;01mreturn\u001b[39;00m (u,)\n",
      "\u001b[0;31mNotImplementedError\u001b[0m: in user code:\n\n    File \"/Users/pman0581/Documents/GitHub/random-feature-map/modules/surrogate_tf.py\", line 67, in multistep_forecast  *\n        trajectory[:, 0] = u\n\n    NotImplementedError: Cannot convert a symbolic tf.Tensor (u:0) to a numpy array. This error may indicate that you're trying to pass a Tensor to a NumPy call, which is not supported.\n"
     ]
    }
   ],
   "source": [
    "tau_f_rmse, tau_f_se, rmse, se = model.compute_tau_f(test[:500, :, :200], error_threshold=0.05)"
   ]
  },
  {
   "cell_type": "code",
   "execution_count": null,
   "id": "d306fb85-6025-41db-92b1-2f5c271f027f",
   "metadata": {},
   "outputs": [],
   "source": [
    "plt.hist(tau_f_se, density=True)\n",
    "plt.xlabel(r'$\\tau_f$ (NN)')\n",
    "plt.savefig('../data/plots/tau_f_NN.png')\n",
    "# plt.title(f'training_data_size={N}')"
   ]
  },
  {
   "cell_type": "code",
   "execution_count": null,
   "id": "d390eee1-fdde-4ccf-a9b4-a15c687f4664",
   "metadata": {},
   "outputs": [],
   "source": [
    "tau_f_rmse, tau_f_se, rmse, se = model.compute_tau_f(train.T.reshape(-1, 3, 800))\n",
    "\n",
    "plt.hist(tau_f_se)\n",
    "plt.xlabel(r'$\\tau_f$ (NN), for train data')\n",
    "plt.title(f'training_data_size={N}')"
   ]
  },
  {
   "cell_type": "code",
   "execution_count": null,
   "id": "8c79f068-8b41-4a20-8952-f3a3e1b908e9",
   "metadata": {},
   "outputs": [],
   "source": [
    "fig, N, dt = plt.figure(figsize=(8, 8)), 500, 0.02\n",
    "t = np.arange(0., N*dt, dt) / (1/0.91)\n",
    "axs = [fig.add_subplot(311), fig.add_subplot(312), fig.add_subplot(313)]\n",
    "dims = ['x', 'y', 'z']\n",
    "u = np.load('{}/validation.npy'.format(L63_data_path))\n",
    "\n",
    "idx = [[4, 14, 18], [13, 17, 46], [13, 2, 31], ]\n",
    "labels = ['good', 'medium', 'bad']\n",
    "predicted = model.multistep_forecast(u[:, 0], N)\n",
    "for i, ax in enumerate(axs):\n",
    "    ax.plot(t, u[i, :N], label='truth')\n",
    "    ax.plot(t, predicted[i, :N], label='network')\n",
    "    ax.legend(loc='upper right')\n",
    "    if i == len(dims)-1:\n",
    "        ax.set_xlabel('t')\n",
    "    ax.set_ylabel(dims[i])"
   ]
  },
  {
   "cell_type": "code",
   "execution_count": null,
   "id": "d8cd8878-8d51-489e-921b-1ff1b696f2e6",
   "metadata": {},
   "outputs": [],
   "source": [
    "test[:500].shape"
   ]
  },
  {
   "cell_type": "code",
   "execution_count": null,
   "id": "d302b37d-ba9a-4286-908e-88e97e6f4330",
   "metadata": {},
   "outputs": [],
   "source": [
    "model.multistep_forecast(np.random.normal(size=(1, 3)).astype(np.float32), 10).T"
   ]
  },
  {
   "cell_type": "code",
   "execution_count": 8,
   "id": "b3e386bc-5acb-435f-8929-262796e75116",
   "metadata": {},
   "outputs": [],
   "source": [
    "df = pd.DataFrame({'iteration': [], 'loss': [], 'runtime': [], 'hardware': []})\n",
    "df.to_csv('empty.csv', index=None)"
   ]
  },
  {
   "cell_type": "code",
   "execution_count": 5,
   "id": "18f37f73-c27d-4007-9073-b7eac4e2dd21",
   "metadata": {},
   "outputs": [
    {
     "data": {
      "text/html": [
       "<div>\n",
       "<style scoped>\n",
       "    .dataframe tbody tr th:only-of-type {\n",
       "        vertical-align: middle;\n",
       "    }\n",
       "\n",
       "    .dataframe tbody tr th {\n",
       "        vertical-align: top;\n",
       "    }\n",
       "\n",
       "    .dataframe thead th {\n",
       "        text-align: right;\n",
       "    }\n",
       "</style>\n",
       "<table border=\"1\" class=\"dataframe\">\n",
       "  <thead>\n",
       "    <tr style=\"text-align: right;\">\n",
       "      <th></th>\n",
       "    </tr>\n",
       "  </thead>\n",
       "  <tbody>\n",
       "  </tbody>\n",
       "</table>\n",
       "</div>"
      ],
      "text/plain": [
       "Empty DataFrame\n",
       "Columns: []\n",
       "Index: []"
      ]
     },
     "execution_count": 5,
     "metadata": {},
     "output_type": "execute_result"
    }
   ],
   "source": [
    "df"
   ]
  },
  {
   "cell_type": "code",
   "execution_count": null,
   "id": "87dd4ba6-fbe5-4988-942d-4439fd203de6",
   "metadata": {},
   "outputs": [],
   "source": []
  }
 ],
 "metadata": {
  "kernelspec": {
   "display_name": "Python 3 (ipykernel)",
   "language": "python",
   "name": "python3"
  },
  "language_info": {
   "codemirror_mode": {
    "name": "ipython",
    "version": 3
   },
   "file_extension": ".py",
   "mimetype": "text/x-python",
   "name": "python",
   "nbconvert_exporter": "python",
   "pygments_lexer": "ipython3",
   "version": "3.11.5"
  }
 },
 "nbformat": 4,
 "nbformat_minor": 5
}
