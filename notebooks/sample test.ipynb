{
 "cells": [
  {
   "cell_type": "code",
   "execution_count": 1,
   "id": "eef3b535-43d6-4d73-95ae-f84d69f82537",
   "metadata": {},
   "outputs": [],
   "source": [
    "import numpy as np \n",
    "from scipy.integrate import odeint\n",
    "import os, sys \n",
    "from pathlib import Path\n",
    "from os.path import dirname, realpath\n",
    "script_dir = Path(dirname(realpath('.')))\n",
    "module_dir = str(script_dir)\n",
    "sys.path.insert(0, module_dir + '/modules')\n",
    "import utility as ut\n",
    "import sample as sm\n",
    "import matplotlib.pyplot as plt\n",
    "import pandas as pd"
   ]
  },
  {
   "cell_type": "code",
   "execution_count": 2,
   "id": "f792e724-4c70-47ff-b0d9-197558b48291",
   "metadata": {},
   "outputs": [
    {
     "name": "stdout",
     "output_type": "stream",
     "text": [
      "Time taken by sample is 0.0083 seconds\n",
      "(1, 300, 3) (1, 300)\n",
      "Time taken by sample_parallel is 0.7417 seconds\n",
      "(1, 300, 3) (1, 300)\n",
      "Time taken by sample_parallel_3 is 0.3146 seconds\n",
      "(1, 300, 3) (1, 300)\n"
     ]
    }
   ],
   "source": [
    "L63_data_folder = '../data/L63-trajectories'\n",
    "u = np.load('{}/validation.npy'.format(L63_data_folder))\n",
    "rs = sm.MatrixSampler(0.4, 3.5, u.T)\n",
    "n_rows = [200, 50, 50] \n",
    "n_sample = 1\n",
    "rows, bs = rs.sample(n_rows, n_sample)\n",
    "print(rows.shape, bs.shape)\n",
    "rows, bs = rs.sample_parallel(n_rows, n_sample)\n",
    "print(rows.shape, bs.shape)\n",
    "rows, bs = rs.sample_parallel_3(n_rows, n_sample)\n",
    "print(rows.shape, bs.shape)"
   ]
  },
  {
   "cell_type": "code",
   "execution_count": 3,
   "id": "35acbd1c-50a1-41eb-b04e-d61393e9a8d9",
   "metadata": {},
   "outputs": [],
   "source": [
    "ms = sm.MatrixSampler(0.4, 3.5, u.T)\n",
    "m, b = ms.sample_([200, 50, 50])"
   ]
  },
  {
   "cell_type": "code",
   "execution_count": 4,
   "id": "9e77fc07-644e-4c9c-b8f6-8a3d8a70d71d",
   "metadata": {},
   "outputs": [
    {
     "data": {
      "text/plain": [
       "200"
      ]
     },
     "execution_count": 4,
     "metadata": {},
     "output_type": "execute_result"
    }
   ],
   "source": [
    "rs = sm.GoodRowSampler(0.4, 3.5, u.T)\n",
    "f = rs.are_rows(rows[0], bs[0])\n",
    "f.sum()"
   ]
  },
  {
   "cell_type": "code",
   "execution_count": 5,
   "id": "c779107c-2bbd-41fd-8809-14390d0907a3",
   "metadata": {},
   "outputs": [
    {
     "data": {
      "text/plain": [
       "50"
      ]
     },
     "execution_count": 5,
     "metadata": {},
     "output_type": "execute_result"
    }
   ],
   "source": [
    "rs = sm.BadRowSamplerLinear(0.4, u.T)\n",
    "f = rs.are_rows(rows[0], bs[0])\n",
    "f.sum()"
   ]
  },
  {
   "cell_type": "code",
   "execution_count": 8,
   "id": "f7ec9c77-07c3-4811-af16-dc526457856c",
   "metadata": {},
   "outputs": [
    {
     "data": {
      "text/plain": [
       "50"
      ]
     },
     "execution_count": 8,
     "metadata": {},
     "output_type": "execute_result"
    }
   ],
   "source": [
    "rs = sm.BadRowSamplerExtreme(3.5, u.T)\n",
    "f = rs.are_rows(rows[0], bs[0])\n",
    "f.sum()"
   ]
  },
  {
   "cell_type": "code",
   "execution_count": null,
   "id": "4962d241-2af7-4968-acfc-4f665ffea361",
   "metadata": {},
   "outputs": [],
   "source": []
  }
 ],
 "metadata": {
  "kernelspec": {
   "display_name": "Python 3 (ipykernel)",
   "language": "python",
   "name": "python3"
  },
  "language_info": {
   "codemirror_mode": {
    "name": "ipython",
    "version": 3
   },
   "file_extension": ".py",
   "mimetype": "text/x-python",
   "name": "python",
   "nbconvert_exporter": "python",
   "pygments_lexer": "ipython3",
   "version": "3.11.5"
  }
 },
 "nbformat": 4,
 "nbformat_minor": 5
}
