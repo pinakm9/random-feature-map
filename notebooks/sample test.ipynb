{
 "cells": [
  {
   "cell_type": "code",
   "execution_count": 1,
   "id": "eef3b535-43d6-4d73-95ae-f84d69f82537",
   "metadata": {},
   "outputs": [],
   "source": [
    "import numpy as np \n",
    "from scipy.integrate import odeint\n",
    "import os, sys \n",
    "from pathlib import Path\n",
    "from os.path import dirname, realpath\n",
    "script_dir = Path(dirname(realpath('.')))\n",
    "module_dir = str(script_dir)\n",
    "sys.path.insert(0, module_dir + '/modules')\n",
    "import utility as ut\n",
    "import sample as sm\n",
    "import matplotlib.pyplot as plt\n",
    "import pandas as pd"
   ]
  },
  {
   "cell_type": "code",
   "execution_count": 3,
   "id": "f792e724-4c70-47ff-b0d9-197558b48291",
   "metadata": {},
   "outputs": [
    {
     "name": "stdout",
     "output_type": "stream",
     "text": [
      "Time taken by sample is 29.8558030128479 seconds\n",
      "(2048, 300, 3) (2048, 300)\n",
      "Time taken by sample_parallel is 7.632298946380615 seconds\n",
      "(2048, 300, 3) (2048, 300)\n",
      "Time taken by sample_parallel_3 is 16.06141686439514 seconds\n",
      "(2048, 300, 3) (2048, 300)\n"
     ]
    }
   ],
   "source": [
    "L63_data_folder = '../data/L63-trajectories'\n",
    "u = np.load('{}/validation.npy'.format(L63_data_folder))\n",
    "rs = sm.MatrixSampler(0.4, 3.5, u.T)\n",
    "n_rows = [200, 50, 50] \n",
    "n_sample = 2048\n",
    "rows, bs = rs.sample(n_rows, n_sample)\n",
    "print(rows.shape, bs.shape)\n",
    "rows, bs = rs.sample_parallel(n_rows, n_sample)\n",
    "print(rows.shape, bs.shape)\n",
    "rows, bs = rs.sample_parallel_3(n_rows, n_sample)\n",
    "print(rows.shape, bs.shape)"
   ]
  },
  {
   "cell_type": "code",
   "execution_count": 3,
   "id": "06ead317-8b52-472f-bf18-9d58c3a6848d",
   "metadata": {},
   "outputs": [],
   "source": [
    "# for i in range(50):\n",
    "#     rows, bs = rs.sample(300)\n",
    "#     print(rs.test_rows(rows, bs).sum())"
   ]
  },
  {
   "cell_type": "code",
   "execution_count": 4,
   "id": "7cf1fab9-4704-464a-91ab-e56f528ea508",
   "metadata": {},
   "outputs": [
    {
     "data": {
      "text/plain": [
       "10000"
      ]
     },
     "execution_count": 4,
     "metadata": {},
     "output_type": "execute_result"
    }
   ],
   "source": [
    "res = []\n",
    "for _ in range(10000):\n",
    "    ratio = np.random.randint(low=1, high=3, size=3).astype(float)\n",
    "    ratio /= ratio.sum()\n",
    "    n_rows = 300\n",
    "    res.append((n_rows * ratio).astype(int).sum() == n_rows)\n",
    "np.array(res).sum()"
   ]
  },
  {
   "cell_type": "code",
   "execution_count": 5,
   "id": "a2df3d35-5e14-4447-bc7e-e3641994cd01",
   "metadata": {},
   "outputs": [
    {
     "data": {
      "text/plain": [
       "(500, 300, 3)"
      ]
     },
     "execution_count": 5,
     "metadata": {},
     "output_type": "execute_result"
    }
   ],
   "source": [
    "rows.shape"
   ]
  },
  {
   "cell_type": "code",
   "execution_count": 6,
   "id": "61a6a989-a8ee-402f-9743-4d325680e4a2",
   "metadata": {},
   "outputs": [
    {
     "data": {
      "text/plain": [
       "array([[1, 2],\n",
       "       [3, 4],\n",
       "       [5, 6]])"
      ]
     },
     "execution_count": 6,
     "metadata": {},
     "output_type": "execute_result"
    }
   ],
   "source": [
    "a = np.array([[1, 2], [3, 4]])\n",
    "b = np.array([[5, 6]])\n",
    "np.vstack([a, b])"
   ]
  },
  {
   "cell_type": "code",
   "execution_count": 7,
   "id": "35acbd1c-50a1-41eb-b04e-d61393e9a8d9",
   "metadata": {},
   "outputs": [],
   "source": [
    "ms = sm.MatrixSampler(0.4, 3.5, u.T)\n",
    "m, b = ms.sample_([200, 50, 50])"
   ]
  },
  {
   "cell_type": "code",
   "execution_count": 8,
   "id": "638ffef3-e3c6-44a3-86d2-8fb7f3d5e04a",
   "metadata": {},
   "outputs": [],
   "source": [
    "n = 10\n",
    "dx = 100./10.\n",
    "l = np.arange(0., 100. + dx, dx)\n",
    "d = ((100. + dx - l) / dx).astype(int)"
   ]
  },
  {
   "cell_type": "code",
   "execution_count": 9,
   "id": "9b51c8ed-efda-4d07-a0fc-c48f9c02b0ba",
   "metadata": {},
   "outputs": [
    {
     "data": {
      "text/plain": [
       "(array([  0.,  10.,  20.,  30.,  40.,  50.,  60.,  70.,  80.,  90., 100.]),\n",
       " array([11, 10,  9,  8,  7,  6,  5,  4,  3,  2,  1]))"
      ]
     },
     "execution_count": 9,
     "metadata": {},
     "output_type": "execute_result"
    }
   ],
   "source": [
    "l, d"
   ]
  },
  {
   "cell_type": "code",
   "execution_count": 10,
   "id": "5e4e2b65-e394-46b2-9e74-eaf45ead1d71",
   "metadata": {},
   "outputs": [
    {
     "ename": "TypeError",
     "evalue": "len() takes exactly one argument (0 given)",
     "output_type": "error",
     "traceback": [
      "\u001b[0;31m---------------------------------------------------------------------------\u001b[0m",
      "\u001b[0;31mTypeError\u001b[0m                                 Traceback (most recent call last)",
      "Cell \u001b[0;32mIn[10], line 1\u001b[0m\n\u001b[0;32m----> 1\u001b[0m \u001b[38;5;28;43mlen\u001b[39;49m\u001b[43m(\u001b[49m\u001b[43m)\u001b[49m\n",
      "\u001b[0;31mTypeError\u001b[0m: len() takes exactly one argument (0 given)"
     ]
    }
   ],
   "source": [
    "len()"
   ]
  },
  {
   "cell_type": "code",
   "execution_count": null,
   "id": "40048eb2-7a65-4da1-9164-be29ffe18337",
   "metadata": {},
   "outputs": [],
   "source": [
    "def get_row_partitions(n_rows):\n",
    "    i = np.random.randint(len(l))\n",
    "    good = int(l[i]* n_rows / 100.)\n",
    "    j = np.random.randint(d[i])\n",
    "    linear = int(l[j]* n_rows / 100.)\n",
    "    extreme = n_rows - good - linear\n",
    "    return [good, linear, extreme]"
   ]
  },
  {
   "cell_type": "code",
   "execution_count": null,
   "id": "3572c7d1-d1a3-4aeb-bf05-9c2ba9b332a8",
   "metadata": {},
   "outputs": [],
   "source": [
    "for _ in range(50):\n",
    "    print(get_row_partitions(300))"
   ]
  },
  {
   "cell_type": "code",
   "execution_count": null,
   "id": "5abbe4b1-053b-43f4-9117-b0a5da54d96f",
   "metadata": {},
   "outputs": [],
   "source": [
    "(6 * 12 / 2) * 500"
   ]
  },
  {
   "cell_type": "code",
   "execution_count": null,
   "id": "9f06ca4c-8629-4eee-8d67-532b755dbfeb",
   "metadata": {},
   "outputs": [],
   "source": [
    "!pip install joblib"
   ]
  },
  {
   "cell_type": "code",
   "execution_count": null,
   "id": "49ee6717-aca9-4d04-bef7-3a97b41295ac",
   "metadata": {},
   "outputs": [],
   "source": [
    "np.hstack([1., 3., 4.])"
   ]
  },
  {
   "cell_type": "code",
   "execution_count": null,
   "id": "c9bd2545-b2ca-4cbe-b069-72ca56b90e94",
   "metadata": {},
   "outputs": [],
   "source": [
    "g = lambda x: np.linalg.norm(x)"
   ]
  },
  {
   "cell_type": "code",
   "execution_count": null,
   "id": "9e77fc07-644e-4c9c-b8f6-8a3d8a70d71d",
   "metadata": {},
   "outputs": [],
   "source": [
    "rs = sm.GoodRowSampler(0.4, 3.5, u.T)\n",
    "rows, bs = rs.sample(300)"
   ]
  },
  {
   "cell_type": "code",
   "execution_count": null,
   "id": "c779107c-2bbd-41fd-8809-14390d0907a3",
   "metadata": {},
   "outputs": [],
   "source": [
    "rows.shape, bs.shape"
   ]
  },
  {
   "cell_type": "code",
   "execution_count": 4,
   "id": "026558a7-0684-44aa-b8ae-3461a4dd29ca",
   "metadata": {},
   "outputs": [
    {
     "name": "stdout",
     "output_type": "stream",
     "text": [
      "1.11\n"
     ]
    }
   ],
   "source": [
    "a = 4.5657\n",
    "b = 5.6768\n",
    "print(f'{b-a:.2f}')"
   ]
  },
  {
   "cell_type": "code",
   "execution_count": null,
   "id": "f7ec9c77-07c3-4811-af16-dc526457856c",
   "metadata": {},
   "outputs": [],
   "source": []
  }
 ],
 "metadata": {
  "kernelspec": {
   "display_name": "Python 3 (ipykernel)",
   "language": "python",
   "name": "python3"
  },
  "language_info": {
   "codemirror_mode": {
    "name": "ipython",
    "version": 3
   },
   "file_extension": ".py",
   "mimetype": "text/x-python",
   "name": "python",
   "nbconvert_exporter": "python",
   "pygments_lexer": "ipython3",
   "version": "3.11.5"
  }
 },
 "nbformat": 4,
 "nbformat_minor": 5
}
