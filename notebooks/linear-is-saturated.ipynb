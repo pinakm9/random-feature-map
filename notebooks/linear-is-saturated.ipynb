{
 "cells": [
  {
   "cell_type": "code",
   "execution_count": 1,
   "id": "d076dac6-0ee1-4506-b7ed-d73ee4247453",
   "metadata": {},
   "outputs": [],
   "source": [
    "import numpy as np \n",
    "from scipy.integrate import odeint\n",
    "import os, sys \n",
    "from pathlib import Path\n",
    "from os.path import dirname, realpath\n",
    "script_dir = Path(dirname(realpath('.')))\n",
    "module_dir = str(script_dir)\n",
    "sys.path.insert(0, module_dir + '/modules')\n",
    "import utility as ut\n",
    "import surrogate1 as sr1\n",
    "import matplotlib.pyplot as plt\n",
    "import pandas as pd\n",
    "import warnings\n",
    "from scipy import stats\n",
    "import seaborn as sns\n",
    "# warnings.filterwarnings('ignore')"
   ]
  },
  {
   "cell_type": "code",
   "execution_count": 2,
   "id": "790a69d4-9ea6-4d25-8f8f-675539506148",
   "metadata": {},
   "outputs": [],
   "source": [
    "D, D_r = 3, 2048\n",
    "d = int(D_r/2)\n",
    "save_folder = f'../data/good-linear-saturated/linear'\n",
    "Lyapunov_time, dt = 1./.91, 0.02\n",
    "error_threshold = 0.05\n",
    "beta = 4e-5\n",
    "L0, L1 = 0.4, 3.5\n",
    "percents = 50\n",
    "n_repeats = 500\n",
    "n_models = percents * n_repeats\n",
    "row_selection = 'good_50_50'\n",
    "train_option = 'random_20000'\n",
    "repo = '..'\n",
    "L63_data_folder = '{}/data/L63-trajectories'.format(repo)\n",
    "train = np.load('{}/train.npy'.format(L63_data_folder))\n",
    "test = np.load('{}/test.npy'.format(L63_data_folder))\n",
    "limits_W_in, limits_W = [-0.1, 0.1], [-.5, .5]\n",
    "\n",
    "batch = sr1.BatchStrategy_SMLR(save_folder, D, D_r, n_repeats, beta, error_threshold, train, test, dt, Lyapunov_time, L0, L1, percents,\\\n",
    "                          row_selection, train_option, limits_W_in, limits_W)\n",
    "# batch.run_single_partition([d, d, 0], length=1374, save_data=True, batch_size=50)\n",
    "# bsa = sr1.BatchStrategyAnalyzer_SMLR(batch.save_folder)\n",
    "# bsa.compute_train_loss(train)\n",
    "# bsa.compute_test_loss_single(test)"
   ]
  },
  {
   "cell_type": "code",
   "execution_count": null,
   "id": "6658347c-bfd4-4b09-a139-83ca19096bd3",
   "metadata": {},
   "outputs": [
    {
     "name": "stdout",
     "output_type": "stream",
     "text": [
      "Working on batch 0 ...\n"
     ]
    },
    {
     "name": "stderr",
     "output_type": "stream",
     "text": [
      "/Users/pman0581/Documents/GitHub/random-feature-map/modules/sample.py:599: RuntimeWarning: overflow encountered in add\n",
      "  x += t*d\n",
      "/Users/pman0581/Documents/GitHub/random-feature-map/modules/sample.py:560: RuntimeWarning: invalid value encountered in subtract\n",
      "  self.x0 = x0 - np.dot(x0, d) * d\n",
      "/Users/pman0581/Documents/GitHub/random-feature-map/modules/sample.py:599: RuntimeWarning: overflow encountered in add\n",
      "  x += t*d\n",
      "/Users/pman0581/Documents/GitHub/random-feature-map/modules/sample.py:560: RuntimeWarning: invalid value encountered in subtract\n",
      "  self.x0 = x0 - np.dot(x0, d) * d\n"
     ]
    }
   ],
   "source": [
    "save_folder = f'../data/good-linear-saturated/saturated'\n",
    "batch = sr1.BatchStrategy_SMLR(save_folder, D, D_r, n_repeats, beta, error_threshold, train, test, dt, Lyapunov_time, L0, L1, percents,\\\n",
    "                          row_selection, train_option, limits_W_in, limits_W)\n",
    "batch.run_single_partition([d, 0, d], length=1374, save_data=True, batch_size=50)\n",
    "bsa = sr1.BatchStrategyAnalyzer_SMLR(batch.save_folder)\n",
    "# bsa.compute_train_loss(train)\n",
    "# bsa.compute_test_loss_single(test)"
   ]
  },
  {
   "cell_type": "code",
   "execution_count": null,
   "id": "28083edd-45aa-4cab-bdff-641dbaa9d4c2",
   "metadata": {},
   "outputs": [],
   "source": [
    "save_folder = f'../data/good-linear-saturated/good'\n",
    "batch = sr1.BatchStrategy_SMLR(save_folder, D, d, n_repeats, beta, error_threshold, train, test, dt, Lyapunov_time, L0, L1, percents,\\\n",
    "                          row_selection, train_option, limits_W_in, limits_W)\n",
    "batch.run_single_partition([d, 0, 0], length=1374, save_data=True, batch_size=500)\n",
    "bsa = sr1.BatchStrategyAnalyzer_SMLR(batch.save_folder)\n",
    "# bsa.compute_train_loss(train)\n",
    "# bsa.compute_test_loss_single(test)"
   ]
  },
  {
   "cell_type": "code",
   "execution_count": null,
   "id": "63c5a884-4afb-4220-b227-5471f062e50e",
   "metadata": {},
   "outputs": [],
   "source": [
    "save_folder = f'../data/standard-multi-valid'\n",
    "batch = sr1.BatchStrategy_SMLR(save_folder, D, 300, 500, beta, error_threshold, train, test[:500], dt, Lyapunov_time, L0, L1, percents,\\\n",
    "                          row_selection, train_option, limits_W_in, limits_W)\n",
    "batch.run_single_partition_multi_valid([300, 0, 0], length=1374, save_data=True, batch_size=500)\n",
    "bsa = sr1.BatchStrategyAnalyzer_SMLR(batch.save_folder)\n",
    "bsa.compute_train_loss(train)"
   ]
  },
  {
   "cell_type": "code",
   "execution_count": null,
   "id": "3712b9fd-e22c-41d0-8f81-7f5b3182f459",
   "metadata": {},
   "outputs": [],
   "source": [
    "fig = plt.figure(figsize=(15, 5))\n",
    "ax = fig.add_subplot(132)\n",
    "ax1 = fig.add_subplot(131)\n",
    "ax2 = fig.add_subplot(133)\n",
    "\n",
    "# bsa_g = sr1.BatchStrategyAnalyzer_SMLR(f'../data/good-linear-saturated/good')\n",
    "bsa_l = sr1.BatchStrategyAnalyzer_SMLR(f'../data/good-linear-saturated/linear')\n",
    "bsa_s = sr1.BatchStrategyAnalyzer_SMLR(f'../data/good-linear-saturated/saturated')\n",
    "bsa_1 = sr1.BatchStrategyAnalyzer_SMLR('../data/L63-Strategy-varying-featuresize/' + str(d))\n",
    "bsa_2 = sr1.BatchStrategyAnalyzer_SMLR('../data/L63-Strategy-varying-featuresize/' + str(D_r))\n",
    "\n",
    "# data_g = bsa_g.get_data()\n",
    "data_l = bsa_l.get_data()\n",
    "data_s = bsa_s.get_data()\n",
    "data_1 = bsa_1.get_data()\n",
    "data_2 = bsa_2.get_data()\n",
    "\n",
    "data_1 = data_1[data_1['good_rows_W_in']==1]\n",
    "data_2 = data_2[data_2['good_rows_W_in']==0.5]\n",
    "\n",
    "sns.histplot(data_1['tau_f_se'], stat='probability', label=fr'$D_r$={d}, $p_g=1$', ax=ax, alpha=1.)\n",
    "sns.histplot(data_l['tau_f_se'], stat='probability', label=fr'$D_r$={D_r}, $p_g=p_l=0.5$', ax=ax, alpha=0.65)\n",
    "\n",
    "ax.set_xlabel(r'$\\tau_f$', fontsize=13)\n",
    "ax.set_ylabel(r'', fontsize=13)\n",
    "ax.legend(fontsize=13)\n",
    "# ax.set_title(r'One type of bad rows present for larger $D_r$')\n",
    "\n",
    "sns.histplot(data_1['tau_f_se'], stat='probability', label=fr'$D_r$={d}, $p_g=1$', ax=ax1, alpha=1.)\n",
    "sns.histplot(data_2['tau_f_se'], stat='probability', label=fr'$D_r$={D_r}, $p_l=p_s=0.25$', ax=ax1, alpha=0.65)\n",
    "ax1.set_xlabel(r'$\\tau_f$', fontsize=13)\n",
    "ax1.set_ylabel(r'', fontsize=13)\n",
    "ax1.legend(fontsize=13)\n",
    "# ax1.set_title(r'All types of rows for larger $D_r$')\n",
    "\n",
    "sns.histplot(data_1['tau_f_se'], stat='probability', label=fr'$D_r$={d}, $p_g=1$', ax=ax2, alpha=1.)\n",
    "sns.histplot(data_s['tau_f_se'], stat='probability', label=fr'$D_r$={D_r}, $p_g=p_s=0.5$', ax=ax2, alpha=0.65)\n",
    "ax2.set_xlabel(r'$\\tau_f$', fontsize=13)\n",
    "ax2.set_ylabel(r'', fontsize=13)\n",
    "ax2.legend(fontsize=13)\n",
    "# ax2.set_title(r'Good and saturated rows for larger $D_r$')\n",
    "\n",
    "fig.subplots_adjust(wspace=0.23)\n",
    "plt.savefig('../data/plots/tau_f-gls.png', dpi=300, bbox_inches='tight')"
   ]
  },
  {
   "cell_type": "code",
   "execution_count": null,
   "id": "aaa7d2f9-432d-4fcd-84b3-d0ddc326fc8a",
   "metadata": {},
   "outputs": [],
   "source": []
  },
  {
   "cell_type": "code",
   "execution_count": null,
   "id": "88e61563-b39e-4e4b-83de-ba6de72890f7",
   "metadata": {},
   "outputs": [],
   "source": []
  }
 ],
 "metadata": {
  "kernelspec": {
   "display_name": "Python 3 (ipykernel)",
   "language": "python",
   "name": "python3"
  },
  "language_info": {
   "codemirror_mode": {
    "name": "ipython",
    "version": 3
   },
   "file_extension": ".py",
   "mimetype": "text/x-python",
   "name": "python",
   "nbconvert_exporter": "python",
   "pygments_lexer": "ipython3",
   "version": "3.11.5"
  }
 },
 "nbformat": 4,
 "nbformat_minor": 5
}
