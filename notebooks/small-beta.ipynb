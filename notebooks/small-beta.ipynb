{
 "cells": [
  {
   "cell_type": "code",
   "execution_count": 6,
   "id": "e4859829-dae2-43c8-9ad1-8e3c6ba65888",
   "metadata": {},
   "outputs": [],
   "source": [
    "import numpy as np \n",
    "from scipy.integrate import odeint\n",
    "import os, sys \n",
    "from pathlib import Path\n",
    "from os.path import dirname, realpath\n",
    "script_dir = Path(dirname(realpath('.')))\n",
    "module_dir = str(script_dir)\n",
    "sys.path.insert(0, module_dir + '/modules')\n",
    "import utility as ut\n",
    "import surrogate1 as sr1\n",
    "import matplotlib.pyplot as plt\n",
    "import pandas as pd\n",
    "from scipy import stats\n",
    "import seaborn as sns\n",
    "import sample as sm\n",
    "import hr_full as hr\n",
    "import hr_restrict as hrr\n",
    "# warnings.filterwarnings('ignore')"
   ]
  },
  {
   "cell_type": "code",
   "execution_count": null,
   "id": "8e135da9-8dec-4153-95bc-f21b477d15a8",
   "metadata": {},
   "outputs": [
    {
     "name": "stdout",
     "output_type": "stream",
     "text": [
      "Generating parameters for 0.0% good rows ...\n"
     ]
    },
    {
     "name": "stderr",
     "output_type": "stream",
     "text": [
      "/Users/pman0581/Documents/GitHub/random-feature-map/modules/sample.py:599: RuntimeWarning: overflow encountered in add\n",
      "  x += t*d\n",
      "/Users/pman0581/Documents/GitHub/random-feature-map/modules/sample.py:560: RuntimeWarning: invalid value encountered in subtract\n",
      "  self.x0 = x0 - np.dot(x0, d) * d\n",
      "/Users/pman0581/Documents/GitHub/random-feature-map/modules/sample.py:599: RuntimeWarning: overflow encountered in add\n",
      "  x += t*d\n",
      "/Users/pman0581/Documents/GitHub/random-feature-map/modules/sample.py:560: RuntimeWarning: invalid value encountered in subtract\n",
      "  self.x0 = x0 - np.dot(x0, d) * d\n"
     ]
    }
   ],
   "source": [
    "D, D_r = 3, 2048\n",
    "Lyapunov_time, dt = 1./.91, 0.02\n",
    "error_threshold = 0.05\n",
    "beta = 1e-14\n",
    "L0, L1 = 0.4, 3.5\n",
    "percents = 50\n",
    "n_repeats = 100\n",
    "error_threshold = 0.05\n",
    "L63_data_folder = '../data/L63-trajectories'\n",
    "train = np.load('{}/validation.npy'.format(L63_data_folder))\n",
    "test = np.load('{}/test.npy'.format(L63_data_folder))[:, :1000, :]\n",
    "save_folder = f'../data/small-beta/{D_r}'\n",
    "batch = sr1.BatchStrategy_SMLR(save_folder, D, D_r, n_repeats, beta, error_threshold, train, test, dt=0.02, Lyapunov_time=1./0.91,\\\n",
    "                 L0=0.4, L1=3.5, percents=51, row_selection='good_linear_extreme', train_option='random_20000',\\\n",
    "                 limits_W_in=[-0.1, 0.1], limits_W=[-1., 1.])\n",
    "batch.run(save_data=True)"
   ]
  }
 ],
 "metadata": {
  "kernelspec": {
   "display_name": "Python 3 (ipykernel)",
   "language": "python",
   "name": "python3"
  },
  "language_info": {
   "codemirror_mode": {
    "name": "ipython",
    "version": 3
   },
   "file_extension": ".py",
   "mimetype": "text/x-python",
   "name": "python",
   "nbconvert_exporter": "python",
   "pygments_lexer": "ipython3",
   "version": "3.11.5"
  }
 },
 "nbformat": 4,
 "nbformat_minor": 5
}
