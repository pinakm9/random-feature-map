{
 "cells": [
  {
   "cell_type": "code",
   "execution_count": 43,
   "id": "be0232f4-b2a1-4b00-b4df-1ae3397e94a8",
   "metadata": {},
   "outputs": [],
   "source": [
    "import numpy as np \n",
    "from scipy.integrate import odeint\n",
    "import os, sys, warnings\n",
    "from pathlib import Path\n",
    "from os.path import dirname, realpath\n",
    "script_dir = Path(dirname(realpath('.')))\n",
    "module_dir = str(script_dir)\n",
    "sys.path.insert(0, module_dir + '/modules')\n",
    "import utility as ut\n",
    "import sample as sm\n",
    "import surrogate as sr\n",
    "import matplotlib.pyplot as plt\n",
    "import pandas as pd\n",
    "import torch\n",
    "import wasserstein_torch as w2\n",
    "from joblib import Parallel, delayed\n",
    "import csv\n",
    "\n",
    "repo = '..'\n",
    "\n",
    "L63_data_folder = '{}/data/L63-trajectories'.format(repo)\n",
    "train = np.load('{}/train.npy'.format(L63_data_folder))\n",
    "test = np.load('{}/test.npy'.format(L63_data_folder))\n",
    "L0, L1, D, D_r = 0.4, 3.5, 3, 300\n",
    "sampler = sm.MatrixSampler(L0, L1, train.T)\n",
    "training_points = 20000\n",
    "N_max = train.shape[1]\n",
    "beta = 4e-5\n",
    "n_w2 = 1000\n",
    "n_reps = 10\n",
    "n_attr = 1000\n",
    "# attractor = torch.tensor(train[:, np.random.choice(N_max, n_w2, replace=False)].T, dtype=torch.float32)\n",
    "attractor = torch.tensor(train[:, :n_w2].T, dtype=torch.float32)\n",
    "def compute_sinkhorn(a, b):\n",
    "    \"\"\"Helper function to compute sinkhorn divergence on the given tensors.\"\"\"\n",
    "    return float(w2.sinkhorn_div(a, b))"
   ]
  },
  {
   "cell_type": "markdown",
   "id": "81f90706-bc19-41e8-9938-2e8466941d08",
   "metadata": {},
   "source": [
    "**Given a partition produce a model**"
   ]
  },
  {
   "cell_type": "code",
   "execution_count": 24,
   "id": "93da9a2d-49cd-4e31-8c31-fc74445bead0",
   "metadata": {},
   "outputs": [],
   "source": [
    "def get_row_partitions_50_50(percent):\n",
    "    good = int(percent * D_r / 100.)\n",
    "    linear = int((100. - percent) * D_r / 200.)\n",
    "    extreme = D_r - good - linear\n",
    "    return [good, linear, extreme]\n",
    "\n",
    "@ut.timer\n",
    "def get_model(percent):\n",
    "    partition = get_row_partitions_50_50(percent)\n",
    "    W_ins, b_ins = sampler.sample(partition, 1); \n",
    "    W_in, b_in = W_ins[0], b_ins[0]\n",
    "    model = sr.SurrogateModel_LR(D, D_r, W_in, b_in)\n",
    "    random_index = 0#np.random.randint(N_max-training_points-1)\n",
    "    model.compute_W(train[:, random_index:random_index+training_points], beta=beta);\n",
    "    x0 = train[:, random_index]\n",
    "    attractor = model.multistep_forecast(x0, n_attr)\n",
    "    random_indices = np.random.choice(n_attr, n_w2, replace=False)\n",
    "    return attractor.T#attractor[:, random_indices].T\n",
    "\n",
    "@ut.timer\n",
    "def take_model(percent):\n",
    "    partition = get_row_partitions_50_50(percent)\n",
    "    W_ins, b_ins = sampler.sample(partition, 1); \n",
    "    W_in, b_in = W_ins[0], b_ins[0]\n",
    "    model = sr.SurrogateModel_LR(D, D_r, W_in, b_in)\n",
    "    random_index = 0#np.random.randint(N_max-training_points-1)\n",
    "    model.compute_W(train[:, random_index:random_index+training_points], beta=beta);\n",
    "    return model\n",
    "\n",
    "@ut.timer\n",
    "def get_distance(percent):\n",
    "    # Build the pseudo attractor.\n",
    "    pseudo_attractor = torch.tensor(get_model(10), dtype=torch.float32)\n",
    "    \n",
    "    # Create the tasks for the four different comparisons.\n",
    "    tasks = [\n",
    "        (attractor, pseudo_attractor),\n",
    "        (attractor[:, 0].reshape(-1, 1), pseudo_attractor[:, 0].reshape(-1, 1)),\n",
    "        (attractor[:, 1].reshape(-1, 1), pseudo_attractor[:, 1].reshape(-1, 1)),\n",
    "        (attractor[:, 2].reshape(-1, 1), pseudo_attractor[:, 2].reshape(-1, 1))\n",
    "    ]\n",
    "    \n",
    "    # Run all tasks in parallel.\n",
    "    results = Parallel(n_jobs=-1)(\n",
    "        delayed(compute_sinkhorn)(a, b) for a, b in tasks\n",
    "    )\n",
    "    \n",
    "    # Unpack the results.\n",
    "    distance_full, distance_x, distance_y, distance_z = results\n",
    "    return distance_full, distance_x, distance_y, distance_z \n",
    "\n",
    "# csv_file = '../data/w2_data/w2.csv'\n",
    "# with open(csv_file, mode='w', newline='') as f:\n",
    "#     writer = csv.writer(f)\n",
    "#     # Write a header row.\n",
    "#     writer.writerow(['p_g', 'w2', 'w2_x', 'w2_y', 'w2_z'])\n",
    "#     for percent in np.linspace(0, 100, 21, endpoint=True):\n",
    "#         for rep in range(n_reps):\n",
    "#             print(\"Working on {}% at rep {}\".format(percent, rep))\n",
    "#             distance_full, distance_x, distance_y, distance_z = get_distance(percent)\n",
    "#              # Write the current percent and computed distances to the CSV file.\n",
    "#             writer.writerow([percent/100., distance_full, distance_x, distance_y, distance_z])\n",
    "#             # Flush the buffer so that the file gets updated after each iteration.\n",
    "#             f.flush()"
   ]
  },
  {
   "cell_type": "code",
   "execution_count": 22,
   "id": "90150031-4304-42da-9764-1ef6f08c8b4b",
   "metadata": {},
   "outputs": [
    {
     "data": {
      "image/png": "[encoded data removed]",
      "text/plain": [
       "<Figure size 500x500 with 1 Axes>"
      ]
     },
     "metadata": {},
     "output_type": "display_data"
    }
   ],
   "source": [
    "fig = plt.figure(figsize=(5, 5))\n",
    "ax = fig.add_subplot(111)\n",
    "data = pd.read_csv('../data/w2_data/w2.csv')\n",
    "n = int(len(data) / n_reps)\n",
    "mu, sigma = np.zeros(n), np.zeros(n)\n",
    "P_g = np.linspace(0, 100, 21, endpoint=True)/100.\n",
    "for i, p_g in enumerate(P_g):\n",
    "    d = data[data['p_g'] == p_g][\"w2\"] \n",
    "    mu[i], sigma[i] = d.mean(), d.std()\n",
    "ax.errorbar(P_g, mu, sigma)\n",
    "ax.set_xlabel(r\"$p_g$\")\n",
    "ax.set_ylabel(r\"$\\mathbb{E}[W_2]$\")\n",
    "plt.savefig(\"../data/plots/W_2_vs_p_g.png\", bbox_inches=\"tight\", dpi=300)"
   ]
  },
  {
   "cell_type": "code",
   "execution_count": 46,
   "id": "23863cc7-f7f6-4c48-8a47-026a827d3b43",
   "metadata": {},
   "outputs": [
    {
     "name": "stdout",
     "output_type": "stream",
     "text": [
      "Time taken by sample is 0.0217 seconds\n",
      "Time taken by take_model is 0.1281 seconds\n",
      "Time taken by compute_error is 0.0077 seconds\n"
     ]
    }
   ],
   "source": [
    "@ut.timer\n",
    "def compute_error(model, validation_, error_threshold=0.05, dt=0.02, Lyapunov_time=1/0.91):\n",
    "    \"\"\"\n",
    "    Description: computes forecast time tau_f for the computed surrogate model\n",
    "\n",
    "    \"\"\"\n",
    "    validation_points = validation_.shape[1]\n",
    "    prediction = model.multistep_forecast(validation_[:, 0], validation_points)\n",
    "    se_ = np.linalg.norm(validation_ - prediction, axis=0)**2 / np.linalg.norm(validation_, axis=0)**2\n",
    "    mse_ = np.cumsum(se_) / np.arange(1, len(se_)+1)\n",
    "\n",
    "\n",
    "    l = np.argmax(mse_ > error_threshold)\n",
    "    if l == 0:\n",
    "        tau_f_rmse = validation_points\n",
    "    else:\n",
    "        tau_f_rmse = l-1\n",
    "\n",
    "\n",
    "    l = np.argmax(se_ > error_threshold)  \n",
    "    if l == 0:\n",
    "        tau_f_se = validation_points\n",
    "    else:\n",
    "        tau_f_se = l-1\n",
    "\n",
    "    rmse = np.sqrt(mse_[-1])\n",
    "    se = se_.mean()\n",
    "\n",
    "    tau_f_rmse *= (dt / Lyapunov_time)\n",
    "    tau_f_se *= (dt / Lyapunov_time)\n",
    "    return tau_f_rmse, tau_f_se, rmse, se\n",
    "\n",
    "model = take_model(100)\n",
    "tau = compute_error(model, test[5])"
   ]
  },
  {
   "cell_type": "code",
   "execution_count": 47,
   "id": "5276faaf-7e09-483c-87f7-a802e114958d",
   "metadata": {},
   "outputs": [
    {
     "data": {
      "text/plain": [
       "(4.240600000000001, 4.0222, 0.7654901819780531, 0.5859752187047933)"
      ]
     },
     "execution_count": 47,
     "metadata": {},
     "output_type": "execute_result"
    }
   ],
   "source": [
    "tau"
   ]
  },
  {
   "cell_type": "code",
   "execution_count": null,
   "id": "f08d75ae-6ba9-467f-ae58-b8faf0cd5a68",
   "metadata": {},
   "outputs": [],
   "source": []
  }
 ],
 "metadata": {
  "kernelspec": {
   "display_name": "Python 3 (ipykernel)",
   "language": "python",
   "name": "python3"
  },
  "language_info": {
   "codemirror_mode": {
    "name": "ipython",
    "version": 3
   },
   "file_extension": ".py",
   "mimetype": "text/x-python",
   "name": "python",
   "nbconvert_exporter": "python",
   "pygments_lexer": "ipython3",
   "version": "3.11.5"
  }
 },
 "nbformat": 4,
 "nbformat_minor": 5
}
