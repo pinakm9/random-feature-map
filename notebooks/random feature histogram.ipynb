{
 "cells": [
  {
   "cell_type": "markdown",
   "id": "7ed561e1-e375-483b-bd75-a051b856fbe1",
   "metadata": {},
   "source": [
    "**Load necessary modules**"
   ]
  },
  {
   "cell_type": "code",
   "execution_count": 9,
   "id": "2bebf90c-1bfb-4242-a166-24cac3a81b65",
   "metadata": {},
   "outputs": [],
   "source": [
    "import numpy as np \n",
    "from scipy.integrate import odeint\n",
    "import os, sys \n",
    "from pathlib import Path\n",
    "from os.path import dirname, realpath\n",
    "script_dir = Path(dirname(realpath('.')))\n",
    "module_dir = str(script_dir)\n",
    "sys.path.insert(0, module_dir + '/modules')\n",
    "import utility as ut\n",
    "import surrogate as sr\n",
    "import matplotlib.pyplot as plt\n",
    "import pandas as pd"
   ]
  },
  {
   "cell_type": "markdown",
   "id": "a065e921-9424-4aab-9022-f27db02c60ad",
   "metadata": {},
   "source": [
    "**Find good-bad initializations**"
   ]
  },
  {
   "cell_type": "code",
   "execution_count": 10,
   "id": "9675e9a1-9368-4a22-b8ec-edb61fefd33b",
   "metadata": {},
   "outputs": [],
   "source": [
    "bra = sr.BatchRunAnalyzer_SMLR(save_folder='../data/L63-SMLR-0')\n",
    "data = bra.get_data()\n",
    "tau_lims = [0.5, 5.]\n",
    "good, bad = [], []\n",
    "for idx, row in data.iterrows():\n",
    "    if row['i'] > 0 and row['j'] > 0:\n",
    "        if row['tau_f'] < tau_lims[0]:\n",
    "            bad.append([int(row['i']), int(row['j']), int(row['k'])])\n",
    "        elif row['tau_f'] > tau_lims[1]:\n",
    "            good.append([int(row['i']), int(row['j']), int(row['k'])])"
   ]
  },
  {
   "cell_type": "markdown",
   "id": "60dbff1a-8716-475f-9a4c-869632c5cc60",
   "metadata": {},
   "source": [
    "**Calculate random features for the selected models**"
   ]
  },
  {
   "cell_type": "code",
   "execution_count": 13,
   "id": "66a39ce7-88c8-4e90-b5c2-962adf88b3b7",
   "metadata": {},
   "outputs": [],
   "source": [
    "L63_data_folder = '../data/L63-trajectories'\n",
    "u0 = np.load('{}/validation.npy'.format(L63_data_folder))[:, :1].flatten()\n",
    "forecast_steps = 150\n",
    "good_phi, bad_phi = [], []\n",
    "random_idx = np.random.choice(len(good), size=2, replace=False)\n",
    "for idx in [good[i] for i in random_idx]:\n",
    "    model = bra.get_model(*idx)\n",
    "    u = model.multistep_forecast(u0, forecast_steps)[:, -1]\n",
    "    good_phi.append(model.phi(u))\n",
    "good_phi = np.array(good_phi)\n",
    "random_idx = np.random.choice(len(bad), size=2, replace=False)\n",
    "for idx in [bad[i] for i in random_idx]:\n",
    "    model = bra.get_model(*idx)\n",
    "    u = model.multistep_forecast(u0, forecast_steps)[:, -1]\n",
    "    bad_phi.append(model.phi(u))\n",
    "bad_phi = np.array(bad_phi)"
   ]
  },
  {
   "cell_type": "markdown",
   "id": "d9f5f64c-a58c-4927-977c-5972549459db",
   "metadata": {},
   "source": [
    "**Plot histograms**"
   ]
  },
  {
   "cell_type": "code",
   "execution_count": 14,
   "id": "d1762117-88fe-409d-b5bf-832cebbf1952",
   "metadata": {},
   "outputs": [
    {
     "data": {
      "text/plain": [
       "Text(0.5, 1.0, 'Bad $\\\\tau_f<0.50$')"
      ]
     },
     "execution_count": 14,
     "metadata": {},
     "output_type": "execute_result"
    },
    {
     "data": {
      "image/png": "[encoded data removed]",
      "text/plain": [
       "<Figure size 800x400 with 2 Axes>"
      ]
     },
     "metadata": {},
     "output_type": "display_data"
    }
   ],
   "source": [
    "nbins = 20\n",
    "fig = plt.figure(figsize=(8, 4))\n",
    "ax_g = fig.add_subplot(121)\n",
    "ax_b = fig.add_subplot(122)\n",
    "ax_g.hist(good_phi.flatten(), density=True, bins=nbins);\n",
    "ax_g.set_title(r'Good $\\tau_f>{:.2f}$'.format(tau_lims[1]))\n",
    "# ax_g.legend()\n",
    "ax_b.hist(bad_phi.flatten(), density=True, label=r'$\\tau_f$', bins=nbins);\n",
    "ax_b.set_title(r'Bad $\\tau_f<{:.2f}$'.format(tau_lims[0]))\n",
    "# ax_b.legend()"
   ]
  },
  {
   "cell_type": "code",
   "execution_count": null,
   "id": "c9982682-59ae-4202-ad8c-46c14eef0ce1",
   "metadata": {},
   "outputs": [],
   "source": []
  }
 ],
 "metadata": {
  "kernelspec": {
   "display_name": "Python 3 (ipykernel)",
   "language": "python",
   "name": "python3"
  },
  "language_info": {
   "codemirror_mode": {
    "name": "ipython",
    "version": 3
   },
   "file_extension": ".py",
   "mimetype": "text/x-python",
   "name": "python",
   "nbconvert_exporter": "python",
   "pygments_lexer": "ipython3",
   "version": "3.11.5"
  }
 },
 "nbformat": 4,
 "nbformat_minor": 5
}
