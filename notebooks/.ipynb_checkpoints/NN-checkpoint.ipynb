{
 "cells": [
  {
   "cell_type": "code",
   "execution_count": 1,
   "id": "9f91fe87-e4cf-4d90-bf34-2e9dac62ef97",
   "metadata": {},
   "outputs": [],
   "source": [
    "import numpy as np \n",
    "from scipy.integrate import odeint\n",
    "import os, sys, warnings\n",
    "from pathlib import Path\n",
    "from os.path import dirname, realpath\n",
    "script_dir = Path(dirname(realpath('.')))\n",
    "module_dir = str(script_dir)\n",
    "sys.path.insert(0, module_dir + '/modules')\n",
    "import utility as ut\n",
    "import surrogate_nn as srnn\n",
    "import matplotlib.pyplot as plt\n",
    "import pandas as pd\n",
    "import torch\n",
    "from torch import nn\n",
    "from torch.optim import lr_scheduler\n",
    "from torch.utils.data import DataLoader, TensorDataset\n",
    "warnings.filterwarnings('ignore')"
   ]
  },
  {
   "cell_type": "code",
   "execution_count": 2,
   "id": "d8341f71-46f2-49e7-bee9-8154bace790c",
   "metadata": {},
   "outputs": [],
   "source": [
    "L63_data_path = '../data/L63-trajectories'\n",
    "N = 20000\n",
    "train = np.load(f'{L63_data_path}/train.npy')[:, :N].astype(np.float32)\n",
    "test = np.load(f'{L63_data_path}/test.npy')[:, :, :1000].astype(np.float32)\n",
    "\n",
    "train_dataset = TensorDataset(torch.Tensor(train[:, :-1].T), torch.Tensor(train[:, 1:].T))\n",
    "# test_dataset = test = np.load(f'{L63_data_path}/test.npy')[:, :, 1000]\n",
    "train_dataloader = DataLoader(train_dataset, batch_size=int(N/10))#, shuffle=True)\n",
    "# test_dataloader = DataLoader(test_data, batch_size=64, shuffle=True)\n",
    "\n",
    "model = srnn.SurrogateModel_NN(3, 1024)\n",
    "x = torch.rand(3)"
   ]
  },
  {
   "cell_type": "code",
   "execution_count": null,
   "id": "29f3a2f6-d413-4364-bd63-3e87f25c5f45",
   "metadata": {},
   "outputs": [
    {
     "name": "stdout",
     "output_type": "stream",
     "text": [
      "epoch: 0    loss: 16005862.000000     time elapsed=0.0701\n",
      "epoch: 100    loss: 1328855.625000     time elapsed=6.0199\n",
      "epoch: 200    loss: 579925.687500     time elapsed=12.0289\n",
      "epoch: 300    loss: 109313.976562     time elapsed=18.0863\n",
      "epoch: 400    loss: 34549.503906     time elapsed=24.1609\n",
      "epoch: 500    loss: 17422.062500     time elapsed=30.2298\n",
      "epoch: 600    loss: 10629.001953     time elapsed=36.3187\n",
      "epoch: 700    loss: 7022.848145     time elapsed=42.3969\n",
      "epoch: 800    loss: 5028.617188     time elapsed=48.4887\n",
      "epoch: 900    loss: 3828.250000     time elapsed=55.0033\n",
      "epoch: 1000    loss: 3058.062988     time elapsed=61.8323\n",
      "epoch: 1100    loss: 2347.989014     time elapsed=68.2926\n",
      "epoch: 1200    loss: 1924.561768     time elapsed=74.3979\n",
      "epoch: 1300    loss: 1603.679077     time elapsed=80.5894\n",
      "epoch: 1400    loss: 1357.071167     time elapsed=86.7339\n",
      "epoch: 1500    loss: 1179.967285     time elapsed=92.8014\n",
      "epoch: 1600    loss: 1031.718994     time elapsed=98.8585\n",
      "epoch: 1700    loss: 925.933533     time elapsed=105.0132\n",
      "epoch: 1800    loss: 819.416382     time elapsed=111.0918\n",
      "epoch: 1900    loss: 768.902832     time elapsed=117.2499\n",
      "epoch: 2000    loss: 659.015015     time elapsed=123.3831\n",
      "epoch: 2100    loss: 602.398071     time elapsed=129.5937\n",
      "epoch: 2200    loss: 554.572205     time elapsed=135.6857\n",
      "epoch: 2300    loss: 511.900024     time elapsed=141.8720\n",
      "epoch: 2400    loss: 477.956543     time elapsed=148.0080\n",
      "epoch: 2500    loss: 442.060547     time elapsed=154.0971\n",
      "epoch: 2600    loss: 412.465027     time elapsed=160.1465\n",
      "epoch: 2700    loss: 387.139404     time elapsed=166.2662\n",
      "epoch: 2800    loss: 363.106537     time elapsed=172.4677\n",
      "epoch: 2900    loss: 341.882782     time elapsed=178.7186\n",
      "epoch: 3000    loss: 322.226471     time elapsed=184.8832\n",
      "epoch: 3100    loss: 303.906036     time elapsed=191.1306\n",
      "epoch: 3200    loss: 288.873444     time elapsed=197.7018\n",
      "epoch: 3300    loss: 272.173706     time elapsed=203.7921\n",
      "epoch: 3400    loss: 265.800598     time elapsed=210.0044\n",
      "epoch: 3500    loss: 244.844376     time elapsed=216.1063\n",
      "epoch: 3600    loss: 258.054962     time elapsed=222.1901\n",
      "epoch: 3700    loss: 221.281387     time elapsed=228.2368\n",
      "epoch: 3800    loss: 210.529327     time elapsed=234.2821\n",
      "epoch: 3900    loss: 254.369583     time elapsed=240.5061\n",
      "epoch: 4000    loss: 191.762512     time elapsed=246.7132\n",
      "epoch: 4100    loss: 680.005249     time elapsed=252.8081\n",
      "epoch: 4200    loss: 175.492737     time elapsed=258.9566\n",
      "epoch: 4300    loss: 167.839325     time elapsed=265.1322\n",
      "epoch: 4400    loss: 161.312653     time elapsed=271.2554\n",
      "epoch: 4500    loss: 154.409912     time elapsed=277.3133\n",
      "epoch: 4600    loss: 154.906326     time elapsed=283.3802\n",
      "epoch: 4700    loss: 142.585052     time elapsed=289.4245\n",
      "epoch: 4800    loss: 442.464355     time elapsed=295.2572\n",
      "epoch: 4900    loss: 131.961411     time elapsed=301.3271\n",
      "epoch: 5000    loss: 132.613464     time elapsed=307.4135\n",
      "epoch: 5100    loss: 122.448792     time elapsed=313.4577\n",
      "epoch: 5200    loss: 1845.167969     time elapsed=319.5143\n",
      "epoch: 5300    loss: 113.869278     time elapsed=325.5757\n",
      "epoch: 5400    loss: 110.777977     time elapsed=331.6622\n",
      "epoch: 5500    loss: 139.493881     time elapsed=337.8036\n",
      "epoch: 5600    loss: 102.155281     time elapsed=343.8653\n",
      "epoch: 5700    loss: 101.486748     time elapsed=349.9358\n",
      "epoch: 5800    loss: 130.511505     time elapsed=356.1330\n",
      "epoch: 5900    loss: 444.837708     time elapsed=362.2228\n",
      "epoch: 6000    loss: 112.834389     time elapsed=368.5267\n",
      "epoch: 6100    loss: 86.341850     time elapsed=374.5954\n",
      "epoch: 6200    loss: 84.036964     time elapsed=380.6882\n",
      "epoch: 6300    loss: 110.088799     time elapsed=386.9276\n",
      "epoch: 6400    loss: 78.515991     time elapsed=393.1017\n",
      "epoch: 6500    loss: 153.778046     time elapsed=399.2084\n",
      "epoch: 6600    loss: 76.557007     time elapsed=405.3097\n",
      "epoch: 6700    loss: 81.463669     time elapsed=411.4698\n",
      "epoch: 6800    loss: 101.578812     time elapsed=417.6231\n",
      "epoch: 6900    loss: 67.900932     time elapsed=423.7094\n",
      "epoch: 7000    loss: 65.888062     time elapsed=429.7653\n",
      "epoch: 7100    loss: 446.333252     time elapsed=435.8215\n",
      "epoch: 7200    loss: 67.075729     time elapsed=442.0129\n",
      "epoch: 7300    loss: 60.627670     time elapsed=448.5188\n",
      "epoch: 7400    loss: 78.945053     time elapsed=455.0012\n",
      "epoch: 7500    loss: 57.440208     time elapsed=461.1511\n",
      "epoch: 7600    loss: 55.715050     time elapsed=467.2070\n",
      "epoch: 7700    loss: 57.184734     time elapsed=473.2620\n",
      "epoch: 7800    loss: 107.023849     time elapsed=479.3334\n",
      "epoch: 7900    loss: 63.856857     time elapsed=485.3835\n",
      "epoch: 8000    loss: 57.228977     time elapsed=491.4472\n",
      "epoch: 8100    loss: 529.713928     time elapsed=497.5433\n",
      "epoch: 8200    loss: 74.205200     time elapsed=503.6756\n",
      "epoch: 8300    loss: 46.533569     time elapsed=509.9113\n",
      "epoch: 8400    loss: 45.566055     time elapsed=516.1654\n",
      "epoch: 8500    loss: 45.540100     time elapsed=522.1904\n",
      "epoch: 8600    loss: 44.726936     time elapsed=528.2473\n",
      "epoch: 8700    loss: 730.716980     time elapsed=534.3266\n",
      "epoch: 8800    loss: 61.293968     time elapsed=540.4679\n",
      "epoch: 8900    loss: 43.422695     time elapsed=546.6883\n"
     ]
    }
   ],
   "source": [
    "model.learn(train, epochs=10000, learning_rate=1e-4)"
   ]
  },
  {
   "cell_type": "code",
   "execution_count": null,
   "id": "f847e2b7-9805-4513-938c-e0bcec7ebbef",
   "metadata": {},
   "outputs": [],
   "source": [
    "tau_f_rmse, tau_f_se, rmse, se = model.compute_tau_f(test[:500], error_threshold=0.05)"
   ]
  },
  {
   "cell_type": "code",
   "execution_count": null,
   "id": "d306fb85-6025-41db-92b1-2f5c271f027f",
   "metadata": {},
   "outputs": [],
   "source": [
    "plt.hist(tau_f_se, density=True)\n",
    "plt.xlabel(r'$\\tau_f$ (NN)')\n",
    "plt.savefig('../data/plots/tau_f_NN.png')\n",
    "# plt.title(f'training_data_size={N}')"
   ]
  },
  {
   "cell_type": "code",
   "execution_count": null,
   "id": "d390eee1-fdde-4ccf-a9b4-a15c687f4664",
   "metadata": {},
   "outputs": [],
   "source": [
    "tau_f_rmse, tau_f_se, rmse, se = model.compute_tau_f(train.T.reshape(-1, 3, 800))\n",
    "\n",
    "plt.hist(tau_f_se)\n",
    "plt.xlabel(r'$\\tau_f$ (NN), for train data')\n",
    "plt.title(f'training_data_size={N}')"
   ]
  },
  {
   "cell_type": "code",
   "execution_count": null,
   "id": "1b826734-53d5-438f-a1c4-e5091e6dd576",
   "metadata": {},
   "outputs": [],
   "source": [
    "tau_f_se.mean()"
   ]
  },
  {
   "cell_type": "code",
   "execution_count": null,
   "id": "abec1600-bdd2-46b8-a835-bb9f8a528531",
   "metadata": {},
   "outputs": [],
   "source": [
    "for batch, (X, y) in enumerate(train_dataloader):\n",
    "    print(X, y)"
   ]
  },
  {
   "cell_type": "code",
   "execution_count": null,
   "id": "984b261e-76f2-4905-94eb-1b80b4ea0ffd",
   "metadata": {},
   "outputs": [],
   "source": [
    "train.T"
   ]
  },
  {
   "cell_type": "code",
   "execution_count": null,
   "id": "92ee3a86-e33f-40fb-b000-0c3b38ee99f8",
   "metadata": {},
   "outputs": [],
   "source": [
    "import torch.nn.functional as F"
   ]
  },
  {
   "cell_type": "code",
   "execution_count": null,
   "id": "91116d20-58ec-4027-9c75-965424c5fdd8",
   "metadata": {},
   "outputs": [],
   "source": [
    "l = nn.Linear(3, 300)"
   ]
  },
  {
   "cell_type": "code",
   "execution_count": null,
   "id": "4c7ef6d9-7976-435b-8291-22047cadcfcc",
   "metadata": {},
   "outputs": [],
   "source": [
    "F.tanh(l(torch.rand(3)))"
   ]
  },
  {
   "cell_type": "code",
   "execution_count": null,
   "id": "3b3957ee-2a72-49ea-a4b7-f2ab16907d46",
   "metadata": {},
   "outputs": [],
   "source": [
    "train_dataset"
   ]
  },
  {
   "cell_type": "code",
   "execution_count": null,
   "id": "a57aa77a-ee35-4937-97ac-d7be5a54f3fc",
   "metadata": {},
   "outputs": [],
   "source": [
    "for batch, (X, y) in enumerate(train_dataloader):\n",
    "    if batch == 1:\n",
    "        print(X, y)"
   ]
  },
  {
   "cell_type": "code",
   "execution_count": null,
   "id": "480f8e73-923b-4cd0-8408-0d7d6b4f2fa2",
   "metadata": {},
   "outputs": [],
   "source": [
    "model.net(X)"
   ]
  },
  {
   "cell_type": "code",
   "execution_count": null,
   "id": "76160fef-3389-428f-aafe-cae17358070c",
   "metadata": {},
   "outputs": [],
   "source": [
    "model.net(y)"
   ]
  },
  {
   "cell_type": "code",
   "execution_count": null,
   "id": "da6967bd-71b3-4b91-a8e3-1412b1aaffd6",
   "metadata": {},
   "outputs": [],
   "source": [
    "nn.MSELoss()(model.net(X), y)"
   ]
  },
  {
   "cell_type": "code",
   "execution_count": null,
   "id": "a9d36cae-f9c4-424e-87b2-e282a401534c",
   "metadata": {},
   "outputs": [],
   "source": [
    "torch.mean(torch.sum((model.net(X)-y)**2, axis=1)**0.5)"
   ]
  },
  {
   "cell_type": "code",
   "execution_count": null,
   "id": "0a7ddf88-9a27-4d06-9396-22e956ee53d6",
   "metadata": {},
   "outputs": [],
   "source": [
    "242.81**2"
   ]
  },
  {
   "cell_type": "code",
   "execution_count": null,
   "id": "201a0ab5-610b-4c69-aec7-60ee25e3f25b",
   "metadata": {},
   "outputs": [],
   "source": [
    "attrs(model.net.W)"
   ]
  },
  {
   "cell_type": "code",
   "execution_count": null,
   "id": "b76d0ffe-6f36-4669-a5ea-08c4352dc5b0",
   "metadata": {},
   "outputs": [],
   "source": [
    "seq = nn.Sequential(nn.Linear(3, 300, bias=True), nn.Tanh(), nn.Linear(300, 3, bias=False))"
   ]
  },
  {
   "cell_type": "code",
   "execution_count": null,
   "id": "887a7bf7-610a-4160-b4ef-bfdb8dc07517",
   "metadata": {},
   "outputs": [],
   "source": [
    "for name, param in seq.named_parameters():\n",
    "    if param.requires_grad:\n",
    "        print(name, param.data)"
   ]
  },
  {
   "cell_type": "code",
   "execution_count": null,
   "id": "d3badfeb-a1d3-4495-9265-746969fad9af",
   "metadata": {},
   "outputs": [],
   "source": [
    "torch.sum(seq.state_dict()['2.weight']**2)"
   ]
  },
  {
   "cell_type": "code",
   "execution_count": null,
   "id": "8c79f068-8b41-4a20-8952-f3a3e1b908e9",
   "metadata": {},
   "outputs": [],
   "source": [
    "fig, N, dt = plt.figure(figsize=(8, 8)), 500, 0.02\n",
    "t = np.arange(0., N*dt, dt) / (1/0.91)\n",
    "axs = [fig.add_subplot(311), fig.add_subplot(312), fig.add_subplot(313)]\n",
    "dims = ['x', 'y', 'z']\n",
    "u = np.load('{}/validation.npy'.format(L63_data_path)).astype(np.float32)\n",
    "\n",
    "idx = [[4, 14, 18], [13, 17, 46], [13, 2, 31], ]\n",
    "labels = ['good', 'medium', 'bad']\n",
    "predicted = model.multistep_forecast(u[:, 0], N)\n",
    "for i, ax in enumerate(axs):\n",
    "    ax.plot(t, u[i, :N], label='truth')\n",
    "    ax.plot(t, predicted[i, :N], label='network')\n",
    "    ax.legend(loc='upper right')\n",
    "    if i == len(dims)-1:\n",
    "        ax.set_xlabel('t')\n",
    "    ax.set_ylabel(dims[i])"
   ]
  },
  {
   "cell_type": "code",
   "execution_count": null,
   "id": "d8cd8878-8d51-489e-921b-1ff1b696f2e6",
   "metadata": {},
   "outputs": [],
   "source": []
  },
  {
   "cell_type": "code",
   "execution_count": null,
   "id": "c016f1db-021a-4562-85f0-fa415d98aed8",
   "metadata": {},
   "outputs": [],
   "source": []
  }
 ],
 "metadata": {
  "kernelspec": {
   "display_name": "Python 3 (ipykernel)",
   "language": "python",
   "name": "python3"
  },
  "language_info": {
   "codemirror_mode": {
    "name": "ipython",
    "version": 3
   },
   "file_extension": ".py",
   "mimetype": "text/x-python",
   "name": "python",
   "nbconvert_exporter": "python",
   "pygments_lexer": "ipython3",
   "version": "3.11.5"
  }
 },
 "nbformat": 4,
 "nbformat_minor": 5
}
