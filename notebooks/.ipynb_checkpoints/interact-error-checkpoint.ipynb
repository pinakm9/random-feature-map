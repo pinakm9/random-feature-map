{
 "cells": [
  {
   "cell_type": "markdown",
   "id": "db15a88d-d70b-4d40-978f-a9f9e83cb0f9",
   "metadata": {},
   "source": [
    "**Load necessary modules**"
   ]
  },
  {
   "cell_type": "code",
   "execution_count": 1,
   "id": "bbc13e93-2dfc-47b9-b9c1-752c0949abb6",
   "metadata": {},
   "outputs": [],
   "source": [
    "import numpy as np \n",
    "from scipy.integrate import odeint\n",
    "import os, sys \n",
    "from pathlib import Path\n",
    "from os.path import dirname, realpath\n",
    "script_dir = Path(dirname(realpath('.')))\n",
    "module_dir = str(script_dir)\n",
    "sys.path.insert(0, module_dir + '/modules')\n",
    "import utility as ut\n",
    "import surrogate as sr\n",
    "import matplotlib.pyplot as plt\n",
    "import pandas as pd\n",
    "import ipywidgets as widgets\n",
    "from IPython.display import display"
   ]
  },
  {
   "cell_type": "markdown",
   "id": "24c430fc-fdbd-4b99-8337-41c401e2acd6",
   "metadata": {},
   "source": [
    "**Play with different errors and corresponding $\\tau_f$**"
   ]
  },
  {
   "cell_type": "code",
   "execution_count": 36,
   "id": "42ad02dd-dcd9-455c-8717-99678db09d1d",
   "metadata": {},
   "outputs": [
    {
     "name": "stdout",
     "output_type": "stream",
     "text": [
      "Time taken by get_idx is 0.015623092651367188 seconds\n"
     ]
    },
    {
     "data": {
      "application/vnd.jupyter.widget-view+json": {
       "model_id": "89969cde8f6e4de5944c9b34f25d616a",
       "version_major": 2,
       "version_minor": 0
      },
      "text/plain": [
       "interactive(children=(IntSlider(value=1, continuous_update=False, description='test path', max=500), IntSlider…"
      ]
     },
     "execution_count": 36,
     "metadata": {},
     "output_type": "execute_result"
    }
   ],
   "source": [
    "L63_data_folder = '../data/L63-trajectories'\n",
    "data_folder = '../data/L63-SMLR-0'\n",
    "test = np.load('{}/test.npy'.format(L63_data_folder))[:, :, :]\n",
    "ba = sr.BatchRunAnalyzer_SMLR(data_folder)\n",
    "forecast_till = 500\n",
    "t = np.arange(0., forecast_till*ba.dt, dt) / ba.Lyapunov_time\n",
    "dim = 3\n",
    "\n",
    "def update_plot(random_trajectory, w, b, realization, error_threshold):    \n",
    "    # random_trajectory = int(random_trajectory)\n",
    "    fig = plt.figure(figsize=(12, 12))\n",
    "    ax_paths = [fig.add_subplot(321), fig.add_subplot(323), fig.add_subplot(325)]\n",
    "    ax_se, ax_mse = [fig.add_subplot(322), fig.add_subplot(324)]\n",
    "    ax_all = ax_paths + [ax_se, ax_mse]\n",
    "    # for ax in ax_all:\n",
    "    #     ax.clear()\n",
    "    model = ba.get_model(w, b, realization)\n",
    "    predicted = model.multistep_forecast(test[random_trajectory][:, 0], forecast_till)\n",
    "    tse, se, tmse, mse = model.compute_forecast_time(test[random_trajectory][:, :forecast_till], error_threshold, ba.dt, ba.Lyapunov_time)\n",
    "    for i, ax in enumerate(ax_paths):\n",
    "        ax.plot(t, test[random_trajectory][i, :forecast_till], label='truth')\n",
    "        ax.plot(t, predicted[i, :forecast_till], label='predicted')\n",
    "        ax.legend(loc='upper right')\n",
    "        if i == dim-1:\n",
    "            ax.set_xlabel('t')\n",
    "        if i == 0:\n",
    "            ax.set_title('Trajectories')\n",
    "        ax.set_ylabel(r'$x_{}$'.format(i+1))\n",
    "\n",
    "    ax_se.plot(t, se[0])\n",
    "    ax_se.set_title('Errors')\n",
    "    ax_se.set_ylabel('squared error')\n",
    "    ax_mse.plot(t, mse[0])\n",
    "    ax_mse.set_ylabel('mean squared error')\n",
    "    ax_mse.set_xlabel('t')\n",
    "    plt.show()\n",
    "\n",
    "random_trajectory_slider = widgets.IntSlider(value=1, min=0, max=500, step=1, description='test path', continuous_update=False)\n",
    "w_slider = widgets.IntSlider(value=1, min=ba.w_idx[0], max=ba.w_idx[-1], step=1, description='w', continuous_update=False)\n",
    "b_slider = widgets.IntSlider(value=1, min=ba.b_idx[0], max=ba.b_idx[-1], step=1, description='b', continuous_update=False)\n",
    "realization_slider = widgets.IntSlider(value=1, min=ba.random_idx[0], max=ba.random_idx[-1], step=1, description='realization', continuous_update=False)\n",
    "error_threshold_slider = widgets.FloatSlider(value=1, min=0.01, max=1.0, step=0.01, description='error limit', continuous_update=False)\n",
    "interactive_plot = widgets.interactive(update_plot, random_trajectory=random_trajectory_slider, w=w_slider, b=b_slider, realization=realization_slider,\\\n",
    "                                      error_threshold=error_threshold_slider)\n",
    "output = interactive_plot.children[-1]\n",
    "output.layout.height = '1000px'\n",
    "interactive_plot"
   ]
  },
  {
   "cell_type": "code",
   "execution_count": 16,
   "id": "b94e0d47-e82a-403e-b53f-91b93f96abfd",
   "metadata": {},
   "outputs": [
    {
     "data": {
      "application/vnd.jupyter.widget-view+json": {
       "model_id": "25ca9dffebd94ea491da6fe5ca5f3ab7",
       "version_major": 2,
       "version_minor": 0
      },
      "text/plain": [
       "interactive(children=(FloatSlider(value=1.0, continuous_update=False, description='Frequency:', max=10.0, min=…"
      ]
     },
     "execution_count": 16,
     "metadata": {},
     "output_type": "execute_result"
    }
   ],
   "source": [
    "def update_plot(freq):\n",
    "    x = np.linspace(0, 2 * np.pi, 1000)\n",
    "    y = np.sin(freq * x)\n",
    "    \n",
    "    plt.figure(figsize=(8, 4))\n",
    "    plt.plot(x, y)\n",
    "    plt.title(f'Sine Wave with Frequency {freq}')\n",
    "    plt.xlabel('x')\n",
    "    plt.ylabel('y')\n",
    "    plt.grid(True)\n",
    "    plt.show()\n",
    "\n",
    "freq_slider = widgets.FloatSlider(\n",
    "    value=1.0,\n",
    "    min=0.1,\n",
    "    max=10.0,\n",
    "    step=0.1,\n",
    "    description='Frequency:',\n",
    "    continuous_update=False\n",
    ")\n",
    "\n",
    "\n",
    "\n",
    "interactive_plot = widgets.interactive(update_plot, freq=freq_slider)\n",
    "output = interactive_plot.children[-1]\n",
    "output.layout.height = '350px'\n",
    "interactive_plot"
   ]
  },
  {
   "cell_type": "code",
   "execution_count": null,
   "id": "c1b46d00-d5cd-47b6-8635-f68e50d4d27e",
   "metadata": {},
   "outputs": [],
   "source": []
  },
  {
   "cell_type": "code",
   "execution_count": null,
   "id": "c8e6304e-506e-4417-b683-b371bcc264dd",
   "metadata": {},
   "outputs": [],
   "source": []
  }
 ],
 "metadata": {
  "kernelspec": {
   "display_name": "Python 3 (ipykernel)",
   "language": "python",
   "name": "python3"
  },
  "language_info": {
   "codemirror_mode": {
    "name": "ipython",
    "version": 3
   },
   "file_extension": ".py",
   "mimetype": "text/x-python",
   "name": "python",
   "nbconvert_exporter": "python",
   "pygments_lexer": "ipython3",
   "version": "3.9.17"
  }
 },
 "nbformat": 4,
 "nbformat_minor": 5
}
