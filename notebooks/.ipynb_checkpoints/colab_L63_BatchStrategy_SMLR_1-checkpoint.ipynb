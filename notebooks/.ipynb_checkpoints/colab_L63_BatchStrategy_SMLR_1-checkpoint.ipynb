{
  "cells": [
    {
      "cell_type": "code",
      "execution_count": null,
      "id": "2e9c3cc0-fb3d-4ae5-ba90-7de5de57a770",
      "metadata": {
        "colab": {
          "base_uri": "https://localhost:8080/"
        },
        "id": "2e9c3cc0-fb3d-4ae5-ba90-7de5de57a770",
        "outputId": "ad699b1d-2ddd-4b17-d102-6f785eb3b986"
      },
      "outputs": [
        {
          "output_type": "stream",
          "name": "stdout",
          "text": [
            "Cloning into 'random-feature-map'...\n",
            "remote: Enumerating objects: 702518, done.\u001b[K\n",
            "remote: Counting objects: 100% (110/110), done.\u001b[K\n",
            "remote: Compressing objects: 100% (98/98), done.\u001b[K\n"
          ]
        }
      ],
      "source": [
        "# run this cell to download data and necessary modules\n",
        "import os, shutil\n",
        "repo = 'random-feature-map'\n",
        "if os.path.isdir(repo):\n",
        "  shutil.rmtree(repo)\n",
        "!git clone https://github.com/pinakm9/random-feature-map.git\n",
        "# add modules folder to Python's search path\n",
        "import os, sys\n",
        "from pathlib import Path\n",
        "script_dir = Path(os.path.dirname(os.path.abspath('')))\n",
        "sys.path.insert(0, '/content/' + repo + '/modules')\n",
        "\n",
        "import numpy as np\n",
        "import matplotlib.pyplot as plt\n",
        "import surrogate as sr\n",
        "import sample as sm\n",
        "import matplotlib.pyplot\n",
        "from google.colab import files as colab_files\n",
        "\n",
        "from google.colab import drive\n",
        "drive.mount('/content/gdrive', force_remount=False)"
      ]
    },
    {
      "cell_type": "markdown",
      "id": "27b8dd62-6879-4e95-8366-a1a11dad1614",
      "metadata": {
        "id": "27b8dd62-6879-4e95-8366-a1a11dad1614"
      },
      "source": [
        "**Run BatchStrategy**"
      ]
    },
    {
      "cell_type": "code",
      "execution_count": null,
      "id": "6fbd4d5a-d2ea-4da5-b4f7-f49a27ad07d6",
      "metadata": {
        "id": "6fbd4d5a-d2ea-4da5-b4f7-f49a27ad07d6"
      },
      "outputs": [],
      "source": [
        "save_folder = '{}/data/L63-Strategy-SMLR-1'.format(repo)\n",
        "D, D_r = 3, 300\n",
        "Lyapunov_time, dt = 1./.91, 0.02\n",
        "error_threshold = 0.05\n",
        "beta = 4e-5\n",
        "L0, L1 = 0.4, 3.5\n",
        "percents = 50\n",
        "n_models = 6#600 * percents\n",
        "row_selection = 'good_50_50'\n",
        "train_option = 'random_20000'\n",
        "\n",
        "L63_data_folder = '{}/data/L63-trajectories'.format(repo)\n",
        "train = np.load('{}/train.npy'.format(L63_data_folder))\n",
        "batch = sr.BatchStrategy_SMLR(save_folder, D, D_r, n_models, beta, error_threshold, train, dt, Lyapunov_time, L0, L1, percents,\\\n",
        "                              row_selection, train_option)\n",
        "batch.run()"
      ]
    },
    {
      "cell_type": "markdown",
      "id": "2956c380-e654-43da-b18c-8a73ded6015b",
      "metadata": {
        "id": "2956c380-e654-43da-b18c-8a73ded6015b"
      },
      "source": [
        "**Analyze BatchStrategy**"
      ]
    },
    {
      "cell_type": "code",
      "execution_count": null,
      "id": "698d3278-150b-4910-a6c7-b94064787b69",
      "metadata": {
        "id": "698d3278-150b-4910-a6c7-b94064787b69"
      },
      "outputs": [],
      "source": [
        "bsa = sr.BatchStrategyAnalyzer_SMLR(save_folder)\n",
        "test = np.load('{}/test.npy'.format(L63_data_folder))\n",
        "validation = np.load('{}/validation.npy'.format(L63_data_folder))\n",
        "limits_in, limits = [-0.1, 0.1], [-.5, .5]\n",
        "bsa.count(validation[:, :10000], limits_in, limits)\n",
        "rmse_threshold = np.sqrt(0.05)\n",
        "bsa.compute_error(test[:, :1000, :], rmse_threshold)"
      ]
    },
    {
      "cell_type": "markdown",
      "id": "cf1b9067-aa64-46cb-bd53-3427bb455d17",
      "metadata": {
        "id": "cf1b9067-aa64-46cb-bd53-3427bb455d17"
      },
      "source": [
        "**Plot relationships**"
      ]
    },
    {
      "cell_type": "code",
      "execution_count": null,
      "id": "ea80567f-c697-47e2-bdcf-369de504bfa9",
      "metadata": {
        "id": "ea80567f-c697-47e2-bdcf-369de504bfa9"
      },
      "outputs": [],
      "source": [
        "bsa.plot(1)"
      ]
    },
    {
      "cell_type": "markdown",
      "source": [
        "**Upload data to cloud and/or local drives**"
      ],
      "metadata": {
        "id": "KUFxKHw9EHdJ"
      },
      "id": "KUFxKHw9EHdJ"
    },
    {
      "cell_type": "code",
      "source": [
        "!zip -r /content/L63-Strategy-SMLR-1.zip /content/random-feature-map/data/L63-Strategy-SMLR-1\n",
        "!cp /content/L63-Strategy-SMLR-1.zip \"/content/gdrive/My Drive/Pinak\"\n",
        "colab_files.download('L63-Strategy-SMLR-1.zip')"
      ],
      "metadata": {
        "id": "peXuoqL6uOES"
      },
      "id": "peXuoqL6uOES",
      "execution_count": null,
      "outputs": []
    }
  ],
  "metadata": {
    "kernelspec": {
      "display_name": "Python 3",
      "name": "python3"
    },
    "language_info": {
      "codemirror_mode": {
        "name": "ipython",
        "version": 3
      },
      "file_extension": ".py",
      "mimetype": "text/x-python",
      "name": "python",
      "nbconvert_exporter": "python",
      "pygments_lexer": "ipython3",
      "version": "3.11.5"
    },
    "colab": {
      "provenance": [],
      "machine_shape": "hm"
    }
  },
  "nbformat": 4,
  "nbformat_minor": 5
}