{
 "cells": [
  {
   "cell_type": "code",
   "execution_count": 1,
   "id": "f9b5ce16-c31a-42d0-993f-98aa54f4e716",
   "metadata": {},
   "outputs": [],
   "source": [
    "import numpy as np \n",
    "from scipy.integrate import odeint\n",
    "import os, sys, warnings\n",
    "from pathlib import Path\n",
    "from os.path import dirname, realpath\n",
    "script_dir = Path(dirname(realpath('.')))\n",
    "module_dir = str(script_dir)\n",
    "sys.path.insert(0, module_dir + '/modules')\n",
    "import utility as ut\n",
    "import surrogate1 as sr1\n",
    "import surrogate as sr\n",
    "import matplotlib.pyplot as plt\n",
    "import pandas as pd\n",
    "import seaborn as sns\n",
    "warnings.filterwarnings('ignore')"
   ]
  },
  {
   "cell_type": "markdown",
   "id": "5fd46083-b65d-4971-a529-1cc04cf58d90",
   "metadata": {},
   "source": [
    "**Uniform random feature experiments**"
   ]
  },
  {
   "cell_type": "code",
   "execution_count": 2,
   "id": "f05b0b62-c3d7-4791-a85c-b350750b12c0",
   "metadata": {},
   "outputs": [
    {
     "name": "stdout",
     "output_type": "stream",
     "text": [
      "Running experiments ...\n",
      "Working on batch 0 ...\n",
      "Documenting results ...\n",
      "Time taken for batch of experiments = 11.57s\n",
      "Working on batch 1 ...\n"
     ]
    },
    {
     "ename": "KeyboardInterrupt",
     "evalue": "",
     "output_type": "error",
     "traceback": [
      "\u001b[0;31m---------------------------------------------------------------------------\u001b[0m",
      "\u001b[0;31mKeyboardInterrupt\u001b[0m                         Traceback (most recent call last)",
      "Cell \u001b[0;32mIn[2], line 21\u001b[0m\n\u001b[1;32m     17\u001b[0m limits_W_in, limits_W \u001b[38;5;241m=\u001b[39m [\u001b[38;5;241m-\u001b[39m\u001b[38;5;241m0.1\u001b[39m, \u001b[38;5;241m0.1\u001b[39m], [\u001b[38;5;241m-\u001b[39m\u001b[38;5;241m.5\u001b[39m, \u001b[38;5;241m.5\u001b[39m]\n\u001b[1;32m     19\u001b[0m batch \u001b[38;5;241m=\u001b[39m sr1\u001b[38;5;241m.\u001b[39mBatchStrategy_SMLR(save_folder, D, D_r, n_repeats, beta, error_threshold, train, test[:\u001b[38;5;241m1\u001b[39m], dt, Lyapunov_time, L0, L1, percents,\\\n\u001b[1;32m     20\u001b[0m                           row_selection, train_option, limits_W_in, limits_W)\n\u001b[0;32m---> 21\u001b[0m \u001b[43mbatch\u001b[49m\u001b[38;5;241;43m.\u001b[39;49m\u001b[43mrun_uniform\u001b[49m\u001b[43m(\u001b[49m\u001b[43mw\u001b[49m\u001b[43m,\u001b[49m\u001b[43m \u001b[49m\u001b[43mb\u001b[49m\u001b[43m,\u001b[49m\u001b[43m \u001b[49m\u001b[43msave_data\u001b[49m\u001b[38;5;241;43m=\u001b[39;49m\u001b[38;5;28;43;01mTrue\u001b[39;49;00m\u001b[43m)\u001b[49m\n\u001b[1;32m     22\u001b[0m bsa \u001b[38;5;241m=\u001b[39m sr1\u001b[38;5;241m.\u001b[39mBatchStrategyAnalyzer_SMLR(batch\u001b[38;5;241m.\u001b[39msave_folder)\n\u001b[1;32m     23\u001b[0m \u001b[38;5;66;03m# bsa.compute_train_loss(train)\u001b[39;00m\n\u001b[1;32m     24\u001b[0m \u001b[38;5;66;03m# bsa.compute_test_loss_single(test)\u001b[39;00m\n",
      "File \u001b[0;32m~/Documents/GitHub/random-feature-map/modules/utility.py:18\u001b[0m, in \u001b[0;36mtimer.<locals>.new_func\u001b[0;34m(*args, **kwargs)\u001b[0m\n\u001b[1;32m     16\u001b[0m \u001b[38;5;28;01mdef\u001b[39;00m \u001b[38;5;21mnew_func\u001b[39m(\u001b[38;5;241m*\u001b[39margs, \u001b[38;5;241m*\u001b[39m\u001b[38;5;241m*\u001b[39mkwargs):\n\u001b[1;32m     17\u001b[0m \tstart \u001b[38;5;241m=\u001b[39m time()\n\u001b[0;32m---> 18\u001b[0m \tval \u001b[38;5;241m=\u001b[39m \u001b[43mfunc\u001b[49m\u001b[43m(\u001b[49m\u001b[38;5;241;43m*\u001b[39;49m\u001b[43margs\u001b[49m\u001b[43m,\u001b[49m\u001b[38;5;241;43m*\u001b[39;49m\u001b[38;5;241;43m*\u001b[39;49m\u001b[43mkwargs\u001b[49m\u001b[43m)\u001b[49m\n\u001b[1;32m     19\u001b[0m \tend \u001b[38;5;241m=\u001b[39m time()\n\u001b[1;32m     20\u001b[0m \t\u001b[38;5;28mprint\u001b[39m(\u001b[38;5;124mf\u001b[39m\u001b[38;5;124m'\u001b[39m\u001b[38;5;124mTime taken by \u001b[39m\u001b[38;5;132;01m{\u001b[39;00mfunc\u001b[38;5;241m.\u001b[39m\u001b[38;5;18m__name__\u001b[39m\u001b[38;5;132;01m}\u001b[39;00m\u001b[38;5;124m is \u001b[39m\u001b[38;5;132;01m{\u001b[39;00mend\u001b[38;5;241m-\u001b[39mstart\u001b[38;5;132;01m:\u001b[39;00m\u001b[38;5;124m.4f\u001b[39m\u001b[38;5;132;01m}\u001b[39;00m\u001b[38;5;124m seconds\u001b[39m\u001b[38;5;124m'\u001b[39m)\n",
      "File \u001b[0;32m~/Documents/GitHub/random-feature-map/modules/surrogate1.py:286\u001b[0m, in \u001b[0;36mBatchStrategy_SMLR.run_uniform\u001b[0;34m(self, w, b, save_data, batch_size)\u001b[0m\n\u001b[1;32m    284\u001b[0m test_indices \u001b[38;5;241m=\u001b[39m np\u001b[38;5;241m.\u001b[39mrandom\u001b[38;5;241m.\u001b[39mrandint(\u001b[38;5;28mlen\u001b[39m(\u001b[38;5;28mself\u001b[39m\u001b[38;5;241m.\u001b[39mtest), size\u001b[38;5;241m=\u001b[39mbatch_size)\n\u001b[1;32m    285\u001b[0m start \u001b[38;5;241m=\u001b[39m time\u001b[38;5;241m.\u001b[39mtime()\n\u001b[0;32m--> 286\u001b[0m data \u001b[38;5;241m=\u001b[39m \u001b[43mParallel\u001b[49m\u001b[43m(\u001b[49m\u001b[43mn_jobs\u001b[49m\u001b[38;5;241;43m=\u001b[39;49m\u001b[38;5;241;43m-\u001b[39;49m\u001b[38;5;241;43m1\u001b[39;49m\u001b[43m)\u001b[49m\u001b[43m(\u001b[49m\u001b[43mdelayed\u001b[49m\u001b[43m(\u001b[49m\u001b[38;5;28;43mself\u001b[39;49m\u001b[38;5;241;43m.\u001b[39;49m\u001b[43mrun_single\u001b[49m\u001b[43m)\u001b[49m\u001b[43m\\\u001b[49m\n\u001b[1;32m    287\u001b[0m \u001b[43m                    \u001b[49m\u001b[43m(\u001b[49m\u001b[43mexperiment_indices\u001b[49m\u001b[43m[\u001b[49m\u001b[43mk\u001b[49m\u001b[43m]\u001b[49m\u001b[43m,\u001b[49m\u001b[43m \u001b[49m\u001b[38;5;241;43m0\u001b[39;49m\u001b[43m,\u001b[49m\u001b[43m \u001b[49m\u001b[38;5;28;43;01mNone\u001b[39;49;00m\u001b[43m,\u001b[49m\u001b[43m \u001b[49m\u001b[43mw\u001b[49m\u001b[43m,\u001b[49m\u001b[43m \u001b[49m\u001b[43mb\u001b[49m\u001b[43m,\u001b[49m\u001b[43m \u001b[49m\u001b[43m[\u001b[49m\u001b[38;5;241;43m0\u001b[39;49m\u001b[43m,\u001b[49m\u001b[43m \u001b[49m\u001b[38;5;241;43m0\u001b[39;49m\u001b[43m,\u001b[49m\u001b[43m \u001b[49m\u001b[38;5;241;43m0\u001b[39;49m\u001b[43m]\u001b[49m\u001b[43m,\u001b[49m\u001b[43m \u001b[49m\u001b[43msave_data\u001b[49m\u001b[43m)\u001b[49m\u001b[43m\\\u001b[49m\n\u001b[1;32m    288\u001b[0m \u001b[43m                    \u001b[49m\u001b[38;5;28;43;01mfor\u001b[39;49;00m\u001b[43m \u001b[49m\u001b[43mk\u001b[49m\u001b[43m \u001b[49m\u001b[38;5;129;43;01min\u001b[39;49;00m\u001b[43m \u001b[49m\u001b[38;5;28;43mrange\u001b[39;49m\u001b[43m(\u001b[49m\u001b[43mbatch_size\u001b[49m\u001b[43m)\u001b[49m\u001b[43m)\u001b[49m\n\u001b[1;32m    289\u001b[0m \u001b[38;5;28mprint\u001b[39m(\u001b[38;5;124m'\u001b[39m\u001b[38;5;124mDocumenting results ...\u001b[39m\u001b[38;5;124m'\u001b[39m)\u001b[38;5;66;03m#, len(columns), len(data[0]))\u001b[39;00m\n\u001b[1;32m    290\u001b[0m pd\u001b[38;5;241m.\u001b[39mDataFrame(data, columns\u001b[38;5;241m=\u001b[39mcolumns, dtype\u001b[38;5;241m=\u001b[39m\u001b[38;5;28mfloat\u001b[39m)\\\n\u001b[1;32m    291\u001b[0m             \u001b[38;5;241m.\u001b[39mto_csv(file_path, mode\u001b[38;5;241m=\u001b[39m\u001b[38;5;124m'\u001b[39m\u001b[38;5;124ma\u001b[39m\u001b[38;5;124m'\u001b[39m, index\u001b[38;5;241m=\u001b[39m\u001b[38;5;28;01mFalse\u001b[39;00m, header\u001b[38;5;241m=\u001b[39m\u001b[38;5;129;01mnot\u001b[39;00m os\u001b[38;5;241m.\u001b[39mpath\u001b[38;5;241m.\u001b[39mexists(file_path))\n",
      "File \u001b[0;32m~/miniconda3/envs/metal/lib/python3.11/site-packages/joblib/parallel.py:1952\u001b[0m, in \u001b[0;36mParallel.__call__\u001b[0;34m(self, iterable)\u001b[0m\n\u001b[1;32m   1946\u001b[0m \u001b[38;5;66;03m# The first item from the output is blank, but it makes the interpreter\u001b[39;00m\n\u001b[1;32m   1947\u001b[0m \u001b[38;5;66;03m# progress until it enters the Try/Except block of the generator and\u001b[39;00m\n\u001b[1;32m   1948\u001b[0m \u001b[38;5;66;03m# reach the first `yield` statement. This starts the aynchronous\u001b[39;00m\n\u001b[1;32m   1949\u001b[0m \u001b[38;5;66;03m# dispatch of the tasks to the workers.\u001b[39;00m\n\u001b[1;32m   1950\u001b[0m \u001b[38;5;28mnext\u001b[39m(output)\n\u001b[0;32m-> 1952\u001b[0m \u001b[38;5;28;01mreturn\u001b[39;00m output \u001b[38;5;28;01mif\u001b[39;00m \u001b[38;5;28mself\u001b[39m\u001b[38;5;241m.\u001b[39mreturn_generator \u001b[38;5;28;01melse\u001b[39;00m \u001b[38;5;28;43mlist\u001b[39;49m\u001b[43m(\u001b[49m\u001b[43moutput\u001b[49m\u001b[43m)\u001b[49m\n",
      "File \u001b[0;32m~/miniconda3/envs/metal/lib/python3.11/site-packages/joblib/parallel.py:1595\u001b[0m, in \u001b[0;36mParallel._get_outputs\u001b[0;34m(self, iterator, pre_dispatch)\u001b[0m\n\u001b[1;32m   1592\u001b[0m     \u001b[38;5;28;01myield\u001b[39;00m\n\u001b[1;32m   1594\u001b[0m     \u001b[38;5;28;01mwith\u001b[39;00m \u001b[38;5;28mself\u001b[39m\u001b[38;5;241m.\u001b[39m_backend\u001b[38;5;241m.\u001b[39mretrieval_context():\n\u001b[0;32m-> 1595\u001b[0m         \u001b[38;5;28;01myield from\u001b[39;00m \u001b[38;5;28mself\u001b[39m\u001b[38;5;241m.\u001b[39m_retrieve()\n\u001b[1;32m   1597\u001b[0m \u001b[38;5;28;01mexcept\u001b[39;00m \u001b[38;5;167;01mGeneratorExit\u001b[39;00m:\n\u001b[1;32m   1598\u001b[0m     \u001b[38;5;66;03m# The generator has been garbage collected before being fully\u001b[39;00m\n\u001b[1;32m   1599\u001b[0m     \u001b[38;5;66;03m# consumed. This aborts the remaining tasks if possible and warn\u001b[39;00m\n\u001b[1;32m   1600\u001b[0m     \u001b[38;5;66;03m# the user if necessary.\u001b[39;00m\n\u001b[1;32m   1601\u001b[0m     \u001b[38;5;28mself\u001b[39m\u001b[38;5;241m.\u001b[39m_exception \u001b[38;5;241m=\u001b[39m \u001b[38;5;28;01mTrue\u001b[39;00m\n",
      "File \u001b[0;32m~/miniconda3/envs/metal/lib/python3.11/site-packages/joblib/parallel.py:1707\u001b[0m, in \u001b[0;36mParallel._retrieve\u001b[0;34m(self)\u001b[0m\n\u001b[1;32m   1702\u001b[0m \u001b[38;5;66;03m# If the next job is not ready for retrieval yet, we just wait for\u001b[39;00m\n\u001b[1;32m   1703\u001b[0m \u001b[38;5;66;03m# async callbacks to progress.\u001b[39;00m\n\u001b[1;32m   1704\u001b[0m \u001b[38;5;28;01mif\u001b[39;00m ((\u001b[38;5;28mlen\u001b[39m(\u001b[38;5;28mself\u001b[39m\u001b[38;5;241m.\u001b[39m_jobs) \u001b[38;5;241m==\u001b[39m \u001b[38;5;241m0\u001b[39m) \u001b[38;5;129;01mor\u001b[39;00m\n\u001b[1;32m   1705\u001b[0m     (\u001b[38;5;28mself\u001b[39m\u001b[38;5;241m.\u001b[39m_jobs[\u001b[38;5;241m0\u001b[39m]\u001b[38;5;241m.\u001b[39mget_status(\n\u001b[1;32m   1706\u001b[0m         timeout\u001b[38;5;241m=\u001b[39m\u001b[38;5;28mself\u001b[39m\u001b[38;5;241m.\u001b[39mtimeout) \u001b[38;5;241m==\u001b[39m TASK_PENDING)):\n\u001b[0;32m-> 1707\u001b[0m     time\u001b[38;5;241m.\u001b[39msleep(\u001b[38;5;241m0.01\u001b[39m)\n\u001b[1;32m   1708\u001b[0m     \u001b[38;5;28;01mcontinue\u001b[39;00m\n\u001b[1;32m   1710\u001b[0m \u001b[38;5;66;03m# We need to be careful: the job list can be filling up as\u001b[39;00m\n\u001b[1;32m   1711\u001b[0m \u001b[38;5;66;03m# we empty it and Python list are not thread-safe by\u001b[39;00m\n\u001b[1;32m   1712\u001b[0m \u001b[38;5;66;03m# default hence the use of the lock\u001b[39;00m\n",
      "\u001b[0;31mKeyboardInterrupt\u001b[0m: "
     ]
    }
   ],
   "source": [
    "save_folder = f'../data/uniform-RF'\n",
    "D, D_r = 3, 300\n",
    "w, b = 0.4, 4\n",
    "Lyapunov_time, dt = 1./.91, 0.02\n",
    "error_threshold = 0.05\n",
    "beta = 4e-5\n",
    "L0, L1 = 0.4, 3.5\n",
    "percents = 50\n",
    "n_repeats = 20000\n",
    "n_models = percents * n_repeats\n",
    "row_selection = 'uniform'\n",
    "train_option = 'random_20000'\n",
    "repo = '..'\n",
    "L63_data_folder = '{}/data/L63-trajectories'.format(repo)\n",
    "train = np.load('{}/train.npy'.format(L63_data_folder))\n",
    "test = np.load('{}/test.npy'.format(L63_data_folder))\n",
    "limits_W_in, limits_W = [-0.1, 0.1], [-.5, .5]\n",
    "\n",
    "batch = sr1.BatchStrategy_SMLR(save_folder, D, D_r, n_repeats, beta, error_threshold, train, test[:1], dt, Lyapunov_time, L0, L1, percents,\\\n",
    "                          row_selection, train_option, limits_W_in, limits_W)\n",
    "batch.run_uniform(w, b, save_data=True)\n",
    "bsa = sr1.BatchStrategyAnalyzer_SMLR(batch.save_folder)\n",
    "# bsa.compute_train_loss(train)\n",
    "# bsa.compute_test_loss_single(test)"
   ]
  },
  {
   "cell_type": "markdown",
   "id": "276587c8-76fc-4212-9e85-da43d1dc5dee",
   "metadata": {},
   "source": [
    "**Histogram of phi**"
   ]
  },
  {
   "cell_type": "code",
   "execution_count": 112,
   "id": "2fe3cbad-87b8-47ba-975b-cc90bf3a1011",
   "metadata": {},
   "outputs": [
    {
     "data": {
      "image/png": "[encoded data removed]",
      "text/plain": [
       "<Figure size 1100x500 with 2 Axes>"
      ]
     },
     "metadata": {},
     "output_type": "display_data"
    }
   ],
   "source": [
    "n = 1000\n",
    "data = bsa.get_data()\n",
    "phi_b, phi_g = [], []\n",
    "threshold = 0.998\n",
    "index_b, nature_b = data[data['tau_f_se'] < 0.5]['l'].to_numpy().astype(int), 'bad'\n",
    "test_path = test[0,:, :1]\n",
    "tau_f_b = []\n",
    "tau_f_g = []\n",
    "\n",
    "for i in index_b[:150]:\n",
    "    model = bsa.get_model(i)\n",
    "    f = np.abs(np.tanh(model.W_in @ test_path + model.b_in[:, np.newaxis]))\n",
    "    phi_b.append((f < 0.9).sum())\n",
    "    tau_f_b.append(data['tau_f_se'][i])\n",
    "\n",
    "index_g, nature_g = data[data['tau_f_se'] > 6]['l'].to_numpy().astype(int), 'good' \n",
    "for i in index_g[:150]:\n",
    "    model = bsa.get_model(i)\n",
    "    f = np.abs(np.tanh(model.W_in @ test_path + model.b_in[:, np.newaxis]))\n",
    "    phi_g.append((f < 0.9).sum())\n",
    "    tau_f_g.append(data['tau_f_se'][i])\n",
    "\n",
    "fig = plt.figure(figsize=(11, 5))\n",
    "ax = fig.add_subplot(121)\n",
    "ax1 = fig.add_subplot(122)\n",
    "# ax.hist(phi_g, density=0)\n",
    "# ax.hist(phi_b, density=0, alpha=0.7)\n",
    "# ax.set_xlim(-0.1, 0)\n",
    "# ax1.set_xlim(-0.1, 0)\n",
    "ax.hist(phi_b)\n",
    "ax1.hist(phi_g, density=1)\n",
    "plt.show()"
   ]
  },
  {
   "cell_type": "code",
   "execution_count": 2,
   "id": "210ebdf6-525a-4cc4-940a-1d805d4a9ec0",
   "metadata": {},
   "outputs": [],
   "source": [
    "save_folder = '../data/bad-features-grid'\n",
    "D, D_r = 3, 300\n",
    "Lyapunov_time, dt = 1./.91, 0.02\n",
    "error_threshold = 0.05\n",
    "beta = 4e-5\n",
    "w_max, b_max = 0.4, 4.0\n",
    "sqrt_n_models = 30\n",
    "n_repeats = 10\n",
    "\n",
    "L63_data_folder = '../data/L63-trajectories'\n",
    "train = np.load('{}/train.npy'.format(L63_data_folder))\n",
    "validation = np.load('{}/validation.npy'.format(L63_data_folder))[:, :800]\n",
    "batch = sr.BatchUniform_SMLR(save_folder, D, D_r, w_max, b_max, sqrt_n_models, beta, error_threshold, dt, Lyapunov_time)\n",
    "# batch.run(train[:, :20000], n_repeats)"
   ]
  },
  {
   "cell_type": "code",
   "execution_count": 3,
   "id": "520046c9-c224-4654-914c-f80a519b01f7",
   "metadata": {},
   "outputs": [
    {
     "name": "stdout",
     "output_type": "stream",
     "text": [
      "Time taken by count is 131.0797 seconds\n"
     ]
    }
   ],
   "source": [
    "bsa = sr.BatchRunAnalyzer_SMLR(save_folder)\n",
    "# bsa.compute_error(validation, rmse_threshold=np.sqrt(0.05))\n",
    "bsa.count(validation, limits_in=[-0.1, 0.1], limits=[-0.5, 0.5], threshold=3.5)"
   ]
  },
  {
   "cell_type": "code",
   "execution_count": 25,
   "id": "ccfeac17-c311-4360-922f-9356563eb14f",
   "metadata": {},
   "outputs": [
    {
     "data": {
      "image/png": "[encoded data removed]",
      "text/plain": [
       "<Figure size 1100x500 with 2 Axes>"
      ]
     },
     "metadata": {},
     "output_type": "display_data"
    }
   ],
   "source": [
    "n = 1000\n",
    "data = bsa.get_data()\n",
    "phi_b, phi_g = [], []\n",
    "threshold = 0.998\n",
    "d = data[data['tau_f_se'] < 0.5]\n",
    "index_b, nature_b = list(zip(list(d['i'].to_numpy().astype(int)), list(d['j'].to_numpy().astype(int)), list(d['k'].to_numpy().astype(int)))), 'bad'\n",
    "test_path = validation\n",
    "tau_f_b = []\n",
    "tau_f_g = []\n",
    "\n",
    "for i, j, k in index_b:\n",
    "    phi_b.append(data[data['i']==i][data['j']==j][data['k']==k]['avg_bad_features'].to_numpy()[0]/D_r)\n",
    "    tau_f_b.append(data['tau_f_se'][i])\n",
    "\n",
    "d = data[data['tau_f_se'] > 6]\n",
    "index_g, nature_g = list(zip(list(d['i'].to_numpy().astype(int)), list(d['j'].to_numpy().astype(int)), list(d['k'].to_numpy().astype(int)))), 'good' \n",
    "for i, j, k in index_g[:150]:\n",
    "    phi_g.append(data[data['i']==i][data['j']==j][data['k']==k]['avg_bad_features'].to_numpy()[0]/D_r)\n",
    "\n",
    "fig = plt.figure(figsize=(11, 5))\n",
    "ax = fig.add_subplot(121)\n",
    "ax1 = fig.add_subplot(122)\n",
    "# ax.hist(phi_g, density=0)\n",
    "# ax.hist(phi_b, density=0, alpha=0.7)\n",
    "# ax.set_xlim(-0.1, 0)\n",
    "# ax1.set_xlim(-0.1, 0)\n",
    "sns.histplot(phi_b, ax=ax, stat='probability')\n",
    "sns.histplot(phi_g, ax=ax1, stat='probability')\n",
    "plt.show()"
   ]
  },
  {
   "cell_type": "code",
   "execution_count": 12,
   "id": "9992212d-7243-4e22-95e6-b29af3e8fe64",
   "metadata": {},
   "outputs": [
    {
     "data": {
      "text/plain": [
       "[118.0475,\n",
       " 117.90125,\n",
       " 144.5925,\n",
       " 148.97875,\n",
       " 140.485,\n",
       " 141.50625,\n",
       " 141.29,\n",
       " 149.76125,\n",
       " 159.21375,\n",
       " 153.58125,\n",
       " 150.62375,\n",
       " 150.24625,\n",
       " 147.2275,\n",
       " 155.66,\n",
       " 151.085,\n",
       " 159.05625,\n",
       " 153.86875,\n",
       " 163.6675,\n",
       " 175.2825,\n",
       " 165.65625,\n",
       " 172.04625,\n",
       " 156.8975,\n",
       " 159.39375,\n",
       " 160.68875,\n",
       " 168.1,\n",
       " 167.60375,\n",
       " 167.43,\n",
       " 161.31375,\n",
       " 178.6675,\n",
       " 183.33375,\n",
       " 166.7175,\n",
       " 175.83875,\n",
       " 175.525,\n",
       " 175.42375,\n",
       " 163.1975,\n",
       " 165.495,\n",
       " 173.98,\n",
       " 175.22125,\n",
       " 173.31625,\n",
       " 175.795,\n",
       " 172.7825,\n",
       " 181.98375,\n",
       " 177.16,\n",
       " 179.6975,\n",
       " 175.62875,\n",
       " 171.775,\n",
       " 195.04375,\n",
       " 173.795,\n",
       " 185.4475,\n",
       " 186.8975,\n",
       " 178.1725,\n",
       " 174.80625,\n",
       " 169.4875,\n",
       " 172.63375,\n",
       " 167.8075,\n",
       " 173.2125,\n",
       " 179.7,\n",
       " 178.8525,\n",
       " 184.495,\n",
       " 176.55375,\n",
       " 184.75625,\n",
       " 176.74625,\n",
       " 194.1925,\n",
       " 178.37375,\n",
       " 175.6025,\n",
       " 184.44125]"
      ]
     },
     "execution_count": 12,
     "metadata": {},
     "output_type": "execute_result"
    }
   ],
   "source": [
    "phi_b"
   ]
  },
  {
   "cell_type": "code",
   "execution_count": null,
   "id": "08c6e059-c088-4659-b223-7d5b6f710d6f",
   "metadata": {},
   "outputs": [],
   "source": []
  }
 ],
 "metadata": {
  "kernelspec": {
   "display_name": "Python 3 (ipykernel)",
   "language": "python",
   "name": "python3"
  },
  "language_info": {
   "codemirror_mode": {
    "name": "ipython",
    "version": 3
   },
   "file_extension": ".py",
   "mimetype": "text/x-python",
   "name": "python",
   "nbconvert_exporter": "python",
   "pygments_lexer": "ipython3",
   "version": "3.11.5"
  }
 },
 "nbformat": 4,
 "nbformat_minor": 5
}
