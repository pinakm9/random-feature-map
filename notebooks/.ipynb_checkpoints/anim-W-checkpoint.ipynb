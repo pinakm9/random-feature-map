{
 "cells": [
  {
   "cell_type": "code",
   "execution_count": 268,
   "id": "a0b3f3d7-ed91-4776-ab52-e23c5d4c7e02",
   "metadata": {},
   "outputs": [],
   "source": [
    "import numpy as np \n",
    "from scipy.integrate import odeint\n",
    "import os, sys \n",
    "from pathlib import Path\n",
    "from os.path import dirname, realpath\n",
    "script_dir = Path(dirname(realpath('.')))\n",
    "module_dir = str(script_dir)\n",
    "sys.path.insert(0, module_dir + '/modules')\n",
    "import utility as ut\n",
    "import surrogate as sr\n",
    "import matplotlib.pyplot as plt\n",
    "import pandas as pd\n",
    "from scipy import stats\n",
    "import sample as sm\n",
    "import hr_restrict as hrr\n",
    "from matplotlib.animation import FuncAnimation\n",
    "# warnings.filterwarnings('ignore')\n",
    "from IPython.display import HTML"
   ]
  },
  {
   "cell_type": "markdown",
   "id": "68d97495-7183-4e68-ac74-1d0b8ee6cad9",
   "metadata": {},
   "source": [
    "**Find Good Columns**"
   ]
  },
  {
   "cell_type": "code",
   "execution_count": 274,
   "id": "46848c6b-46b5-48f5-9dfc-e58b64e27ded",
   "metadata": {},
   "outputs": [
    {
     "name": "stdout",
     "output_type": "stream",
     "text": [
      "Time taken by sample is 0.0395 seconds\n",
      "mismatch=0.012885224596137545, penalty=0.21407236176898742\n"
     ]
    },
    {
     "data": {
      "image/png": "[encoded data removed]",
      "text/plain": [
       "<Figure size 640x480 with 1 Axes>"
      ]
     },
     "metadata": {},
     "output_type": "display_data"
    }
   ],
   "source": [
    "D_r, L0, L1, beta = 1024, 0.4, 3.5, 4e-5\n",
    "def get_cn(W):\n",
    "    c = np.max(np.abs(W), axis=0)\n",
    "    return np.sort(c), np.argsort(c)[::-1]\n",
    "\n",
    "    \n",
    "L63_data_path = '../data/L63-trajectories'\n",
    "save_folder = '../data/animW'\n",
    "train = np.load('{}/validation.npy'.format(L63_data_path))[:, :20000]\n",
    "sampler = hrr.GoodRowSampler(L0, L1, train)\n",
    "Wb = sampler.sample(D_r)\n",
    "W_in, b_in = Wb[:, :-1], Wb[:, -1]\n",
    "model0 = sr.SurrogateModel_LR(D=3, D_r=D_r, W_in_fn=W_in, b_in_fn=b_in)\n",
    "model0.compute_W(train, beta)\n",
    "phi_train = np.tanh(model0.W_in @ train[:, :-1] + model0.b_in[:, np.newaxis])\n",
    "mismatch = ((model0.W @ phi_train - train[:, 1:])**2).sum()\n",
    "penalty = beta*(model0.W**2).sum()\n",
    "plt.plot(range(D_r), get_cn(model0.W)[0])\n",
    "print(f'mismatch={mismatch}, penalty={penalty}')"
   ]
  },
  {
   "cell_type": "markdown",
   "id": "f10c4a17-3c52-4207-8dc1-a03e30b4c3f2",
   "metadata": {},
   "source": [
    "**Findings ($\\beta=4\\times10^{-5}$): 1) mismatch $<$ penalty when $N_g=120$ , 2) 4mismatch $<$ penalty when $N_g=200$<br>\n",
    "3) 6mismatch $<$ penalty when $N_g=300$**"
   ]
  },
  {
   "cell_type": "markdown",
   "id": "63f63d48-19ab-4202-bd2f-c21c10511942",
   "metadata": {},
   "source": [
    "**Start a surrogate model with $N_g=120$**"
   ]
  },
  {
   "cell_type": "code",
   "execution_count": 279,
   "id": "7408e797-402b-4af2-b438-d1f9f9b6eb78",
   "metadata": {},
   "outputs": [
    {
     "name": "stdout",
     "output_type": "stream",
     "text": [
      "Time taken by sample is 0.0389 seconds\n"
     ]
    },
    {
     "data": {
      "text/plain": [
       "[<matplotlib.lines.Line2D at 0x32c78d090>]"
      ]
     },
     "execution_count": 279,
     "metadata": {},
     "output_type": "execute_result"
    },
    {
     "data": {
      "image/png": "[encoded data removed]",
      "text/plain": [
       "<Figure size 640x480 with 1 Axes>"
      ]
     },
     "metadata": {},
     "output_type": "display_data"
    }
   ],
   "source": [
    "%matplotlib inline\n",
    "N, final_D_r = 300, 1024\n",
    "Wb = sampler.sample(final_D_r)\n",
    "W_in, b_in = Wb[:, :-1], Wb[:, -1]\n",
    "idx = get_cn(model0.W)[1]\n",
    "W_in[:N, :], b_in[:N] = model0.W_in[idx[:N], :], model0.b_in[idx[:N]]\n",
    "fig, ax = plt.subplots()\n",
    "c = np.arange(final_D_r)\n",
    "# line = ax.plot(c, list(get_cn(model0.W)[0][::-1][:N]) + [np.nan]*(final_D_r-N))[0]\n",
    "line = ax.plot(c, [np.nan]*final_D_r)[0]\n",
    "ax.set_xlim((c.min(),c.max()))\n",
    "\n",
    "def update1(frame):\n",
    "    ax.clear()\n",
    "    D_r = N + frame\n",
    "    model = sr.SurrogateModel_LR(D=3, D_r=D_r, W_in_fn=W_in[:D_r,:], b_in_fn=b_in[:D_r])\n",
    "    model.compute_W(train, beta)\n",
    "    line = ax.plot(c, list(get_cn(model.W)[0][::-1]) + [np.nan]*(final_D_r-D_r))\n",
    "    ax.set_xlim((c.min(),c.max()))\n",
    "    ax.set_ylim((0, 6))\n",
    "    ax.set_ylabel(r'$\\|\\mathbf{W}^{j}\\|_\\infty$')\n",
    "    return line\n",
    "\n",
    "def update2(frame):\n",
    "    # ax.clear()\n",
    "    D_r = N + frame\n",
    "    model = sr.SurrogateModel_LR(D=3, D_r=D_r, W_in_fn=W_in[:D_r,:], b_in_fn=b_in[:D_r])\n",
    "    model.compute_W(train, beta)\n",
    "    line = ax.plot(c, list(get_cn(model.W)[0][::-1]) +\\\n",
    "                   [np.nan]*(final_D_r-D_r), label=fr'$N^0=${(np.max(np.abs(model.W), axis=0)<1).sum()}')\n",
    "    ax.axvline(x=N, c='black')\n",
    "    ax.set_xlim((c.min(),c.max()))\n",
    "    ax.set_ylim((0, 6))\n",
    "    ax.set_ylabel(r'$\\|\\mathbf{W}^{j}\\|_\\infty$')\n",
    "    ax.legend()\n",
    "    return line\n",
    "\n",
    "def update3(frame):\n",
    "    ax.clear()\n",
    "    D_r = N + frame\n",
    "    model = sr.SurrogateModel_LR(D=3, D_r=D_r, W_in_fn=W_in[:D_r,:], b_in_fn=b_in[:D_r])\n",
    "    model.compute_W(train, beta)\n",
    "    line = ax.plot(c, list(get_cn(model.W[:, :N])[0][::-1]) + list(get_cn(model.W[:, N:])[0][::-1]) + [np.nan]*(final_D_r-D_r))\n",
    "    ax.axvline(x=N, c='black')\n",
    "    ax.set_xlim((c.min(),c.max()))\n",
    "    ax.set_ylim((0, 6))\n",
    "    ax.set_ylabel(r'$\\|\\mathbf{W}^{j}\\|_\\infty$')\n",
    "    return line\n",
    "\n",
    "def update4(frame):\n",
    "    # ax.clear()\n",
    "    D_r = N + frame\n",
    "    model = sr.SurrogateModel_LR(D=3, D_r=D_r, W_in_fn=W_in[:D_r,:], b_in_fn=b_in[:D_r])\n",
    "    model.compute_W(train, beta)\n",
    "    line = ax.plot(c, list(get_cn(model.W[:, :N])[0][::-1]) + list(get_cn(model.W[:, N:])[0][::-1]) + [np.nan]*(final_D_r-D_r))\n",
    "    ax.axvline(x=N, c='black')\n",
    "    ax.set_xlim((c.min(),c.max()))\n",
    "    ax.set_ylim((0, 6))\n",
    "    ax.set_ylabel(r'$\\|\\mathbf{W}^{j}\\|_\\infty$')\n",
    "    # ax.set_xlabel(r'$j$')\n",
    "    return line\n",
    "\n",
    "def update5(frame):\n",
    "    ax.clear()\n",
    "    D_r = N + frame\n",
    "    model = sr.SurrogateModel_LR(D=3, D_r=D_r, W_in_fn=W_in[:D_r,:], b_in_fn=b_in[:D_r])\n",
    "    model.compute_W(train, beta)\n",
    "    line = ax.plot(c, list(np.max(np.abs(model.W[:, :N]), axis=0)) + list(np.max(np.abs(model.W[:, N:]), axis=0)) +\\\n",
    "                   [np.nan]*(final_D_r-D_r), label=fr'$N^0=${(np.max(np.abs(model.W), axis=0)<1).sum()}')\n",
    "    ax.axvline(x=N, c='black')\n",
    "    ax.set_xlim((c.min(),c.max()))\n",
    "    ax.set_ylim((0, 6))\n",
    "    ax.set_ylabel(r'$\\|\\mathbf{W}^{j}\\|_\\infty$')\n",
    "    ax.legend()\n",
    "    # ax.set_xlabel(r'$j$')\n",
    "    return line\n",
    "\n",
    "# ani1 = FuncAnimation(fig=fig, func=update1, frames=range(0, final_D_r-N, 3), interval=30)\n",
    "ani2 = FuncAnimation(fig=fig, func=update2, frames=range(0, final_D_r-N, 3), interval=30)\n",
    "# ani3 = FuncAnimation(fig=fig, func=update3, frames=range(0, final_D_r-N, 3), interval=30)\n",
    "# ani4 = FuncAnimation(fig=fig, func=update4, frames=range(0, final_D_r-N, 3), interval=30)\n",
    "# ani5 = FuncAnimation(fig=fig, func=update5, frames=range(0, final_D_r-N, 3), interval=30)\n",
    "# HTML(ani4.to_jshtml())"
   ]
  },
  {
   "cell_type": "code",
   "execution_count": 246,
   "id": "2626fdd0-5e17-47df-9ede-d486ca1ca333",
   "metadata": {},
   "outputs": [],
   "source": [
    "ani1.save(filename=f\"../data/plots/mode_evol1_{final_D_r}.mp4\", writer=\"ffmpeg\")"
   ]
  },
  {
   "cell_type": "code",
   "execution_count": 280,
   "id": "5ab6c17a-85db-4256-a693-1f861affe717",
   "metadata": {},
   "outputs": [],
   "source": [
    "ani2.save(filename=f\"../data/plots/mode_evol2_{final_D_r}.mp4\", writer=\"ffmpeg\")"
   ]
  },
  {
   "cell_type": "code",
   "execution_count": 240,
   "id": "4cdbddb2-f991-4fb1-a34b-926446a2e42e",
   "metadata": {},
   "outputs": [],
   "source": [
    "ani3.save(filename=f\"../data/plots/mode_evol3_{N}_final_D_r}.mp4\", writer=\"ffmpeg\")"
   ]
  },
  {
   "cell_type": "code",
   "execution_count": 256,
   "id": "6686b8bf-5eaa-4b84-ada3-2f9ea3445076",
   "metadata": {},
   "outputs": [],
   "source": [
    "ani4.save(filename=f\"../data/plots/mode_evol4_{N}_{final_D_r}.mp4\", writer=\"ffmpeg\")"
   ]
  },
  {
   "cell_type": "code",
   "execution_count": 278,
   "id": "2b740b62-e823-4d20-9af0-b5e0a0146e31",
   "metadata": {},
   "outputs": [],
   "source": [
    "ani5.save(filename=f\"../data/plots/mode_evol5_{N}_{final_D_r}.mp4\", writer=\"ffmpeg\")"
   ]
  },
  {
   "cell_type": "code",
   "execution_count": 260,
   "id": "40e6f611-4719-4e38-aaed-1c6387565dbf",
   "metadata": {},
   "outputs": [
    {
     "data": {
      "text/plain": [
       "array([ True,  True,  True, ...,  True,  True,  True])"
      ]
     },
     "execution_count": 260,
     "metadata": {},
     "output_type": "execute_result"
    }
   ],
   "source": [
    "np.max(np.abs(model0.W), axis=0) < 1"
   ]
  },
  {
   "cell_type": "code",
   "execution_count": 209,
   "id": "27caaed0-ee2b-424f-abb3-cf47cdc964f9",
   "metadata": {},
   "outputs": [
    {
     "data": {
      "image/png": "[encoded data removed]",
      "text/plain": [
       "<Figure size 640x480 with 1 Axes>"
      ]
     },
     "metadata": {},
     "output_type": "display_data"
    }
   ],
   "source": [
    "plt.plot(c[:N],  )\n",
    "plt.show()"
   ]
  },
  {
   "cell_type": "code",
   "execution_count": 273,
   "id": "286f5c79-4777-420a-ab24-ea89b1dc7062",
   "metadata": {},
   "outputs": [
    {
     "data": {
      "text/plain": [
       "(1024, 20000)"
      ]
     },
     "execution_count": 273,
     "metadata": {},
     "output_type": "execute_result"
    }
   ],
   "source": [
    "W_in.shape"
   ]
  },
  {
   "cell_type": "code",
   "execution_count": null,
   "id": "926eba9c-0755-47fd-af2d-b760b65d314a",
   "metadata": {},
   "outputs": [],
   "source": []
  }
 ],
 "metadata": {
  "kernelspec": {
   "display_name": "Python 3 (ipykernel)",
   "language": "python",
   "name": "python3"
  },
  "language_info": {
   "codemirror_mode": {
    "name": "ipython",
    "version": 3
   },
   "file_extension": ".py",
   "mimetype": "text/x-python",
   "name": "python",
   "nbconvert_exporter": "python",
   "pygments_lexer": "ipython3",
   "version": "3.11.5"
  }
 },
 "nbformat": 4,
 "nbformat_minor": 5
}
