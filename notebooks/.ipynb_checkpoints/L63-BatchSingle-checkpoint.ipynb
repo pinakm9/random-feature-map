{
 "cells": [
  {
   "cell_type": "markdown",
   "id": "cd31116e-fc70-4deb-9e60-cce214ae79a5",
   "metadata": {},
   "source": [
    "**Load necessary modules**"
   ]
  },
  {
   "cell_type": "code",
   "execution_count": 1,
   "id": "85c9fa96-6e72-4425-bb1c-7830afec4591",
   "metadata": {},
   "outputs": [],
   "source": [
    "import numpy as np \n",
    "from scipy.integrate import odeint\n",
    "import os, sys \n",
    "from pathlib import Path\n",
    "from os.path import dirname, realpath\n",
    "script_dir = Path(dirname(realpath('.')))\n",
    "module_dir = str(script_dir)\n",
    "sys.path.insert(0, module_dir + '/modules')\n",
    "import utility as ut\n",
    "import surrogate as sr\n",
    "import matplotlib.pyplot as plt\n",
    "import pandas as pd"
   ]
  },
  {
   "cell_type": "markdown",
   "id": "f79cb1ab-05d1-4744-87f2-732f32e8a7c6",
   "metadata": {},
   "source": [
    "**Run a batch of experiments and save data**"
   ]
  },
  {
   "cell_type": "code",
   "execution_count": 4,
   "id": "f2fbc536-9a85-4c07-8d3b-729b067b912a",
   "metadata": {},
   "outputs": [
    {
     "name": "stdout",
     "output_type": "stream",
     "text": [
      "Time taken by run_single is 48.76605010032654 seconds\n",
      "Time taken by run is 48.78053116798401 seconds\n"
     ]
    }
   ],
   "source": [
    "D, D_r = 3, 300\n",
    "Lyapunov_time, dt = 1./.91, 0.02\n",
    "error_threshold = 0.05\n",
    "beta = 4e-5\n",
    "w_max, b_max = 0.04138, 0.27586\n",
    "sqrt_n_models = 30\n",
    "n_repeats = 1000\n",
    "\n",
    "L63_data_folder = '../data/L63-trajectories'\n",
    "train = np.load('{}/train.npy'.format(L63_data_folder))[:, :20000]\n",
    "validation = np.load('{}/validation.npy'.format(L63_data_folder))[:, :300]\n",
    "\n",
    "\n",
    "batch = sr.BatchSingle_SMLR('../data/L63-SMLR-single-good', D, D_r, w_max, b_max, beta, error_threshold, dt, Lyapunov_time)\n",
    "batch.run(train[:, :10000], validation, n_repeats)"
   ]
  },
  {
   "cell_type": "code",
   "execution_count": 5,
   "id": "6c91003d-b9b7-45af-8db1-b33e4f965e74",
   "metadata": {},
   "outputs": [
    {
     "name": "stdout",
     "output_type": "stream",
     "text": [
      "Time taken by run_single is 50.94663596153259 seconds\n",
      "Time taken by run is 50.96237397193909 seconds\n"
     ]
    }
   ],
   "source": [
    "w_max, b_max = 0.38620, 0.96552\n",
    "batch = sr.BatchSingle_SMLR('../data/L63-SMLR-single-bad', D, D_r, w_max, b_max, beta, error_threshold, dt, Lyapunov_time)\n",
    "batch.run(train[:, :10000], validation, n_repeats)"
   ]
  },
  {
   "cell_type": "code",
   "execution_count": null,
   "id": "6fb0743c-15c8-4677-aae8-54944c28dc43",
   "metadata": {},
   "outputs": [],
   "source": []
  }
 ],
 "metadata": {
  "kernelspec": {
   "display_name": "Python 3 (ipykernel)",
   "language": "python",
   "name": "python3"
  },
  "language_info": {
   "codemirror_mode": {
    "name": "ipython",
    "version": 3
   },
   "file_extension": ".py",
   "mimetype": "text/x-python",
   "name": "python",
   "nbconvert_exporter": "python",
   "pygments_lexer": "ipython3",
   "version": "3.11.5"
  }
 },
 "nbformat": 4,
 "nbformat_minor": 5
}
