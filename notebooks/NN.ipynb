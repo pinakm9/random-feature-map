{
 "cells": [
  {
   "cell_type": "code",
   "execution_count": 1,
   "id": "9f91fe87-e4cf-4d90-bf34-2e9dac62ef97",
   "metadata": {},
   "outputs": [],
   "source": [
    "import numpy as np \n",
    "from scipy.integrate import odeint\n",
    "import os, sys, warnings\n",
    "from pathlib import Path\n",
    "from os.path import dirname, realpath\n",
    "script_dir = Path(dirname(realpath('.')))\n",
    "module_dir = str(script_dir)\n",
    "sys.path.insert(0, module_dir + '/modules')\n",
    "import utility as ut\n",
    "import surrogate_nn as srnn\n",
    "import matplotlib.pyplot as plt\n",
    "import pandas as pd\n",
    "import torch\n",
    "from torch import nn\n",
    "from torch.optim import lr_scheduler\n",
    "from torch.utils.data import DataLoader, TensorDataset\n",
    "warnings.filterwarnings('ignore')"
   ]
  },
  {
   "cell_type": "code",
   "execution_count": 2,
   "id": "d8341f71-46f2-49e7-bee9-8154bace790c",
   "metadata": {},
   "outputs": [],
   "source": [
    "L63_data_path = '../data/L63-trajectories'\n",
    "N = 20000\n",
    "train = np.load(f'{L63_data_path}/train.npy')[:, :N].astype(np.float32)\n",
    "test = np.load(f'{L63_data_path}/test.npy')[:, :, :1000].astype(np.float32)\n",
    "\n",
    "train_dataset = TensorDataset(torch.Tensor(train[:, :-1].T), torch.Tensor(train[:, 1:].T))\n",
    "# test_dataset = test = np.load(f'{L63_data_path}/test.npy')[:, :, 1000]\n",
    "train_dataloader = DataLoader(train_dataset, batch_size=int(N/10))#, shuffle=True)\n",
    "# test_dataloader = DataLoader(test_data, batch_size=64, shuffle=True)\n",
    "\n",
    "model = srnn.SurrogateModel_NN(3, 300, name='test_model', save_folder='../data/test/test_model')\n",
    "x = torch.rand(3)"
   ]
  },
  {
   "cell_type": "code",
   "execution_count": 3,
   "id": "29f3a2f6-d413-4364-bd63-3e87f25c5f45",
   "metadata": {},
   "outputs": [
    {
     "name": "stdout",
     "output_type": "stream",
     "text": [
      "epoch: 0    loss: 15521151.000000     time elapsed=0.0243\n",
      "epoch: 100    loss: 15521151.000000     time elapsed=2.1424\n",
      "epoch: 200    loss: 15521151.000000     time elapsed=4.2068\n",
      "epoch: 300    loss: 15521151.000000     time elapsed=6.1609\n",
      "epoch: 400    loss: 15521151.000000     time elapsed=8.1781\n",
      "epoch: 500    loss: 15521151.000000     time elapsed=10.2749\n",
      "epoch: 600    loss: 15521151.000000     time elapsed=12.2799\n",
      "epoch: 700    loss: 15521151.000000     time elapsed=14.2318\n",
      "epoch: 800    loss: 15521151.000000     time elapsed=16.2807\n",
      "epoch: 900    loss: 15521151.000000     time elapsed=18.2302\n",
      "Time taken by learn is 20.3290 seconds\n"
     ]
    }
   ],
   "source": [
    "model.learn(train, epochs=1000, learning_rate=1e-3)"
   ]
  },
  {
   "cell_type": "code",
   "execution_count": 4,
   "id": "f847e2b7-9805-4513-938c-e0bcec7ebbef",
   "metadata": {},
   "outputs": [
    {
     "name": "stdout",
     "output_type": "stream",
     "text": [
      "Time taken by compute_tau_f is 6.4911 seconds\n"
     ]
    }
   ],
   "source": [
    "tau_f_rmse, tau_f_se, rmse, se = model.compute_tau_f(test[:500], error_threshold=0.05)"
   ]
  },
  {
   "cell_type": "code",
   "execution_count": 5,
   "id": "d306fb85-6025-41db-92b1-2f5c271f027f",
   "metadata": {},
   "outputs": [
    {
     "data": {
      "image/png": "[encoded data removed]",
      "text/plain": [
       "<Figure size 640x480 with 1 Axes>"
      ]
     },
     "metadata": {},
     "output_type": "display_data"
    }
   ],
   "source": [
    "plt.hist(tau_f_se, density=True)\n",
    "plt.xlabel(r'$\\tau_f$ (NN)')\n",
    "plt.savefig('../data/plots/tau_f_NN.png')\n",
    "# plt.title(f'training_data_size={N}')"
   ]
  },
  {
   "cell_type": "code",
   "execution_count": 6,
   "id": "d390eee1-fdde-4ccf-a9b4-a15c687f4664",
   "metadata": {},
   "outputs": [
    {
     "name": "stdout",
     "output_type": "stream",
     "text": [
      "Time taken by compute_tau_f is 0.3758 seconds\n"
     ]
    },
    {
     "data": {
      "text/plain": [
       "Text(0.5, 1.0, 'training_data_size=20000')"
      ]
     },
     "execution_count": 6,
     "metadata": {},
     "output_type": "execute_result"
    },
    {
     "data": {
      "image/png": "[encoded data removed]",
      "text/plain": [
       "<Figure size 640x480 with 1 Axes>"
      ]
     },
     "metadata": {},
     "output_type": "display_data"
    }
   ],
   "source": [
    "tau_f_rmse, tau_f_se, rmse, se = model.compute_tau_f(train.T.reshape(-1, 3, 800))\n",
    "\n",
    "plt.hist(tau_f_se)\n",
    "plt.xlabel(r'$\\tau_f$ (NN), for train data')\n",
    "plt.title(f'training_data_size={N}')"
   ]
  },
  {
   "cell_type": "code",
   "execution_count": 7,
   "id": "1b826734-53d5-438f-a1c4-e5091e6dd576",
   "metadata": {},
   "outputs": [
    {
     "data": {
      "text/plain": [
       "0.0"
      ]
     },
     "execution_count": 7,
     "metadata": {},
     "output_type": "execute_result"
    }
   ],
   "source": [
    "tau_f_se.mean()"
   ]
  },
  {
   "cell_type": "code",
   "execution_count": 8,
   "id": "abec1600-bdd2-46b8-a835-bb9f8a528531",
   "metadata": {},
   "outputs": [
    {
     "name": "stdout",
     "output_type": "stream",
     "text": [
      "tensor([[ -8.3611, -13.3140,  18.1467],\n",
      "        [ -9.3860, -14.6547,  19.6255],\n",
      "        [-10.4542, -15.8231,  21.5584],\n",
      "        ...,\n",
      "        [  2.0305,   3.3969,  15.7262],\n",
      "        [  2.3213,   3.8728,  15.0634],\n",
      "        [  2.6548,   4.4476,  14.4824]]) tensor([[ -9.3860, -14.6547,  19.6255],\n",
      "        [-10.4542, -15.8231,  21.5584],\n",
      "        [-11.5119, -16.6562,  23.9250],\n",
      "        ...,\n",
      "        [  2.3213,   3.8728,  15.0634],\n",
      "        [  2.6548,   4.4476,  14.4824],\n",
      "        [  3.0424,   5.1353,  13.9958]])\n",
      "tensor([[ 3.0424,  5.1353, 13.9958],\n",
      "        [ 3.4962,  5.9518, 13.6216],\n",
      "        [ 4.0290,  6.9134, 13.3851],\n",
      "        ...,\n",
      "        [14.0473, 11.6263, 36.7345],\n",
      "        [13.3525,  8.8866, 37.5703],\n",
      "        [12.2934,  6.2659, 37.5103]]) tensor([[ 3.4962,  5.9518, 13.6216],\n",
      "        [ 4.0290,  6.9134, 13.3851],\n",
      "        [ 4.6544,  8.0351, 13.3216],\n",
      "        ...,\n",
      "        [13.3525,  8.8866, 37.5703],\n",
      "        [12.2934,  6.2659, 37.5103],\n",
      "        [10.9839,  4.0252, 36.7231]])\n",
      "tensor([[10.9839,  4.0252, 36.7231],\n",
      "        [ 9.5522,  2.2928, 35.4411],\n",
      "        [ 8.1150,  1.0769, 33.8848],\n",
      "        ...,\n",
      "        [-5.2309, -0.9258, 28.9462],\n",
      "        [-4.4444, -0.8837, 27.5267],\n",
      "        [-3.8046, -0.9592, 26.1702]]) tensor([[ 9.5522,  2.2928, 35.4411],\n",
      "        [ 8.1150,  1.0769, 33.8848],\n",
      "        [ 6.7612,  0.3086, 32.2215],\n",
      "        ...,\n",
      "        [-4.4444, -0.8837, 27.5267],\n",
      "        [-3.8046, -0.9592, 26.1702],\n",
      "        [-3.3023, -1.1132, 24.8820]])\n",
      "tensor([[ -3.3023,  -1.1132,  24.8820],\n",
      "        [ -2.9242,  -1.3199,  23.6629],\n",
      "        [ -2.6557,  -1.5642,  22.5118],\n",
      "        ...,\n",
      "        [ -9.5990, -16.2401,  17.0468],\n",
      "        [-10.9621, -17.8938,  19.5890],\n",
      "        [-12.3418, -19.1151,  22.7890]]) tensor([[ -2.9242,  -1.3199,  23.6629],\n",
      "        [ -2.6557,  -1.5642,  22.5118],\n",
      "        [ -2.4832,  -1.8391,  21.4274],\n",
      "        ...,\n",
      "        [-10.9621, -17.8938,  19.5890],\n",
      "        [-12.3418, -19.1151,  22.7890],\n",
      "        [-13.6282, -19.5964,  26.5281]])\n",
      "tensor([[-13.6282, -19.5964,  26.5281],\n",
      "        [-14.6763, -19.0543,  30.5132],\n",
      "        [-15.3277, -17.3488,  34.2859],\n",
      "        ...,\n",
      "        [  6.0192,   8.3061,  19.7591],\n",
      "        [  6.5131,   9.1628,  19.7987],\n",
      "        [  7.0777,  10.0699,  20.0434]]) tensor([[-14.6763, -19.0543,  30.5132],\n",
      "        [-15.3277, -17.3488,  34.2859],\n",
      "        [-15.4495, -14.5923,  37.3253],\n",
      "        ...,\n",
      "        [  6.5131,   9.1628,  19.7987],\n",
      "        [  7.0777,  10.0699,  20.0434],\n",
      "        [  7.7073,  11.0020,  20.5204]])\n",
      "tensor([[ 7.7073, 11.0020, 20.5204],\n",
      "        [ 8.3911, 11.9200, 21.2533],\n",
      "        [ 9.1118, 12.7685, 22.2568],\n",
      "        ...,\n",
      "        [ 6.2272, 10.2874, 15.6720],\n",
      "        [ 7.0912, 11.6701, 16.2826],\n",
      "        [ 8.0568, 13.1243, 17.2675]]) tensor([[ 8.3911, 11.9200, 21.2533],\n",
      "        [ 9.1118, 12.7685, 22.2568],\n",
      "        [ 9.8437, 13.4765, 23.5283],\n",
      "        ...,\n",
      "        [ 7.0912, 11.6701, 16.2826],\n",
      "        [ 8.0568, 13.1243, 17.2675],\n",
      "        [ 9.1118, 14.5706, 18.6897]])\n",
      "tensor([[ 9.1118, 14.5706, 18.6897],\n",
      "        [10.2276, 15.8859, 20.5941],\n",
      "        [11.3544, 16.9021, 22.9820],\n",
      "        ...,\n",
      "        [ 1.7431, -3.0146, 27.4918],\n",
      "        [ 0.8889, -2.9243, 25.9889],\n",
      "        [ 0.2060, -2.8393, 24.6092]]) tensor([[10.2276, 15.8859, 20.5941],\n",
      "        [11.3544, 16.9021, 22.9820],\n",
      "        [12.4177, 17.4208, 25.7787],\n",
      "        ...,\n",
      "        [ 0.8889, -2.9243, 25.9889],\n",
      "        [ 0.2060, -2.8393, 24.6092],\n",
      "        [-0.3407, -2.7905, 23.3354]])\n",
      "tensor([[-0.3407, -2.7905, 23.3354],\n",
      "        [-0.7844, -2.7956, 22.1545],\n",
      "        [-1.1544, -2.8645, 21.0576],\n",
      "        ...,\n",
      "        [-2.4977,  1.8040, 27.2532],\n",
      "        [-1.7264,  1.7078, 25.7659],\n",
      "        [-1.1146,  1.5936, 24.3824]]) tensor([[-0.7844, -2.7956, 22.1545],\n",
      "        [-1.1544, -2.8645, 21.0576],\n",
      "        [-1.4763, -3.0031, 20.0393],\n",
      "        ...,\n",
      "        [-1.7264,  1.7078, 25.7659],\n",
      "        [-1.1146,  1.5936, 24.3824],\n",
      "        [-0.6337,  1.4900, 23.0902]])\n",
      "tensor([[-0.6337,  1.4900, 23.0902],\n",
      "        [-0.2564,  1.4134, 21.8786],\n",
      "        [ 0.0419,  1.3726, 20.7396],\n",
      "        ...,\n",
      "        [14.5419, 15.5504, 34.1320],\n",
      "        [14.5064, 13.1205, 36.4372],\n",
      "        [13.9906, 10.2575, 37.8014]]) tensor([[-0.2564,  1.4134, 21.8786],\n",
      "        [ 0.0419,  1.3726, 20.7396],\n",
      "        [ 0.2824,  1.3716, 19.6669],\n",
      "        ...,\n",
      "        [14.5064, 13.1205, 36.4372],\n",
      "        [13.9906, 10.2575, 37.8014],\n",
      "        [13.0399,  7.3560, 38.1588]])\n",
      "tensor([[13.0399,  7.3560, 38.1588],\n",
      "        [11.7598,  4.7596, 37.6357],\n",
      "        [10.2872,  2.6761, 36.4723],\n",
      "        ...,\n",
      "        [-9.2793, -5.5981, 32.0444],\n",
      "        [-8.5377, -4.8378, 31.2825],\n",
      "        [-7.8119, -4.2816, 30.3809]]) tensor([[11.7598,  4.7596, 37.6357],\n",
      "        [10.2872,  2.6761, 36.4723],\n",
      "        [ 8.7574,  1.1641, 34.9278],\n",
      "        ...,\n",
      "        [-8.5377, -4.8378, 31.2825],\n",
      "        [-7.8119, -4.2816, 30.3809],\n",
      "        [-7.1350, -3.9159, 29.3969]])\n"
     ]
    }
   ],
   "source": [
    "for batch, (X, y) in enumerate(train_dataloader):\n",
    "    print(X, y)"
   ]
  },
  {
   "cell_type": "code",
   "execution_count": 9,
   "id": "984b261e-76f2-4905-94eb-1b80b4ea0ffd",
   "metadata": {},
   "outputs": [
    {
     "data": {
      "text/plain": [
       "array([[ -8.361066 , -13.313976 ,  18.146687 ],\n",
       "       [ -9.38598  , -14.654672 ,  19.625534 ],\n",
       "       [-10.454209 , -15.823077 ,  21.55841  ],\n",
       "       ...,\n",
       "       [ -8.537725 ,  -4.837833 ,  31.28254  ],\n",
       "       [ -7.811937 ,  -4.2815824,  30.380886 ],\n",
       "       [ -7.1350317,  -3.9159417,  29.39694  ]], dtype=float32)"
      ]
     },
     "execution_count": 9,
     "metadata": {},
     "output_type": "execute_result"
    }
   ],
   "source": [
    "train.T"
   ]
  },
  {
   "cell_type": "code",
   "execution_count": 10,
   "id": "92ee3a86-e33f-40fb-b000-0c3b38ee99f8",
   "metadata": {},
   "outputs": [],
   "source": [
    "import torch.nn.functional as F"
   ]
  },
  {
   "cell_type": "code",
   "execution_count": 11,
   "id": "91116d20-58ec-4027-9c75-965424c5fdd8",
   "metadata": {},
   "outputs": [],
   "source": [
    "l = nn.Linear(3, 300)"
   ]
  },
  {
   "cell_type": "code",
   "execution_count": 12,
   "id": "4c7ef6d9-7976-435b-8291-22047cadcfcc",
   "metadata": {},
   "outputs": [
    {
     "data": {
      "text/plain": [
       "tensor([ 7.2591e-01, -3.4724e-01, -2.7511e-01,  6.1129e-01, -1.1216e-01,\n",
       "        -1.7826e-01, -5.2327e-01,  2.1312e-01,  7.8228e-01,  1.9264e-01,\n",
       "        -3.1225e-01, -8.4823e-01, -3.6268e-01, -4.7135e-01, -9.1461e-02,\n",
       "         4.2809e-01, -6.3285e-02, -8.1350e-03,  2.5848e-01, -2.7870e-01,\n",
       "         2.7073e-01,  4.9469e-01, -2.8191e-01, -1.7093e-01, -5.7733e-01,\n",
       "         3.5284e-01, -5.1748e-02,  6.5180e-01,  7.0430e-01, -4.5280e-01,\n",
       "         3.9331e-02,  6.5948e-01,  7.2504e-01,  2.3926e-02, -4.1919e-01,\n",
       "         7.1556e-01, -4.6897e-01, -7.1909e-01, -1.3418e-01, -2.4838e-01,\n",
       "        -7.7726e-01,  3.4868e-01, -5.0683e-01, -3.8286e-01,  3.0096e-01,\n",
       "         3.8429e-01, -2.1092e-01, -6.1968e-01,  1.9721e-01, -3.6123e-01,\n",
       "        -3.0290e-01, -2.7781e-02,  6.5367e-01,  4.1645e-01,  7.4477e-01,\n",
       "        -1.9997e-01, -7.8077e-03, -5.2204e-01,  3.1103e-01, -2.0707e-01,\n",
       "         1.4366e-01, -6.1016e-01, -1.1673e-01, -1.8571e-01,  3.6141e-01,\n",
       "         6.2979e-01,  8.4661e-02,  1.0155e-01, -7.6296e-02,  9.8354e-02,\n",
       "         1.1612e-02, -1.6757e-01, -8.8623e-02, -1.6275e-01,  1.9171e-01,\n",
       "        -7.7871e-01, -1.8673e-01,  5.5441e-02, -1.3785e-01, -2.6131e-01,\n",
       "        -4.5060e-01, -2.2593e-01, -9.1848e-02,  4.7954e-01,  5.4705e-02,\n",
       "         1.6029e-01, -6.4750e-02,  2.0541e-01,  3.3142e-01,  4.8519e-01,\n",
       "        -1.6777e-01,  7.3776e-01, -1.4099e-01,  7.7613e-01,  2.2069e-01,\n",
       "        -1.6097e-01,  1.4551e-01,  4.8131e-01, -2.8967e-01,  4.6107e-01,\n",
       "         4.7443e-01, -3.0603e-01, -6.9117e-01,  6.3032e-01,  2.0225e-02,\n",
       "        -2.0253e-01, -3.1936e-01, -7.7151e-01, -7.6480e-01,  4.6760e-01,\n",
       "        -8.0775e-03, -5.7731e-01,  2.0294e-01,  3.9799e-01,  7.7583e-01,\n",
       "        -5.6480e-01,  2.4024e-01, -6.9202e-01, -2.8101e-01, -2.3438e-01,\n",
       "         7.4636e-01,  5.0746e-01,  2.0642e-01, -3.1626e-01, -4.2541e-02,\n",
       "         7.8453e-01,  1.4644e-01, -5.1656e-01, -7.7160e-01,  5.4459e-01,\n",
       "        -1.6395e-01, -1.0925e-01,  3.7895e-01,  1.3251e-01, -6.6800e-02,\n",
       "        -8.7443e-02, -2.9079e-01,  1.0963e-01, -5.0791e-01, -2.2845e-01,\n",
       "         2.1246e-01,  6.0829e-03,  6.3518e-01, -2.1081e-01, -2.6680e-01,\n",
       "        -7.8217e-01, -4.7932e-01, -3.1090e-01,  6.5500e-02, -5.5732e-01,\n",
       "        -2.4748e-01, -8.1014e-01, -8.1234e-02, -2.5586e-01,  8.2222e-01,\n",
       "        -3.7458e-01,  7.3236e-02,  2.5474e-01,  7.2352e-02,  5.9628e-01,\n",
       "         2.7273e-01, -1.2354e-01,  8.2724e-01, -1.9486e-02, -1.9054e-01,\n",
       "        -6.2057e-01, -7.0320e-01,  5.8862e-01,  8.6348e-01, -5.6541e-01,\n",
       "         5.1756e-01, -4.6810e-02, -2.2098e-02,  5.2112e-01,  7.4688e-01,\n",
       "         1.6339e-01, -6.0762e-01, -1.8619e-01,  8.4862e-02, -3.0581e-01,\n",
       "        -1.8801e-01,  3.1959e-01,  1.2098e-01,  4.1621e-01, -1.5255e-01,\n",
       "        -8.1130e-01,  1.5561e-01, -3.5646e-01,  2.1270e-01,  7.3804e-01,\n",
       "        -1.3086e-01, -5.9950e-02,  6.5564e-01,  6.8778e-02, -7.7574e-01,\n",
       "         2.0307e-01, -2.3955e-01, -6.2299e-04,  7.1097e-01,  1.4955e-01,\n",
       "        -5.2000e-01,  2.3473e-01, -8.4821e-01, -5.4414e-01,  7.5085e-01,\n",
       "        -5.8224e-02, -1.9076e-02, -6.9086e-02, -9.5431e-02, -1.1836e-01,\n",
       "         5.1822e-02, -3.2995e-01,  4.3537e-01, -8.7318e-01, -1.9744e-01,\n",
       "        -4.9165e-01, -2.2843e-01,  6.7286e-01, -4.1047e-01,  2.1795e-01,\n",
       "        -6.6975e-02,  1.0024e-01, -1.5522e-01,  7.3648e-01, -1.5974e-01,\n",
       "        -9.1041e-02, -1.5028e-01,  6.0491e-03, -6.5298e-01,  3.2614e-01,\n",
       "        -2.0957e-01,  1.9567e-01, -7.1792e-02, -3.7229e-01, -1.3809e-02,\n",
       "         3.1804e-01, -3.7407e-01,  4.0538e-01, -3.7646e-01, -6.1491e-01,\n",
       "         8.6168e-01, -6.6776e-01,  3.8101e-01, -6.1879e-01,  5.4894e-01,\n",
       "         4.0572e-01, -9.5581e-02, -2.5893e-02, -7.1915e-02,  4.4382e-01,\n",
       "        -2.5699e-01, -4.1937e-01,  3.3128e-01, -1.4613e-01,  1.4641e-01,\n",
       "        -1.1363e-01,  1.2480e-01, -3.0033e-01, -2.9111e-01, -1.9908e-01,\n",
       "        -2.3672e-02,  3.5894e-01, -2.3078e-01,  3.6762e-01, -4.1179e-01,\n",
       "         2.4916e-01,  2.9806e-01,  1.6824e-02, -2.5158e-01,  2.2926e-01,\n",
       "         7.4801e-01,  4.0147e-01, -2.1552e-01, -4.4742e-02,  3.3711e-01,\n",
       "        -9.6179e-02, -2.7979e-01, -9.0476e-03, -4.2070e-01,  4.5379e-01,\n",
       "         4.4023e-01,  5.5097e-01, -5.3494e-02,  4.1361e-02,  5.7107e-01,\n",
       "        -7.4574e-01,  2.3941e-01, -4.6619e-01, -2.9870e-01,  2.7890e-01,\n",
       "         9.7931e-02, -8.2940e-01, -2.9013e-01, -5.1118e-01,  2.6114e-02,\n",
       "        -7.6385e-01,  6.5615e-01, -7.3485e-01, -5.0537e-01,  5.1754e-02],\n",
       "       grad_fn=<TanhBackward0>)"
      ]
     },
     "execution_count": 12,
     "metadata": {},
     "output_type": "execute_result"
    }
   ],
   "source": [
    "F.tanh(l(torch.rand(3)))"
   ]
  },
  {
   "cell_type": "code",
   "execution_count": 13,
   "id": "3b3957ee-2a72-49ea-a4b7-f2ab16907d46",
   "metadata": {},
   "outputs": [
    {
     "data": {
      "text/plain": [
       "<torch.utils.data.dataset.TensorDataset at 0x167304510>"
      ]
     },
     "execution_count": 13,
     "metadata": {},
     "output_type": "execute_result"
    }
   ],
   "source": [
    "train_dataset"
   ]
  },
  {
   "cell_type": "code",
   "execution_count": 14,
   "id": "a57aa77a-ee35-4937-97ac-d7be5a54f3fc",
   "metadata": {},
   "outputs": [
    {
     "name": "stdout",
     "output_type": "stream",
     "text": [
      "tensor([[ 3.0424,  5.1353, 13.9958],\n",
      "        [ 3.4962,  5.9518, 13.6216],\n",
      "        [ 4.0290,  6.9134, 13.3851],\n",
      "        ...,\n",
      "        [14.0473, 11.6263, 36.7345],\n",
      "        [13.3525,  8.8866, 37.5703],\n",
      "        [12.2934,  6.2659, 37.5103]]) tensor([[ 3.4962,  5.9518, 13.6216],\n",
      "        [ 4.0290,  6.9134, 13.3851],\n",
      "        [ 4.6544,  8.0351, 13.3216],\n",
      "        ...,\n",
      "        [13.3525,  8.8866, 37.5703],\n",
      "        [12.2934,  6.2659, 37.5103],\n",
      "        [10.9839,  4.0252, 36.7231]])\n"
     ]
    }
   ],
   "source": [
    "for batch, (X, y) in enumerate(train_dataloader):\n",
    "    if batch == 1:\n",
    "        print(X, y)"
   ]
  },
  {
   "cell_type": "code",
   "execution_count": 15,
   "id": "480f8e73-923b-4cd0-8408-0d7d6b4f2fa2",
   "metadata": {},
   "outputs": [
    {
     "data": {
      "text/plain": [
       "tensor([[-0.3784, -0.5052, -0.1228],\n",
       "        [-0.5277, -0.6224, -0.1540],\n",
       "        [-0.6175, -0.7646, -0.1120],\n",
       "        ...,\n",
       "        [-0.0213, -0.7353, -0.3125],\n",
       "        [-0.0430, -0.7723, -0.3179],\n",
       "        [-0.0654, -0.8017, -0.3057]], grad_fn=<MmBackward0>)"
      ]
     },
     "execution_count": 15,
     "metadata": {},
     "output_type": "execute_result"
    }
   ],
   "source": [
    "model.net(X)"
   ]
  },
  {
   "cell_type": "code",
   "execution_count": 16,
   "id": "76160fef-3389-428f-aafe-cae17358070c",
   "metadata": {},
   "outputs": [
    {
     "data": {
      "text/plain": [
       "tensor([[-0.5277, -0.6224, -0.1540],\n",
       "        [-0.6175, -0.7646, -0.1120],\n",
       "        [-0.5862, -0.8255, -0.1188],\n",
       "        ...,\n",
       "        [-0.0430, -0.7723, -0.3179],\n",
       "        [-0.0654, -0.8017, -0.3057],\n",
       "        [-0.0860, -0.8217, -0.2892]], grad_fn=<MmBackward0>)"
      ]
     },
     "execution_count": 16,
     "metadata": {},
     "output_type": "execute_result"
    }
   ],
   "source": [
    "model.net(y)"
   ]
  },
  {
   "cell_type": "code",
   "execution_count": 17,
   "id": "da6967bd-71b3-4b91-a8e3-1412b1aaffd6",
   "metadata": {},
   "outputs": [
    {
     "data": {
      "text/plain": [
       "tensor(258.1744, grad_fn=<MseLossBackward0>)"
      ]
     },
     "execution_count": 17,
     "metadata": {},
     "output_type": "execute_result"
    }
   ],
   "source": [
    "nn.MSELoss()(model.net(X), y)"
   ]
  },
  {
   "cell_type": "code",
   "execution_count": 18,
   "id": "a9d36cae-f9c4-424e-87b2-e282a401534c",
   "metadata": {},
   "outputs": [
    {
     "data": {
      "text/plain": [
       "tensor(26.2196, grad_fn=<MeanBackward0>)"
      ]
     },
     "execution_count": 18,
     "metadata": {},
     "output_type": "execute_result"
    }
   ],
   "source": [
    "torch.mean(torch.sum((model.net(X)-y)**2, axis=1)**0.5)"
   ]
  },
  {
   "cell_type": "code",
   "execution_count": 19,
   "id": "0a7ddf88-9a27-4d06-9396-22e956ee53d6",
   "metadata": {},
   "outputs": [
    {
     "data": {
      "text/plain": [
       "58956.6961"
      ]
     },
     "execution_count": 19,
     "metadata": {},
     "output_type": "execute_result"
    }
   ],
   "source": [
    "242.81**2"
   ]
  },
  {
   "cell_type": "code",
   "execution_count": 20,
   "id": "201a0ab5-610b-4c69-aec7-60ee25e3f25b",
   "metadata": {},
   "outputs": [
    {
     "ename": "NameError",
     "evalue": "name 'attrs' is not defined",
     "output_type": "error",
     "traceback": [
      "\u001b[0;31m---------------------------------------------------------------------------\u001b[0m",
      "\u001b[0;31mNameError\u001b[0m                                 Traceback (most recent call last)",
      "Cell \u001b[0;32mIn[20], line 1\u001b[0m\n\u001b[0;32m----> 1\u001b[0m \u001b[43mattrs\u001b[49m(model\u001b[38;5;241m.\u001b[39mnet\u001b[38;5;241m.\u001b[39mW)\n",
      "\u001b[0;31mNameError\u001b[0m: name 'attrs' is not defined"
     ]
    }
   ],
   "source": [
    "attrs(model.net.W)"
   ]
  },
  {
   "cell_type": "code",
   "execution_count": null,
   "id": "b76d0ffe-6f36-4669-a5ea-08c4352dc5b0",
   "metadata": {},
   "outputs": [],
   "source": [
    "seq = nn.Sequential(nn.Linear(3, 300, bias=True), nn.Tanh(), nn.Linear(300, 3, bias=False))"
   ]
  },
  {
   "cell_type": "code",
   "execution_count": null,
   "id": "887a7bf7-610a-4160-b4ef-bfdb8dc07517",
   "metadata": {},
   "outputs": [],
   "source": [
    "for name, param in seq.named_parameters():\n",
    "    if param.requires_grad:\n",
    "        print(name, param.data)"
   ]
  },
  {
   "cell_type": "code",
   "execution_count": null,
   "id": "d3badfeb-a1d3-4495-9265-746969fad9af",
   "metadata": {},
   "outputs": [],
   "source": [
    "torch.sum(seq.state_dict()['2.weight']**2)"
   ]
  },
  {
   "cell_type": "code",
   "execution_count": null,
   "id": "8c79f068-8b41-4a20-8952-f3a3e1b908e9",
   "metadata": {},
   "outputs": [],
   "source": [
    "fig, N, dt = plt.figure(figsize=(8, 8)), 500, 0.02\n",
    "t = np.arange(0., N*dt, dt) / (1/0.91)\n",
    "axs = [fig.add_subplot(311), fig.add_subplot(312), fig.add_subplot(313)]\n",
    "dims = ['x', 'y', 'z']\n",
    "u = np.load('{}/validation.npy'.format(L63_data_path)).astype(np.float32)\n",
    "u = train\n",
    "idx = [[4, 14, 18], [13, 17, 46], [13, 2, 31], ]\n",
    "labels = ['good', 'medium', 'bad']\n",
    "predicted = model.multistep_forecast(u[:, 0], N)\n",
    "for i, ax in enumerate(axs):\n",
    "    ax.plot(t, u[i, :N], label='truth')\n",
    "    ax.plot(t, predicted[i, :N], label='network')\n",
    "    ax.legend(loc='upper right')\n",
    "    if i == len(dims)-1:\n",
    "        ax.set_xlabel('t')\n",
    "    ax.set_ylabel(dims[i])"
   ]
  },
  {
   "cell_type": "code",
   "execution_count": null,
   "id": "d8cd8878-8d51-489e-921b-1ff1b696f2e6",
   "metadata": {},
   "outputs": [],
   "source": [
    "train.shape"
   ]
  },
  {
   "cell_type": "code",
   "execution_count": null,
   "id": "c016f1db-021a-4562-85f0-fa415d98aed8",
   "metadata": {},
   "outputs": [],
   "source": [
    "model = srnn.SurrogateModel_NN_multi(3, 50)\n",
    "model.learn(train, epochs=10000, learning_rate=1e-3)"
   ]
  },
  {
   "cell_type": "code",
   "execution_count": null,
   "id": "99b041b5-80a3-4061-87b0-22e08798117d",
   "metadata": {},
   "outputs": [],
   "source": [
    "fig, N, dt = plt.figure(figsize=(8, 8)), 500, 0.02\n",
    "t = np.arange(0., N*dt, dt) / (1/0.91)\n",
    "axs = [fig.add_subplot(311), fig.add_subplot(312), fig.add_subplot(313)]\n",
    "dims = ['x', 'y', 'z']\n",
    "u = np.load('{}/validation.npy'.format(L63_data_path)).astype(np.float32)\n",
    "u = train\n",
    "idx = [[4, 14, 18], [13, 17, 46], [13, 2, 31], ]\n",
    "labels = ['good', 'medium', 'bad']\n",
    "predicted = model.multistep_forecast(u[:, 0], N)\n",
    "for i, ax in enumerate(axs):\n",
    "    ax.plot(t, u[i, :N], label='truth')\n",
    "    ax.plot(t, predicted[i, :N], label='network')\n",
    "    ax.legend(loc='upper right')\n",
    "    if i == len(dims)-1:\n",
    "        ax.set_xlabel('t')\n",
    "    ax.set_ylabel(dims[i])"
   ]
  },
  {
   "cell_type": "code",
   "execution_count": null,
   "id": "b9d4f7a4-a77f-457c-a366-7d20ade0c22a",
   "metadata": {},
   "outputs": [],
   "source": [
    "new_model = srnn.SurrogateModel_NN(3, 300, name='test_model', save_folder='../data/test/test_model')\n",
    "new_model.net = torch.load(model.save_folder+f'/{model.name}_900')"
   ]
  },
  {
   "cell_type": "code",
   "execution_count": null,
   "id": "25820c98-e7ea-4d25-b014-05852324dca4",
   "metadata": {},
   "outputs": [],
   "source": [
    "torch.load(model.save_folder+f'/{model.name}_900')(X) - new_model.net(X)"
   ]
  },
  {
   "cell_type": "code",
   "execution_count": null,
   "id": "99676cf0-5b3a-4570-b485-6c694352756e",
   "metadata": {},
   "outputs": [],
   "source": []
  }
 ],
 "metadata": {
  "kernelspec": {
   "display_name": "Python 3 (ipykernel)",
   "language": "python",
   "name": "python3"
  },
  "language_info": {
   "codemirror_mode": {
    "name": "ipython",
    "version": 3
   },
   "file_extension": ".py",
   "mimetype": "text/x-python",
   "name": "python",
   "nbconvert_exporter": "python",
   "pygments_lexer": "ipython3",
   "version": "3.11.5"
  }
 },
 "nbformat": 4,
 "nbformat_minor": 5
}
