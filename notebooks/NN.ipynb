{
 "cells": [
  {
   "cell_type": "code",
   "execution_count": 1,
   "id": "9f91fe87-e4cf-4d90-bf34-2e9dac62ef97",
   "metadata": {},
   "outputs": [],
   "source": [
    "import numpy as np \n",
    "from scipy.integrate import odeint\n",
    "import os, sys, warnings\n",
    "from pathlib import Path\n",
    "from os.path import dirname, realpath\n",
    "script_dir = Path(dirname(realpath('.')))\n",
    "module_dir = str(script_dir)\n",
    "sys.path.insert(0, module_dir + '/modules')\n",
    "import utility as ut\n",
    "import surrogate_nn as srnn\n",
    "import matplotlib.pyplot as plt\n",
    "import pandas as pd\n",
    "import torch\n",
    "from torch import nn\n",
    "from torch.optim import lr_scheduler\n",
    "from torch.utils.data import DataLoader, TensorDataset\n",
    "warnings.filterwarnings('ignore')"
   ]
  },
  {
   "cell_type": "code",
   "execution_count": 2,
   "id": "d8341f71-46f2-49e7-bee9-8154bace790c",
   "metadata": {},
   "outputs": [],
   "source": [
    "L63_data_path = '../data/L63-trajectories'\n",
    "N = 20000\n",
    "train = np.load(f'{L63_data_path}/train.npy')[:, :N].astype(np.float32)\n",
    "test = np.load(f'{L63_data_path}/test.npy')[:, :, :1000].astype(np.float32)\n",
    "\n",
    "train_dataset = TensorDataset(torch.Tensor(train[:, :-1].T), torch.Tensor(train[:, 1:].T))\n",
    "# test_dataset = test = np.load(f'{L63_data_path}/test.npy')[:, :, 1000]\n",
    "train_dataloader = DataLoader(train_dataset, batch_size=int(N/10))#, shuffle=True)\n",
    "# test_dataloader = DataLoader(test_data, batch_size=64, shuffle=True)\n",
    "\n",
    "model = srnn.SurrogateModel_NN(3, 300, name='test_model', save_folder='../data/test/test_model')\n",
    "x = torch.rand(3)"
   ]
  },
  {
   "cell_type": "code",
   "execution_count": 3,
   "id": "29f3a2f6-d413-4364-bd63-3e87f25c5f45",
   "metadata": {},
   "outputs": [
    {
     "name": "stdout",
     "output_type": "stream",
     "text": [
      "epoch: 0    loss: 15506954.000000     time elapsed=0.0278\n",
      "epoch: 100    loss: 15506954.000000     time elapsed=1.9831\n",
      "epoch: 200    loss: 15506954.000000     time elapsed=3.9161\n",
      "epoch: 300    loss: 15506954.000000     time elapsed=5.8459\n",
      "epoch: 400    loss: 15506954.000000     time elapsed=7.7756\n",
      "epoch: 500    loss: 15506954.000000     time elapsed=9.7071\n",
      "epoch: 600    loss: 15506954.000000     time elapsed=11.6458\n",
      "epoch: 700    loss: 15506954.000000     time elapsed=13.5809\n",
      "epoch: 800    loss: 15506954.000000     time elapsed=15.5822\n",
      "epoch: 900    loss: 15506954.000000     time elapsed=17.5240\n",
      "Time taken by learn is 19.5813 seconds\n"
     ]
    }
   ],
   "source": [
    "model.learn(train, epochs=1000, learning_rate=1e-3)"
   ]
  },
  {
   "cell_type": "code",
   "execution_count": 4,
   "id": "f847e2b7-9805-4513-938c-e0bcec7ebbef",
   "metadata": {},
   "outputs": [
    {
     "name": "stdout",
     "output_type": "stream",
     "text": [
      "Time taken by compute_tau_f is 6.5716 seconds\n"
     ]
    }
   ],
   "source": [
    "tau_f_rmse, tau_f_se, rmse, se = model.compute_tau_f(test[:500], error_threshold=0.05)"
   ]
  },
  {
   "cell_type": "code",
   "execution_count": 5,
   "id": "d306fb85-6025-41db-92b1-2f5c271f027f",
   "metadata": {},
   "outputs": [
    {
     "data": {
      "image/png": "[encoded data removed]",
      "text/plain": [
       "<Figure size 640x480 with 1 Axes>"
      ]
     },
     "metadata": {},
     "output_type": "display_data"
    }
   ],
   "source": [
    "plt.hist(tau_f_se, density=True)\n",
    "plt.xlabel(r'$\\tau_f$ (NN)')\n",
    "plt.savefig('../data/plots/tau_f_NN.png')\n",
    "# plt.title(f'training_data_size={N}')"
   ]
  },
  {
   "cell_type": "code",
   "execution_count": 6,
   "id": "d390eee1-fdde-4ccf-a9b4-a15c687f4664",
   "metadata": {},
   "outputs": [
    {
     "name": "stdout",
     "output_type": "stream",
     "text": [
      "Time taken by compute_tau_f is 0.3922 seconds\n"
     ]
    },
    {
     "data": {
      "text/plain": [
       "Text(0.5, 1.0, 'training_data_size=20000')"
      ]
     },
     "execution_count": 6,
     "metadata": {},
     "output_type": "execute_result"
    },
    {
     "data": {
      "image/png": "[encoded data removed]",
      "text/plain": [
       "<Figure size 640x480 with 1 Axes>"
      ]
     },
     "metadata": {},
     "output_type": "display_data"
    }
   ],
   "source": [
    "tau_f_rmse, tau_f_se, rmse, se = model.compute_tau_f(train.T.reshape(-1, 3, 800))\n",
    "\n",
    "plt.hist(tau_f_se)\n",
    "plt.xlabel(r'$\\tau_f$ (NN), for train data')\n",
    "plt.title(f'training_data_size={N}')"
   ]
  },
  {
   "cell_type": "code",
   "execution_count": 7,
   "id": "1b826734-53d5-438f-a1c4-e5091e6dd576",
   "metadata": {},
   "outputs": [
    {
     "data": {
      "text/plain": [
       "0.0"
      ]
     },
     "execution_count": 7,
     "metadata": {},
     "output_type": "execute_result"
    }
   ],
   "source": [
    "tau_f_se.mean()"
   ]
  },
  {
   "cell_type": "code",
   "execution_count": 8,
   "id": "abec1600-bdd2-46b8-a835-bb9f8a528531",
   "metadata": {},
   "outputs": [
    {
     "name": "stdout",
     "output_type": "stream",
     "text": [
      "tensor([[ -8.3611, -13.3140,  18.1467],\n",
      "        [ -9.3860, -14.6547,  19.6255],\n",
      "        [-10.4542, -15.8231,  21.5584],\n",
      "        ...,\n",
      "        [  2.0305,   3.3969,  15.7262],\n",
      "        [  2.3213,   3.8728,  15.0634],\n",
      "        [  2.6548,   4.4476,  14.4824]]) tensor([[ -9.3860, -14.6547,  19.6255],\n",
      "        [-10.4542, -15.8231,  21.5584],\n",
      "        [-11.5119, -16.6562,  23.9250],\n",
      "        ...,\n",
      "        [  2.3213,   3.8728,  15.0634],\n",
      "        [  2.6548,   4.4476,  14.4824],\n",
      "        [  3.0424,   5.1353,  13.9958]])\n",
      "tensor([[ 3.0424,  5.1353, 13.9958],\n",
      "        [ 3.4962,  5.9518, 13.6216],\n",
      "        [ 4.0290,  6.9134, 13.3851],\n",
      "        ...,\n",
      "        [14.0473, 11.6263, 36.7345],\n",
      "        [13.3525,  8.8866, 37.5703],\n",
      "        [12.2934,  6.2659, 37.5103]]) tensor([[ 3.4962,  5.9518, 13.6216],\n",
      "        [ 4.0290,  6.9134, 13.3851],\n",
      "        [ 4.6544,  8.0351, 13.3216],\n",
      "        ...,\n",
      "        [13.3525,  8.8866, 37.5703],\n",
      "        [12.2934,  6.2659, 37.5103],\n",
      "        [10.9839,  4.0252, 36.7231]])\n",
      "tensor([[10.9839,  4.0252, 36.7231],\n",
      "        [ 9.5522,  2.2928, 35.4411],\n",
      "        [ 8.1150,  1.0769, 33.8848],\n",
      "        ...,\n",
      "        [-5.2309, -0.9258, 28.9462],\n",
      "        [-4.4444, -0.8837, 27.5267],\n",
      "        [-3.8046, -0.9592, 26.1702]]) tensor([[ 9.5522,  2.2928, 35.4411],\n",
      "        [ 8.1150,  1.0769, 33.8848],\n",
      "        [ 6.7612,  0.3086, 32.2215],\n",
      "        ...,\n",
      "        [-4.4444, -0.8837, 27.5267],\n",
      "        [-3.8046, -0.9592, 26.1702],\n",
      "        [-3.3023, -1.1132, 24.8820]])\n",
      "tensor([[ -3.3023,  -1.1132,  24.8820],\n",
      "        [ -2.9242,  -1.3199,  23.6629],\n",
      "        [ -2.6557,  -1.5642,  22.5118],\n",
      "        ...,\n",
      "        [ -9.5990, -16.2401,  17.0468],\n",
      "        [-10.9621, -17.8938,  19.5890],\n",
      "        [-12.3418, -19.1151,  22.7890]]) tensor([[ -2.9242,  -1.3199,  23.6629],\n",
      "        [ -2.6557,  -1.5642,  22.5118],\n",
      "        [ -2.4832,  -1.8391,  21.4274],\n",
      "        ...,\n",
      "        [-10.9621, -17.8938,  19.5890],\n",
      "        [-12.3418, -19.1151,  22.7890],\n",
      "        [-13.6282, -19.5964,  26.5281]])\n",
      "tensor([[-13.6282, -19.5964,  26.5281],\n",
      "        [-14.6763, -19.0543,  30.5132],\n",
      "        [-15.3277, -17.3488,  34.2859],\n",
      "        ...,\n",
      "        [  6.0192,   8.3061,  19.7591],\n",
      "        [  6.5131,   9.1628,  19.7987],\n",
      "        [  7.0777,  10.0699,  20.0434]]) tensor([[-14.6763, -19.0543,  30.5132],\n",
      "        [-15.3277, -17.3488,  34.2859],\n",
      "        [-15.4495, -14.5923,  37.3253],\n",
      "        ...,\n",
      "        [  6.5131,   9.1628,  19.7987],\n",
      "        [  7.0777,  10.0699,  20.0434],\n",
      "        [  7.7073,  11.0020,  20.5204]])\n",
      "tensor([[ 7.7073, 11.0020, 20.5204],\n",
      "        [ 8.3911, 11.9200, 21.2533],\n",
      "        [ 9.1118, 12.7685, 22.2568],\n",
      "        ...,\n",
      "        [ 6.2272, 10.2874, 15.6720],\n",
      "        [ 7.0912, 11.6701, 16.2826],\n",
      "        [ 8.0568, 13.1243, 17.2675]]) tensor([[ 8.3911, 11.9200, 21.2533],\n",
      "        [ 9.1118, 12.7685, 22.2568],\n",
      "        [ 9.8437, 13.4765, 23.5283],\n",
      "        ...,\n",
      "        [ 7.0912, 11.6701, 16.2826],\n",
      "        [ 8.0568, 13.1243, 17.2675],\n",
      "        [ 9.1118, 14.5706, 18.6897]])\n",
      "tensor([[ 9.1118, 14.5706, 18.6897],\n",
      "        [10.2276, 15.8859, 20.5941],\n",
      "        [11.3544, 16.9021, 22.9820],\n",
      "        ...,\n",
      "        [ 1.7431, -3.0146, 27.4918],\n",
      "        [ 0.8889, -2.9243, 25.9889],\n",
      "        [ 0.2060, -2.8393, 24.6092]]) tensor([[10.2276, 15.8859, 20.5941],\n",
      "        [11.3544, 16.9021, 22.9820],\n",
      "        [12.4177, 17.4208, 25.7787],\n",
      "        ...,\n",
      "        [ 0.8889, -2.9243, 25.9889],\n",
      "        [ 0.2060, -2.8393, 24.6092],\n",
      "        [-0.3407, -2.7905, 23.3354]])\n",
      "tensor([[-0.3407, -2.7905, 23.3354],\n",
      "        [-0.7844, -2.7956, 22.1545],\n",
      "        [-1.1544, -2.8645, 21.0576],\n",
      "        ...,\n",
      "        [-2.4977,  1.8040, 27.2532],\n",
      "        [-1.7264,  1.7078, 25.7659],\n",
      "        [-1.1146,  1.5936, 24.3824]]) tensor([[-0.7844, -2.7956, 22.1545],\n",
      "        [-1.1544, -2.8645, 21.0576],\n",
      "        [-1.4763, -3.0031, 20.0393],\n",
      "        ...,\n",
      "        [-1.7264,  1.7078, 25.7659],\n",
      "        [-1.1146,  1.5936, 24.3824],\n",
      "        [-0.6337,  1.4900, 23.0902]])\n",
      "tensor([[-0.6337,  1.4900, 23.0902],\n",
      "        [-0.2564,  1.4134, 21.8786],\n",
      "        [ 0.0419,  1.3726, 20.7396],\n",
      "        ...,\n",
      "        [14.5419, 15.5504, 34.1320],\n",
      "        [14.5064, 13.1205, 36.4372],\n",
      "        [13.9906, 10.2575, 37.8014]]) tensor([[-0.2564,  1.4134, 21.8786],\n",
      "        [ 0.0419,  1.3726, 20.7396],\n",
      "        [ 0.2824,  1.3716, 19.6669],\n",
      "        ...,\n",
      "        [14.5064, 13.1205, 36.4372],\n",
      "        [13.9906, 10.2575, 37.8014],\n",
      "        [13.0399,  7.3560, 38.1588]])\n",
      "tensor([[13.0399,  7.3560, 38.1588],\n",
      "        [11.7598,  4.7596, 37.6357],\n",
      "        [10.2872,  2.6761, 36.4723],\n",
      "        ...,\n",
      "        [-9.2793, -5.5981, 32.0444],\n",
      "        [-8.5377, -4.8378, 31.2825],\n",
      "        [-7.8119, -4.2816, 30.3809]]) tensor([[11.7598,  4.7596, 37.6357],\n",
      "        [10.2872,  2.6761, 36.4723],\n",
      "        [ 8.7574,  1.1641, 34.9278],\n",
      "        ...,\n",
      "        [-8.5377, -4.8378, 31.2825],\n",
      "        [-7.8119, -4.2816, 30.3809],\n",
      "        [-7.1350, -3.9159, 29.3969]])\n"
     ]
    }
   ],
   "source": [
    "for batch, (X, y) in enumerate(train_dataloader):\n",
    "    print(X, y)"
   ]
  },
  {
   "cell_type": "code",
   "execution_count": 9,
   "id": "984b261e-76f2-4905-94eb-1b80b4ea0ffd",
   "metadata": {},
   "outputs": [
    {
     "data": {
      "text/plain": [
       "array([[ -8.361066 , -13.313976 ,  18.146687 ],\n",
       "       [ -9.38598  , -14.654672 ,  19.625534 ],\n",
       "       [-10.454209 , -15.823077 ,  21.55841  ],\n",
       "       ...,\n",
       "       [ -8.537725 ,  -4.837833 ,  31.28254  ],\n",
       "       [ -7.811937 ,  -4.2815824,  30.380886 ],\n",
       "       [ -7.1350317,  -3.9159417,  29.39694  ]], dtype=float32)"
      ]
     },
     "execution_count": 9,
     "metadata": {},
     "output_type": "execute_result"
    }
   ],
   "source": [
    "train.T"
   ]
  },
  {
   "cell_type": "code",
   "execution_count": 10,
   "id": "92ee3a86-e33f-40fb-b000-0c3b38ee99f8",
   "metadata": {},
   "outputs": [],
   "source": [
    "import torch.nn.functional as F"
   ]
  },
  {
   "cell_type": "code",
   "execution_count": 11,
   "id": "91116d20-58ec-4027-9c75-965424c5fdd8",
   "metadata": {},
   "outputs": [],
   "source": [
    "l = nn.Linear(3, 300)"
   ]
  },
  {
   "cell_type": "code",
   "execution_count": 12,
   "id": "4c7ef6d9-7976-435b-8291-22047cadcfcc",
   "metadata": {},
   "outputs": [
    {
     "data": {
      "text/plain": [
       "tensor([ 5.8696e-01, -1.9858e-02, -6.7039e-01, -3.0236e-01,  3.4736e-02,\n",
       "         7.3609e-01, -4.8624e-01,  4.5370e-01, -4.2809e-01, -3.8735e-01,\n",
       "         6.6910e-01,  6.5951e-01, -4.8346e-02,  5.6850e-02, -2.4000e-01,\n",
       "         1.7234e-01,  5.7728e-01,  6.3617e-01,  1.4940e-01, -1.9803e-01,\n",
       "        -7.3900e-01, -5.6748e-01, -6.5887e-01, -6.5325e-01,  5.0423e-01,\n",
       "         1.3588e-01,  2.5475e-01,  6.5988e-01, -6.1602e-01, -5.1221e-01,\n",
       "         2.1775e-01,  2.0072e-01, -4.4972e-01, -3.0981e-01, -8.0393e-01,\n",
       "         5.3330e-01, -1.6055e-01,  2.8496e-01, -4.7319e-02,  6.9858e-01,\n",
       "         3.4800e-01,  7.5665e-02,  4.4899e-01, -3.5265e-02,  1.0720e-01,\n",
       "        -2.4707e-01,  1.0951e-01, -5.3637e-01,  1.4315e-01,  1.5152e-01,\n",
       "         5.1470e-01, -5.1283e-01, -2.8875e-01,  2.0142e-01,  6.1415e-01,\n",
       "        -4.8728e-01, -6.3976e-02, -5.4338e-01,  5.1913e-01,  2.4471e-01,\n",
       "        -4.8611e-01,  3.4735e-01,  7.4363e-01, -2.2335e-01, -5.4732e-01,\n",
       "        -6.1727e-01, -7.1783e-01, -1.5328e-01, -8.9512e-02, -4.3984e-02,\n",
       "        -4.3840e-01,  2.5944e-01,  6.5013e-01,  2.5716e-01, -1.2454e-01,\n",
       "        -2.4694e-01, -4.4183e-01, -3.3821e-01,  6.0143e-01,  5.8151e-01,\n",
       "        -8.1640e-02, -6.1146e-01,  7.0399e-01, -6.6971e-02, -6.3125e-01,\n",
       "         1.4475e-01,  4.5814e-01,  9.2658e-02, -4.8130e-01, -3.8513e-01,\n",
       "         5.1286e-01,  7.8867e-02, -5.6937e-02,  6.9845e-02,  4.6727e-01,\n",
       "        -7.7199e-02,  2.0835e-01,  7.4107e-02,  3.2546e-01,  2.5320e-01,\n",
       "         4.6933e-01, -5.7907e-01, -2.2961e-01, -4.5538e-01, -3.2961e-01,\n",
       "         1.7128e-03,  2.5008e-01, -3.4912e-01, -3.3091e-01, -3.7479e-01,\n",
       "        -6.1047e-01, -4.9018e-01,  5.7638e-04,  2.5640e-01, -7.3119e-01,\n",
       "         3.4592e-01,  2.9689e-01,  3.8309e-02, -4.1781e-01,  5.9161e-02,\n",
       "        -2.8220e-01, -4.4667e-01, -6.2717e-01, -3.1644e-02,  4.7073e-01,\n",
       "        -1.3373e-01, -1.5876e-01,  5.9410e-01, -2.1719e-01, -6.4693e-01,\n",
       "         3.7168e-01, -2.2483e-01, -5.5671e-01, -3.8769e-01, -2.7459e-01,\n",
       "         5.1017e-02, -4.5597e-01, -6.3938e-01, -2.5802e-01,  9.1326e-02,\n",
       "         4.5190e-01,  1.9387e-01,  5.8795e-01,  8.4154e-03, -7.1077e-01,\n",
       "         6.7733e-01,  2.6760e-01, -7.0665e-01, -2.3454e-01,  2.8916e-01,\n",
       "         5.9543e-01, -2.9003e-01,  2.3135e-02, -6.8809e-01,  2.5079e-01,\n",
       "         6.5489e-01, -4.0817e-02,  5.9139e-01, -6.3942e-01, -4.5429e-02,\n",
       "        -3.5055e-01,  3.3999e-01, -6.6920e-02,  2.7754e-01,  5.3957e-01,\n",
       "        -3.4045e-01, -4.7456e-01, -5.1866e-01, -3.0061e-01, -2.1769e-02,\n",
       "         5.5677e-01,  3.9098e-01, -3.7898e-01,  7.3682e-02,  5.8110e-01,\n",
       "        -6.7210e-04, -1.2206e-01, -9.3140e-02,  6.6467e-01, -7.4496e-01,\n",
       "        -3.2622e-01,  5.2188e-01,  4.4490e-01, -7.2893e-01, -8.7459e-02,\n",
       "        -5.7702e-01,  3.0119e-01,  2.5702e-01, -2.3038e-01, -5.9654e-01,\n",
       "        -1.7963e-02,  1.2777e-01,  3.9255e-01, -4.5767e-01, -6.6923e-01,\n",
       "         4.3999e-01,  2.9464e-01,  1.3455e-01,  3.0890e-01,  3.4712e-02,\n",
       "         2.8672e-01, -2.1831e-01,  1.5935e-03,  3.0264e-01, -2.3512e-01,\n",
       "        -4.9941e-01, -6.5566e-02,  1.4241e-01, -3.5561e-01,  5.2616e-01,\n",
       "        -6.7105e-01, -5.0841e-01, -3.0422e-01,  3.0709e-01, -4.6744e-01,\n",
       "         6.7028e-01,  3.6745e-01,  2.0806e-01,  2.0006e-01, -1.5783e-01,\n",
       "        -5.3362e-01,  3.1518e-01, -7.1211e-01,  6.0275e-02, -2.5793e-01,\n",
       "         4.5156e-01,  3.6950e-01,  6.9577e-02,  6.9215e-01, -4.5859e-02,\n",
       "        -9.7149e-02,  2.9104e-01, -3.0285e-01,  2.0897e-01, -1.3293e-01,\n",
       "         2.2006e-01,  1.2608e-01, -5.0386e-01,  4.6658e-01, -2.5060e-01,\n",
       "         2.8202e-01, -5.3490e-02, -6.2640e-01, -4.0959e-01,  4.2844e-01,\n",
       "         3.6161e-01,  5.5122e-01,  5.7643e-01,  6.3081e-01,  4.6111e-01,\n",
       "         2.2429e-02,  6.2949e-02, -4.3395e-01,  2.8445e-02,  1.5606e-01,\n",
       "        -1.7925e-01,  6.6936e-01, -1.6454e-01,  5.6627e-01, -1.6230e-01,\n",
       "        -2.4779e-01,  4.3507e-01, -6.1308e-01, -2.2370e-01,  5.2746e-01,\n",
       "         3.8676e-01, -3.6358e-02,  4.3612e-01,  5.6051e-01,  9.9098e-02,\n",
       "         6.9337e-01,  1.4295e-01,  1.8007e-01, -5.2167e-01,  6.0233e-01,\n",
       "        -3.9893e-01,  1.0984e-02, -3.2704e-01, -3.7003e-02, -1.8084e-02,\n",
       "         2.9851e-01,  2.9381e-02, -5.3238e-01,  4.9852e-01,  2.7758e-01,\n",
       "         5.9538e-02,  3.0861e-01,  2.8929e-01, -2.0585e-01,  3.4399e-01,\n",
       "         3.3507e-01, -7.4271e-01, -1.7913e-01,  2.2667e-01, -6.0054e-01,\n",
       "         1.6326e-01,  6.1801e-01,  4.4589e-01, -2.9293e-01, -1.5385e-01],\n",
       "       grad_fn=<TanhBackward0>)"
      ]
     },
     "execution_count": 12,
     "metadata": {},
     "output_type": "execute_result"
    }
   ],
   "source": [
    "F.tanh(l(torch.rand(3)))"
   ]
  },
  {
   "cell_type": "code",
   "execution_count": 13,
   "id": "3b3957ee-2a72-49ea-a4b7-f2ab16907d46",
   "metadata": {},
   "outputs": [
    {
     "data": {
      "text/plain": [
       "<torch.utils.data.dataset.TensorDataset at 0x2804adf10>"
      ]
     },
     "execution_count": 13,
     "metadata": {},
     "output_type": "execute_result"
    }
   ],
   "source": [
    "train_dataset"
   ]
  },
  {
   "cell_type": "code",
   "execution_count": 14,
   "id": "a57aa77a-ee35-4937-97ac-d7be5a54f3fc",
   "metadata": {},
   "outputs": [
    {
     "name": "stdout",
     "output_type": "stream",
     "text": [
      "tensor([[ 3.0424,  5.1353, 13.9958],\n",
      "        [ 3.4962,  5.9518, 13.6216],\n",
      "        [ 4.0290,  6.9134, 13.3851],\n",
      "        ...,\n",
      "        [14.0473, 11.6263, 36.7345],\n",
      "        [13.3525,  8.8866, 37.5703],\n",
      "        [12.2934,  6.2659, 37.5103]]) tensor([[ 3.4962,  5.9518, 13.6216],\n",
      "        [ 4.0290,  6.9134, 13.3851],\n",
      "        [ 4.6544,  8.0351, 13.3216],\n",
      "        ...,\n",
      "        [13.3525,  8.8866, 37.5703],\n",
      "        [12.2934,  6.2659, 37.5103],\n",
      "        [10.9839,  4.0252, 36.7231]])\n"
     ]
    }
   ],
   "source": [
    "for batch, (X, y) in enumerate(train_dataloader):\n",
    "    if batch == 1:\n",
    "        print(X, y)"
   ]
  },
  {
   "cell_type": "code",
   "execution_count": 15,
   "id": "480f8e73-923b-4cd0-8408-0d7d6b4f2fa2",
   "metadata": {},
   "outputs": [
    {
     "data": {
      "text/plain": [
       "tensor([[ 0.0264,  1.3418,  0.6150],\n",
       "        [ 0.0315,  1.3811,  0.5641],\n",
       "        [ 0.0391,  1.3454,  0.5145],\n",
       "        ...,\n",
       "        [ 0.4630,  0.6890, -0.4147],\n",
       "        [ 0.4420,  0.7076, -0.4270],\n",
       "        [ 0.4158,  0.7221, -0.4255]], grad_fn=<MmBackward0>)"
      ]
     },
     "execution_count": 15,
     "metadata": {},
     "output_type": "execute_result"
    }
   ],
   "source": [
    "model.net(X)"
   ]
  },
  {
   "cell_type": "code",
   "execution_count": 16,
   "id": "76160fef-3389-428f-aafe-cae17358070c",
   "metadata": {},
   "outputs": [
    {
     "data": {
      "text/plain": [
       "tensor([[ 0.0315,  1.3811,  0.5641],\n",
       "        [ 0.0391,  1.3454,  0.5145],\n",
       "        [ 0.0462,  1.2657,  0.4474],\n",
       "        ...,\n",
       "        [ 0.4420,  0.7076, -0.4270],\n",
       "        [ 0.4158,  0.7221, -0.4255],\n",
       "        [ 0.3912,  0.7328, -0.4184]], grad_fn=<MmBackward0>)"
      ]
     },
     "execution_count": 16,
     "metadata": {},
     "output_type": "execute_result"
    }
   ],
   "source": [
    "model.net(y)"
   ]
  },
  {
   "cell_type": "code",
   "execution_count": 17,
   "id": "da6967bd-71b3-4b91-a8e3-1412b1aaffd6",
   "metadata": {},
   "outputs": [
    {
     "data": {
      "text/plain": [
       "tensor(258.5680, grad_fn=<MseLossBackward0>)"
      ]
     },
     "execution_count": 17,
     "metadata": {},
     "output_type": "execute_result"
    }
   ],
   "source": [
    "nn.MSELoss()(model.net(X), y)"
   ]
  },
  {
   "cell_type": "code",
   "execution_count": 18,
   "id": "a9d36cae-f9c4-424e-87b2-e282a401534c",
   "metadata": {},
   "outputs": [
    {
     "data": {
      "text/plain": [
       "tensor(26.2440, grad_fn=<MeanBackward0>)"
      ]
     },
     "execution_count": 18,
     "metadata": {},
     "output_type": "execute_result"
    }
   ],
   "source": [
    "torch.mean(torch.sum((model.net(X)-y)**2, axis=1)**0.5)"
   ]
  },
  {
   "cell_type": "code",
   "execution_count": 19,
   "id": "0a7ddf88-9a27-4d06-9396-22e956ee53d6",
   "metadata": {},
   "outputs": [
    {
     "data": {
      "text/plain": [
       "58956.6961"
      ]
     },
     "execution_count": 19,
     "metadata": {},
     "output_type": "execute_result"
    }
   ],
   "source": [
    "242.81**2"
   ]
  },
  {
   "cell_type": "code",
   "execution_count": 20,
   "id": "201a0ab5-610b-4c69-aec7-60ee25e3f25b",
   "metadata": {},
   "outputs": [
    {
     "ename": "NameError",
     "evalue": "name 'attrs' is not defined",
     "output_type": "error",
     "traceback": [
      "\u001b[0;31m---------------------------------------------------------------------------\u001b[0m",
      "\u001b[0;31mNameError\u001b[0m                                 Traceback (most recent call last)",
      "Cell \u001b[0;32mIn[20], line 1\u001b[0m\n\u001b[0;32m----> 1\u001b[0m \u001b[43mattrs\u001b[49m(model\u001b[38;5;241m.\u001b[39mnet\u001b[38;5;241m.\u001b[39mW)\n",
      "\u001b[0;31mNameError\u001b[0m: name 'attrs' is not defined"
     ]
    }
   ],
   "source": [
    "attrs(model.net.W)"
   ]
  },
  {
   "cell_type": "code",
   "execution_count": null,
   "id": "b76d0ffe-6f36-4669-a5ea-08c4352dc5b0",
   "metadata": {},
   "outputs": [],
   "source": [
    "seq = nn.Sequential(nn.Linear(3, 300, bias=True), nn.Tanh(), nn.Linear(300, 3, bias=False))"
   ]
  },
  {
   "cell_type": "code",
   "execution_count": null,
   "id": "887a7bf7-610a-4160-b4ef-bfdb8dc07517",
   "metadata": {},
   "outputs": [],
   "source": [
    "for name, param in seq.named_parameters():\n",
    "    if param.requires_grad:\n",
    "        print(name, param.data)"
   ]
  },
  {
   "cell_type": "code",
   "execution_count": null,
   "id": "d3badfeb-a1d3-4495-9265-746969fad9af",
   "metadata": {},
   "outputs": [],
   "source": [
    "torch.sum(seq.state_dict()['2.weight']**2)"
   ]
  },
  {
   "cell_type": "code",
   "execution_count": null,
   "id": "8c79f068-8b41-4a20-8952-f3a3e1b908e9",
   "metadata": {},
   "outputs": [],
   "source": [
    "fig, N, dt = plt.figure(figsize=(8, 8)), 500, 0.02\n",
    "t = np.arange(0., N*dt, dt) / (1/0.91)\n",
    "axs = [fig.add_subplot(311), fig.add_subplot(312), fig.add_subplot(313)]\n",
    "dims = ['x', 'y', 'z']\n",
    "u = np.load('{}/validation.npy'.format(L63_data_path)).astype(np.float32)\n",
    "u = train\n",
    "idx = [[4, 14, 18], [13, 17, 46], [13, 2, 31], ]\n",
    "labels = ['good', 'medium', 'bad']\n",
    "predicted = model.multistep_forecast(u[:, 0], N)\n",
    "for i, ax in enumerate(axs):\n",
    "    ax.plot(t, u[i, :N], label='truth')\n",
    "    ax.plot(t, predicted[i, :N], label='network')\n",
    "    ax.legend(loc='upper right')\n",
    "    if i == len(dims)-1:\n",
    "        ax.set_xlabel('t')\n",
    "    ax.set_ylabel(dims[i])"
   ]
  },
  {
   "cell_type": "code",
   "execution_count": null,
   "id": "d8cd8878-8d51-489e-921b-1ff1b696f2e6",
   "metadata": {},
   "outputs": [],
   "source": [
    "train.shape"
   ]
  },
  {
   "cell_type": "code",
   "execution_count": null,
   "id": "c016f1db-021a-4562-85f0-fa415d98aed8",
   "metadata": {},
   "outputs": [],
   "source": [
    "model = srnn.SurrogateModel_NN_multi(3, 50)\n",
    "model.learn(train, epochs=10000, learning_rate=1e-3)"
   ]
  },
  {
   "cell_type": "code",
   "execution_count": null,
   "id": "99b041b5-80a3-4061-87b0-22e08798117d",
   "metadata": {},
   "outputs": [],
   "source": [
    "fig, N, dt = plt.figure(figsize=(8, 8)), 500, 0.02\n",
    "t = np.arange(0., N*dt, dt) / (1/0.91)\n",
    "axs = [fig.add_subplot(311), fig.add_subplot(312), fig.add_subplot(313)]\n",
    "dims = ['x', 'y', 'z']\n",
    "u = np.load('{}/validation.npy'.format(L63_data_path)).astype(np.float32)\n",
    "u = train\n",
    "idx = [[4, 14, 18], [13, 17, 46], [13, 2, 31], ]\n",
    "labels = ['good', 'medium', 'bad']\n",
    "predicted = model.multistep_forecast(u[:, 0], N)\n",
    "for i, ax in enumerate(axs):\n",
    "    ax.plot(t, u[i, :N], label='truth')\n",
    "    ax.plot(t, predicted[i, :N], label='network')\n",
    "    ax.legend(loc='upper right')\n",
    "    if i == len(dims)-1:\n",
    "        ax.set_xlabel('t')\n",
    "    ax.set_ylabel(dims[i])"
   ]
  },
  {
   "cell_type": "code",
   "execution_count": null,
   "id": "b9d4f7a4-a77f-457c-a366-7d20ade0c22a",
   "metadata": {},
   "outputs": [],
   "source": [
    "new_model = srnn.SurrogateModel_NN(3, 300, name='test_model', save_folder='../data/test/test_model')\n",
    "new_model.net = torch.load(model.save_folder+f'/{model.name}_900')"
   ]
  },
  {
   "cell_type": "code",
   "execution_count": null,
   "id": "25820c98-e7ea-4d25-b014-05852324dca4",
   "metadata": {},
   "outputs": [],
   "source": [
    "torch.load(model.save_folder+f'/{model.name}_900')(X) - new_model.net(X)"
   ]
  },
  {
   "cell_type": "code",
   "execution_count": null,
   "id": "99676cf0-5b3a-4570-b485-6c694352756e",
   "metadata": {},
   "outputs": [],
   "source": []
  }
 ],
 "metadata": {
  "kernelspec": {
   "display_name": "Python 3 (ipykernel)",
   "language": "python",
   "name": "python3"
  },
  "language_info": {
   "codemirror_mode": {
    "name": "ipython",
    "version": 3
   },
   "file_extension": ".py",
   "mimetype": "text/x-python",
   "name": "python",
   "nbconvert_exporter": "python",
   "pygments_lexer": "ipython3",
   "version": "3.11.5"
  }
 },
 "nbformat": 4,
 "nbformat_minor": 5
}
