{
 "cells": [
  {
   "cell_type": "code",
   "execution_count": 1,
   "id": "9f91fe87-e4cf-4d90-bf34-2e9dac62ef97",
   "metadata": {},
   "outputs": [],
   "source": [
    "import numpy as np \n",
    "from scipy.integrate import odeint\n",
    "import os, sys, warnings\n",
    "from pathlib import Path\n",
    "from os.path import dirname, realpath\n",
    "script_dir = Path(dirname(realpath('.')))\n",
    "module_dir = str(script_dir)\n",
    "sys.path.insert(0, module_dir + '/modules')\n",
    "import utility as ut\n",
    "import surrogate_nn as srnn\n",
    "import matplotlib.pyplot as plt\n",
    "import pandas as pd\n",
    "import torch\n",
    "from torch import nn\n",
    "from torch.optim import lr_scheduler\n",
    "from torch.utils.data import DataLoader, TensorDataset\n",
    "warnings.filterwarnings('ignore')"
   ]
  },
  {
   "cell_type": "code",
   "execution_count": 2,
   "id": "d8341f71-46f2-49e7-bee9-8154bace790c",
   "metadata": {},
   "outputs": [],
   "source": [
    "L63_data_path = '../data/L63-trajectories'\n",
    "N = 20000\n",
    "train = np.load(f'{L63_data_path}/train.npy')[:, :N].astype(np.float32)\n",
    "test = np.load(f'{L63_data_path}/test.npy')[:, :, :1000].astype(np.float32)\n",
    "\n",
    "train_dataset = TensorDataset(torch.Tensor(train[:, :-1].T), torch.Tensor(train[:, 1:].T))\n",
    "# test_dataset = test = np.load(f'{L63_data_path}/test.npy')[:, :, 1000]\n",
    "train_dataloader = DataLoader(train_dataset, batch_size=int(N/10))#, shuffle=True)\n",
    "# test_dataloader = DataLoader(test_data, batch_size=64, shuffle=True)\n",
    "\n",
    "model = srnn.SurrogateModel_NN(3, 300, name='test_model', save_folder='../data/test/test_model')\n",
    "x = torch.rand(3)"
   ]
  },
  {
   "cell_type": "code",
   "execution_count": 3,
   "id": "29f3a2f6-d413-4364-bd63-3e87f25c5f45",
   "metadata": {},
   "outputs": [
    {
     "name": "stdout",
     "output_type": "stream",
     "text": [
      "epoch: 0    loss: 15449466.000000     time elapsed=0.0236\n",
      "epoch: 100    loss: 15449466.000000     time elapsed=2.0094\n",
      "epoch: 200    loss: 15449466.000000     time elapsed=3.9873\n",
      "epoch: 300    loss: 15449466.000000     time elapsed=5.9242\n",
      "epoch: 400    loss: 15449466.000000     time elapsed=7.8436\n",
      "epoch: 500    loss: 15449466.000000     time elapsed=9.8182\n",
      "epoch: 600    loss: 15449466.000000     time elapsed=11.8563\n",
      "epoch: 700    loss: 15449466.000000     time elapsed=13.8109\n",
      "epoch: 800    loss: 15449466.000000     time elapsed=15.8656\n",
      "epoch: 900    loss: 15449466.000000     time elapsed=17.9574\n",
      "Time taken by learn is 20.0498 seconds\n"
     ]
    }
   ],
   "source": [
    "model.learn(train, epochs=1000, learning_rate=1e-3)"
   ]
  },
  {
   "cell_type": "code",
   "execution_count": 4,
   "id": "f847e2b7-9805-4513-938c-e0bcec7ebbef",
   "metadata": {},
   "outputs": [
    {
     "name": "stdout",
     "output_type": "stream",
     "text": [
      "Time taken by compute_tau_f is 6.5621 seconds\n"
     ]
    }
   ],
   "source": [
    "tau_f_rmse, tau_f_se, rmse, se = model.compute_tau_f(test[:500], error_threshold=0.05)"
   ]
  },
  {
   "cell_type": "code",
   "execution_count": 5,
   "id": "d306fb85-6025-41db-92b1-2f5c271f027f",
   "metadata": {},
   "outputs": [
    {
     "data": {
      "image/png": "[encoded data removed]",
      "text/plain": [
       "<Figure size 640x480 with 1 Axes>"
      ]
     },
     "metadata": {},
     "output_type": "display_data"
    }
   ],
   "source": [
    "plt.hist(tau_f_se, density=True)\n",
    "plt.xlabel(r'$\\tau_f$ (NN)')\n",
    "plt.savefig('../data/plots/tau_f_NN.png')\n",
    "# plt.title(f'training_data_size={N}')"
   ]
  },
  {
   "cell_type": "code",
   "execution_count": 6,
   "id": "d390eee1-fdde-4ccf-a9b4-a15c687f4664",
   "metadata": {},
   "outputs": [
    {
     "name": "stdout",
     "output_type": "stream",
     "text": [
      "Time taken by compute_tau_f is 0.3897 seconds\n"
     ]
    },
    {
     "data": {
      "text/plain": [
       "Text(0.5, 1.0, 'training_data_size=20000')"
      ]
     },
     "execution_count": 6,
     "metadata": {},
     "output_type": "execute_result"
    },
    {
     "data": {
      "image/png": "[encoded data removed]",
      "text/plain": [
       "<Figure size 640x480 with 1 Axes>"
      ]
     },
     "metadata": {},
     "output_type": "display_data"
    }
   ],
   "source": [
    "tau_f_rmse, tau_f_se, rmse, se = model.compute_tau_f(train.T.reshape(-1, 3, 800))\n",
    "\n",
    "plt.hist(tau_f_se)\n",
    "plt.xlabel(r'$\\tau_f$ (NN), for train data')\n",
    "plt.title(f'training_data_size={N}')"
   ]
  },
  {
   "cell_type": "code",
   "execution_count": 7,
   "id": "1b826734-53d5-438f-a1c4-e5091e6dd576",
   "metadata": {},
   "outputs": [
    {
     "data": {
      "text/plain": [
       "0.0"
      ]
     },
     "execution_count": 7,
     "metadata": {},
     "output_type": "execute_result"
    }
   ],
   "source": [
    "tau_f_se.mean()"
   ]
  },
  {
   "cell_type": "code",
   "execution_count": 8,
   "id": "abec1600-bdd2-46b8-a835-bb9f8a528531",
   "metadata": {},
   "outputs": [
    {
     "name": "stdout",
     "output_type": "stream",
     "text": [
      "tensor([[ -8.3611, -13.3140,  18.1467],\n",
      "        [ -9.3860, -14.6547,  19.6255],\n",
      "        [-10.4542, -15.8231,  21.5584],\n",
      "        ...,\n",
      "        [  2.0305,   3.3969,  15.7262],\n",
      "        [  2.3213,   3.8728,  15.0634],\n",
      "        [  2.6548,   4.4476,  14.4824]]) tensor([[ -9.3860, -14.6547,  19.6255],\n",
      "        [-10.4542, -15.8231,  21.5584],\n",
      "        [-11.5119, -16.6562,  23.9250],\n",
      "        ...,\n",
      "        [  2.3213,   3.8728,  15.0634],\n",
      "        [  2.6548,   4.4476,  14.4824],\n",
      "        [  3.0424,   5.1353,  13.9958]])\n",
      "tensor([[ 3.0424,  5.1353, 13.9958],\n",
      "        [ 3.4962,  5.9518, 13.6216],\n",
      "        [ 4.0290,  6.9134, 13.3851],\n",
      "        ...,\n",
      "        [14.0473, 11.6263, 36.7345],\n",
      "        [13.3525,  8.8866, 37.5703],\n",
      "        [12.2934,  6.2659, 37.5103]]) tensor([[ 3.4962,  5.9518, 13.6216],\n",
      "        [ 4.0290,  6.9134, 13.3851],\n",
      "        [ 4.6544,  8.0351, 13.3216],\n",
      "        ...,\n",
      "        [13.3525,  8.8866, 37.5703],\n",
      "        [12.2934,  6.2659, 37.5103],\n",
      "        [10.9839,  4.0252, 36.7231]])\n",
      "tensor([[10.9839,  4.0252, 36.7231],\n",
      "        [ 9.5522,  2.2928, 35.4411],\n",
      "        [ 8.1150,  1.0769, 33.8848],\n",
      "        ...,\n",
      "        [-5.2309, -0.9258, 28.9462],\n",
      "        [-4.4444, -0.8837, 27.5267],\n",
      "        [-3.8046, -0.9592, 26.1702]]) tensor([[ 9.5522,  2.2928, 35.4411],\n",
      "        [ 8.1150,  1.0769, 33.8848],\n",
      "        [ 6.7612,  0.3086, 32.2215],\n",
      "        ...,\n",
      "        [-4.4444, -0.8837, 27.5267],\n",
      "        [-3.8046, -0.9592, 26.1702],\n",
      "        [-3.3023, -1.1132, 24.8820]])\n",
      "tensor([[ -3.3023,  -1.1132,  24.8820],\n",
      "        [ -2.9242,  -1.3199,  23.6629],\n",
      "        [ -2.6557,  -1.5642,  22.5118],\n",
      "        ...,\n",
      "        [ -9.5990, -16.2401,  17.0468],\n",
      "        [-10.9621, -17.8938,  19.5890],\n",
      "        [-12.3418, -19.1151,  22.7890]]) tensor([[ -2.9242,  -1.3199,  23.6629],\n",
      "        [ -2.6557,  -1.5642,  22.5118],\n",
      "        [ -2.4832,  -1.8391,  21.4274],\n",
      "        ...,\n",
      "        [-10.9621, -17.8938,  19.5890],\n",
      "        [-12.3418, -19.1151,  22.7890],\n",
      "        [-13.6282, -19.5964,  26.5281]])\n",
      "tensor([[-13.6282, -19.5964,  26.5281],\n",
      "        [-14.6763, -19.0543,  30.5132],\n",
      "        [-15.3277, -17.3488,  34.2859],\n",
      "        ...,\n",
      "        [  6.0192,   8.3061,  19.7591],\n",
      "        [  6.5131,   9.1628,  19.7987],\n",
      "        [  7.0777,  10.0699,  20.0434]]) tensor([[-14.6763, -19.0543,  30.5132],\n",
      "        [-15.3277, -17.3488,  34.2859],\n",
      "        [-15.4495, -14.5923,  37.3253],\n",
      "        ...,\n",
      "        [  6.5131,   9.1628,  19.7987],\n",
      "        [  7.0777,  10.0699,  20.0434],\n",
      "        [  7.7073,  11.0020,  20.5204]])\n",
      "tensor([[ 7.7073, 11.0020, 20.5204],\n",
      "        [ 8.3911, 11.9200, 21.2533],\n",
      "        [ 9.1118, 12.7685, 22.2568],\n",
      "        ...,\n",
      "        [ 6.2272, 10.2874, 15.6720],\n",
      "        [ 7.0912, 11.6701, 16.2826],\n",
      "        [ 8.0568, 13.1243, 17.2675]]) tensor([[ 8.3911, 11.9200, 21.2533],\n",
      "        [ 9.1118, 12.7685, 22.2568],\n",
      "        [ 9.8437, 13.4765, 23.5283],\n",
      "        ...,\n",
      "        [ 7.0912, 11.6701, 16.2826],\n",
      "        [ 8.0568, 13.1243, 17.2675],\n",
      "        [ 9.1118, 14.5706, 18.6897]])\n",
      "tensor([[ 9.1118, 14.5706, 18.6897],\n",
      "        [10.2276, 15.8859, 20.5941],\n",
      "        [11.3544, 16.9021, 22.9820],\n",
      "        ...,\n",
      "        [ 1.7431, -3.0146, 27.4918],\n",
      "        [ 0.8889, -2.9243, 25.9889],\n",
      "        [ 0.2060, -2.8393, 24.6092]]) tensor([[10.2276, 15.8859, 20.5941],\n",
      "        [11.3544, 16.9021, 22.9820],\n",
      "        [12.4177, 17.4208, 25.7787],\n",
      "        ...,\n",
      "        [ 0.8889, -2.9243, 25.9889],\n",
      "        [ 0.2060, -2.8393, 24.6092],\n",
      "        [-0.3407, -2.7905, 23.3354]])\n",
      "tensor([[-0.3407, -2.7905, 23.3354],\n",
      "        [-0.7844, -2.7956, 22.1545],\n",
      "        [-1.1544, -2.8645, 21.0576],\n",
      "        ...,\n",
      "        [-2.4977,  1.8040, 27.2532],\n",
      "        [-1.7264,  1.7078, 25.7659],\n",
      "        [-1.1146,  1.5936, 24.3824]]) tensor([[-0.7844, -2.7956, 22.1545],\n",
      "        [-1.1544, -2.8645, 21.0576],\n",
      "        [-1.4763, -3.0031, 20.0393],\n",
      "        ...,\n",
      "        [-1.7264,  1.7078, 25.7659],\n",
      "        [-1.1146,  1.5936, 24.3824],\n",
      "        [-0.6337,  1.4900, 23.0902]])\n",
      "tensor([[-0.6337,  1.4900, 23.0902],\n",
      "        [-0.2564,  1.4134, 21.8786],\n",
      "        [ 0.0419,  1.3726, 20.7396],\n",
      "        ...,\n",
      "        [14.5419, 15.5504, 34.1320],\n",
      "        [14.5064, 13.1205, 36.4372],\n",
      "        [13.9906, 10.2575, 37.8014]]) tensor([[-0.2564,  1.4134, 21.8786],\n",
      "        [ 0.0419,  1.3726, 20.7396],\n",
      "        [ 0.2824,  1.3716, 19.6669],\n",
      "        ...,\n",
      "        [14.5064, 13.1205, 36.4372],\n",
      "        [13.9906, 10.2575, 37.8014],\n",
      "        [13.0399,  7.3560, 38.1588]])\n",
      "tensor([[13.0399,  7.3560, 38.1588],\n",
      "        [11.7598,  4.7596, 37.6357],\n",
      "        [10.2872,  2.6761, 36.4723],\n",
      "        ...,\n",
      "        [-9.2793, -5.5981, 32.0444],\n",
      "        [-8.5377, -4.8378, 31.2825],\n",
      "        [-7.8119, -4.2816, 30.3809]]) tensor([[11.7598,  4.7596, 37.6357],\n",
      "        [10.2872,  2.6761, 36.4723],\n",
      "        [ 8.7574,  1.1641, 34.9278],\n",
      "        ...,\n",
      "        [-8.5377, -4.8378, 31.2825],\n",
      "        [-7.8119, -4.2816, 30.3809],\n",
      "        [-7.1350, -3.9159, 29.3969]])\n"
     ]
    }
   ],
   "source": [
    "for batch, (X, y) in enumerate(train_dataloader):\n",
    "    print(X, y)"
   ]
  },
  {
   "cell_type": "code",
   "execution_count": 9,
   "id": "984b261e-76f2-4905-94eb-1b80b4ea0ffd",
   "metadata": {},
   "outputs": [
    {
     "data": {
      "text/plain": [
       "array([[ -8.361066 , -13.313976 ,  18.146687 ],\n",
       "       [ -9.38598  , -14.654672 ,  19.625534 ],\n",
       "       [-10.454209 , -15.823077 ,  21.55841  ],\n",
       "       ...,\n",
       "       [ -8.537725 ,  -4.837833 ,  31.28254  ],\n",
       "       [ -7.811937 ,  -4.2815824,  30.380886 ],\n",
       "       [ -7.1350317,  -3.9159417,  29.39694  ]], dtype=float32)"
      ]
     },
     "execution_count": 9,
     "metadata": {},
     "output_type": "execute_result"
    }
   ],
   "source": [
    "train.T"
   ]
  },
  {
   "cell_type": "code",
   "execution_count": 10,
   "id": "92ee3a86-e33f-40fb-b000-0c3b38ee99f8",
   "metadata": {},
   "outputs": [],
   "source": [
    "import torch.nn.functional as F"
   ]
  },
  {
   "cell_type": "code",
   "execution_count": 11,
   "id": "91116d20-58ec-4027-9c75-965424c5fdd8",
   "metadata": {},
   "outputs": [],
   "source": [
    "l = nn.Linear(3, 300)"
   ]
  },
  {
   "cell_type": "code",
   "execution_count": 12,
   "id": "4c7ef6d9-7976-435b-8291-22047cadcfcc",
   "metadata": {},
   "outputs": [
    {
     "data": {
      "text/plain": [
       "tensor([ 1.6303e-01, -1.2939e-02, -6.1522e-01, -6.4342e-02,  2.8677e-01,\n",
       "        -7.0556e-01,  5.9360e-01,  5.4571e-01, -7.1238e-02, -5.4099e-01,\n",
       "         4.1742e-01,  5.4522e-01, -3.3521e-01, -8.2420e-02,  2.4258e-01,\n",
       "         4.8497e-01, -2.0776e-01,  3.5020e-01, -1.5742e-01,  4.4327e-01,\n",
       "         1.6487e-04,  2.3666e-01,  5.8627e-02,  7.5155e-04,  2.8878e-01,\n",
       "         3.5000e-01,  3.8880e-01,  2.8536e-02, -4.6024e-01, -5.9944e-01,\n",
       "        -1.3591e-01,  5.7817e-01, -5.8684e-01,  6.0274e-02,  7.6210e-04,\n",
       "         3.4190e-01,  6.5736e-01, -5.0684e-01, -2.7378e-01, -6.7683e-01,\n",
       "         1.2643e-01,  4.6376e-01, -5.2952e-01,  3.6257e-02, -7.9224e-01,\n",
       "        -2.8631e-01,  3.5505e-01, -1.3742e-01,  2.6629e-01,  2.3277e-01,\n",
       "         6.3839e-01,  1.9058e-01, -5.8180e-01, -7.6896e-01, -3.4726e-01,\n",
       "         1.2469e-01, -3.5933e-01, -2.1107e-01, -6.4152e-01, -6.3785e-01,\n",
       "        -8.1348e-01, -4.3255e-01,  4.4420e-01,  1.1612e-01,  8.1909e-01,\n",
       "         1.7357e-01,  3.9809e-01, -3.8778e-01,  3.6925e-01,  7.7866e-03,\n",
       "        -3.1953e-01, -4.6912e-01,  6.7725e-01, -4.7219e-01, -2.0321e-01,\n",
       "         7.2664e-01, -2.0816e-01, -1.5676e-01,  9.4951e-02,  5.4530e-01,\n",
       "        -4.0808e-01,  4.4314e-01, -1.2464e-01,  3.0727e-01,  7.8331e-01,\n",
       "         8.5363e-02,  6.0586e-01,  4.8935e-01, -6.3700e-01, -3.5163e-01,\n",
       "         3.2836e-01,  2.1902e-01,  4.5171e-01, -1.0081e-01,  4.1067e-01,\n",
       "         7.7849e-01, -7.3562e-01, -1.7015e-01,  2.3062e-01,  6.1437e-01,\n",
       "        -3.0461e-01,  1.0909e-02,  5.7375e-01,  5.6437e-01,  2.9991e-01,\n",
       "         7.4503e-01,  3.4627e-02, -1.9746e-01,  3.7569e-04,  5.2989e-01,\n",
       "         3.0577e-01, -5.9510e-02, -1.2957e-01,  5.1022e-01,  2.6139e-01,\n",
       "         2.4704e-01,  1.1426e-02, -4.2595e-03,  1.7954e-01,  7.1396e-01,\n",
       "         1.4051e-02, -2.9428e-01, -3.5047e-02,  5.2625e-01, -3.9228e-01,\n",
       "        -5.5644e-01,  5.9102e-01, -2.6497e-01, -1.1702e-01,  1.0372e-01,\n",
       "        -1.7221e-01, -3.7036e-02, -2.3533e-01, -1.6288e-01, -2.9625e-01,\n",
       "        -3.1500e-01, -4.3144e-02,  4.4618e-01, -2.0572e-01, -3.5972e-01,\n",
       "         3.6996e-01, -2.1326e-01, -6.2493e-02, -1.5194e-01,  2.4704e-01,\n",
       "        -4.0124e-01,  6.3884e-01, -4.5000e-01, -7.5651e-01, -1.7595e-01,\n",
       "         6.5439e-01, -7.0838e-01, -1.1972e-01,  5.2763e-01,  2.9779e-02,\n",
       "        -1.0711e-01,  6.8217e-01, -2.3185e-01,  3.8529e-01, -5.6175e-02,\n",
       "        -2.4185e-01, -1.1610e-01, -2.1286e-01, -4.6273e-01,  6.8593e-01,\n",
       "         7.0383e-01,  2.3640e-01, -2.5458e-01, -1.0412e-01,  2.9990e-01,\n",
       "        -4.2797e-01,  2.1753e-01, -7.7935e-01, -3.0775e-01, -2.9379e-01,\n",
       "         3.8821e-01,  3.7264e-02, -2.2878e-02,  8.2509e-01, -3.3687e-01,\n",
       "         4.4360e-01, -1.9931e-01, -5.1565e-01,  3.8012e-01,  4.3700e-01,\n",
       "         6.4642e-01, -3.2546e-01,  1.8474e-01, -1.9354e-01, -4.8017e-01,\n",
       "         5.6345e-01,  7.4277e-01,  4.0534e-01, -4.5966e-01,  5.1241e-01,\n",
       "         1.5500e-01,  5.3866e-01, -1.6903e-01,  2.1416e-01, -4.7187e-01,\n",
       "         2.5797e-01,  2.0202e-01, -3.4195e-01,  1.0545e-01, -5.1574e-01,\n",
       "         4.8928e-01, -1.5924e-01,  6.4221e-02,  2.7125e-01, -4.7973e-02,\n",
       "        -5.2103e-01,  1.8168e-01,  3.2679e-01,  5.9190e-01, -9.6177e-02,\n",
       "         6.4048e-01,  1.6802e-01, -4.5265e-01,  4.4217e-01, -5.3824e-01,\n",
       "         3.8185e-01, -1.8398e-01, -1.2255e-01, -6.0446e-02, -1.8968e-01,\n",
       "         1.3659e-01, -3.8159e-01, -3.8533e-01,  6.5706e-01,  5.0823e-01,\n",
       "        -1.4046e-01, -1.3779e-01,  5.3633e-02,  3.8173e-01,  4.5154e-01,\n",
       "         1.1428e-01, -1.9592e-01, -2.8001e-01,  3.8898e-01, -2.9349e-01,\n",
       "        -2.9699e-01, -4.3914e-01, -4.4278e-01, -1.8662e-01,  1.8640e-01,\n",
       "        -4.2198e-01,  7.1996e-01, -9.4841e-02,  6.5956e-01,  8.9262e-02,\n",
       "        -3.3376e-01,  2.5873e-01,  4.8833e-02,  7.7214e-02,  7.5387e-02,\n",
       "        -7.0323e-01, -3.0726e-01,  1.1658e-02,  6.5939e-02, -4.6089e-01,\n",
       "        -4.5628e-01,  1.4932e-01,  6.2227e-02,  7.5237e-01, -8.4059e-01,\n",
       "         3.2718e-01, -1.4751e-01, -1.1623e-01,  3.7737e-01, -4.2338e-01,\n",
       "         1.6620e-01,  4.1032e-01, -1.9507e-01, -5.6019e-01, -1.2992e-01,\n",
       "        -2.0224e-01, -3.6879e-01, -2.0233e-01, -4.3383e-01, -3.5379e-01,\n",
       "        -6.2711e-01, -1.9405e-01,  1.1609e-01, -3.6311e-01,  1.4304e-01,\n",
       "         2.0936e-01, -2.7961e-01,  2.7192e-01, -4.2351e-01,  7.4256e-01,\n",
       "         3.1412e-01,  2.4703e-01,  2.5015e-02, -5.5778e-01, -6.6375e-01,\n",
       "        -3.9731e-01,  2.4021e-01,  9.7942e-02, -2.5980e-02, -2.5480e-01],\n",
       "       grad_fn=<TanhBackward0>)"
      ]
     },
     "execution_count": 12,
     "metadata": {},
     "output_type": "execute_result"
    }
   ],
   "source": [
    "F.tanh(l(torch.rand(3)))"
   ]
  },
  {
   "cell_type": "code",
   "execution_count": 13,
   "id": "3b3957ee-2a72-49ea-a4b7-f2ab16907d46",
   "metadata": {},
   "outputs": [
    {
     "data": {
      "text/plain": [
       "<torch.utils.data.dataset.TensorDataset at 0x283f1a150>"
      ]
     },
     "execution_count": 13,
     "metadata": {},
     "output_type": "execute_result"
    }
   ],
   "source": [
    "train_dataset"
   ]
  },
  {
   "cell_type": "code",
   "execution_count": 14,
   "id": "a57aa77a-ee35-4937-97ac-d7be5a54f3fc",
   "metadata": {},
   "outputs": [
    {
     "name": "stdout",
     "output_type": "stream",
     "text": [
      "tensor([[ 3.0424,  5.1353, 13.9958],\n",
      "        [ 3.4962,  5.9518, 13.6216],\n",
      "        [ 4.0290,  6.9134, 13.3851],\n",
      "        ...,\n",
      "        [14.0473, 11.6263, 36.7345],\n",
      "        [13.3525,  8.8866, 37.5703],\n",
      "        [12.2934,  6.2659, 37.5103]]) tensor([[ 3.4962,  5.9518, 13.6216],\n",
      "        [ 4.0290,  6.9134, 13.3851],\n",
      "        [ 4.6544,  8.0351, 13.3216],\n",
      "        ...,\n",
      "        [13.3525,  8.8866, 37.5703],\n",
      "        [12.2934,  6.2659, 37.5103],\n",
      "        [10.9839,  4.0252, 36.7231]])\n"
     ]
    }
   ],
   "source": [
    "for batch, (X, y) in enumerate(train_dataloader):\n",
    "    if batch == 1:\n",
    "        print(X, y)"
   ]
  },
  {
   "cell_type": "code",
   "execution_count": 15,
   "id": "480f8e73-923b-4cd0-8408-0d7d6b4f2fa2",
   "metadata": {},
   "outputs": [
    {
     "data": {
      "text/plain": [
       "tensor([[-0.6206,  1.0045, -0.1423],\n",
       "        [-0.5553,  0.8675, -0.1812],\n",
       "        [-0.3519,  0.7613, -0.1846],\n",
       "        ...,\n",
       "        [ 0.0689,  0.9368,  0.4015],\n",
       "        [ 0.0434,  0.9550,  0.3957],\n",
       "        [ 0.0245,  0.9458,  0.3744]], grad_fn=<MmBackward0>)"
      ]
     },
     "execution_count": 15,
     "metadata": {},
     "output_type": "execute_result"
    }
   ],
   "source": [
    "model.net(X)"
   ]
  },
  {
   "cell_type": "code",
   "execution_count": 16,
   "id": "76160fef-3389-428f-aafe-cae17358070c",
   "metadata": {},
   "outputs": [
    {
     "data": {
      "text/plain": [
       "tensor([[-0.5553,  0.8675, -0.1812],\n",
       "        [-0.3519,  0.7613, -0.1846],\n",
       "        [-0.1991,  0.7566, -0.1802],\n",
       "        ...,\n",
       "        [ 0.0434,  0.9550,  0.3957],\n",
       "        [ 0.0245,  0.9458,  0.3744],\n",
       "        [ 0.0092,  0.9303,  0.3492]], grad_fn=<MmBackward0>)"
      ]
     },
     "execution_count": 16,
     "metadata": {},
     "output_type": "execute_result"
    }
   ],
   "source": [
    "model.net(y)"
   ]
  },
  {
   "cell_type": "code",
   "execution_count": 17,
   "id": "da6967bd-71b3-4b91-a8e3-1412b1aaffd6",
   "metadata": {},
   "outputs": [
    {
     "data": {
      "text/plain": [
       "tensor(257.2068, grad_fn=<MseLossBackward0>)"
      ]
     },
     "execution_count": 17,
     "metadata": {},
     "output_type": "execute_result"
    }
   ],
   "source": [
    "nn.MSELoss()(model.net(X), y)"
   ]
  },
  {
   "cell_type": "code",
   "execution_count": 18,
   "id": "a9d36cae-f9c4-424e-87b2-e282a401534c",
   "metadata": {},
   "outputs": [
    {
     "data": {
      "text/plain": [
       "tensor(26.1514, grad_fn=<MeanBackward0>)"
      ]
     },
     "execution_count": 18,
     "metadata": {},
     "output_type": "execute_result"
    }
   ],
   "source": [
    "torch.mean(torch.sum((model.net(X)-y)**2, axis=1)**0.5)"
   ]
  },
  {
   "cell_type": "code",
   "execution_count": 19,
   "id": "0a7ddf88-9a27-4d06-9396-22e956ee53d6",
   "metadata": {},
   "outputs": [
    {
     "data": {
      "text/plain": [
       "58956.6961"
      ]
     },
     "execution_count": 19,
     "metadata": {},
     "output_type": "execute_result"
    }
   ],
   "source": [
    "242.81**2"
   ]
  },
  {
   "cell_type": "code",
   "execution_count": 20,
   "id": "201a0ab5-610b-4c69-aec7-60ee25e3f25b",
   "metadata": {},
   "outputs": [
    {
     "ename": "NameError",
     "evalue": "name 'attrs' is not defined",
     "output_type": "error",
     "traceback": [
      "\u001b[0;31m---------------------------------------------------------------------------\u001b[0m",
      "\u001b[0;31mNameError\u001b[0m                                 Traceback (most recent call last)",
      "Cell \u001b[0;32mIn[20], line 1\u001b[0m\n\u001b[0;32m----> 1\u001b[0m \u001b[43mattrs\u001b[49m(model\u001b[38;5;241m.\u001b[39mnet\u001b[38;5;241m.\u001b[39mW)\n",
      "\u001b[0;31mNameError\u001b[0m: name 'attrs' is not defined"
     ]
    }
   ],
   "source": [
    "attrs(model.net.W)"
   ]
  },
  {
   "cell_type": "code",
   "execution_count": null,
   "id": "b76d0ffe-6f36-4669-a5ea-08c4352dc5b0",
   "metadata": {},
   "outputs": [],
   "source": [
    "seq = nn.Sequential(nn.Linear(3, 300, bias=True), nn.Tanh(), nn.Linear(300, 3, bias=False))"
   ]
  },
  {
   "cell_type": "code",
   "execution_count": null,
   "id": "887a7bf7-610a-4160-b4ef-bfdb8dc07517",
   "metadata": {},
   "outputs": [],
   "source": [
    "for name, param in seq.named_parameters():\n",
    "    if param.requires_grad:\n",
    "        print(name, param.data)"
   ]
  },
  {
   "cell_type": "code",
   "execution_count": null,
   "id": "d3badfeb-a1d3-4495-9265-746969fad9af",
   "metadata": {},
   "outputs": [],
   "source": [
    "torch.sum(seq.state_dict()['2.weight']**2)"
   ]
  },
  {
   "cell_type": "code",
   "execution_count": null,
   "id": "8c79f068-8b41-4a20-8952-f3a3e1b908e9",
   "metadata": {},
   "outputs": [],
   "source": [
    "fig, N, dt = plt.figure(figsize=(8, 8)), 500, 0.02\n",
    "t = np.arange(0., N*dt, dt) / (1/0.91)\n",
    "axs = [fig.add_subplot(311), fig.add_subplot(312), fig.add_subplot(313)]\n",
    "dims = ['x', 'y', 'z']\n",
    "u = np.load('{}/validation.npy'.format(L63_data_path)).astype(np.float32)\n",
    "u = train\n",
    "idx = [[4, 14, 18], [13, 17, 46], [13, 2, 31], ]\n",
    "labels = ['good', 'medium', 'bad']\n",
    "predicted = model.multistep_forecast(u[:, 0], N)\n",
    "for i, ax in enumerate(axs):\n",
    "    ax.plot(t, u[i, :N], label='truth')\n",
    "    ax.plot(t, predicted[i, :N], label='network')\n",
    "    ax.legend(loc='upper right')\n",
    "    if i == len(dims)-1:\n",
    "        ax.set_xlabel('t')\n",
    "    ax.set_ylabel(dims[i])"
   ]
  },
  {
   "cell_type": "code",
   "execution_count": null,
   "id": "d8cd8878-8d51-489e-921b-1ff1b696f2e6",
   "metadata": {},
   "outputs": [],
   "source": [
    "train.shape"
   ]
  },
  {
   "cell_type": "code",
   "execution_count": null,
   "id": "c016f1db-021a-4562-85f0-fa415d98aed8",
   "metadata": {},
   "outputs": [],
   "source": [
    "model = srnn.SurrogateModel_NN_multi(3, 50)\n",
    "model.learn(train, epochs=10000, learning_rate=1e-3)"
   ]
  },
  {
   "cell_type": "code",
   "execution_count": null,
   "id": "99b041b5-80a3-4061-87b0-22e08798117d",
   "metadata": {},
   "outputs": [],
   "source": [
    "fig, N, dt = plt.figure(figsize=(8, 8)), 500, 0.02\n",
    "t = np.arange(0., N*dt, dt) / (1/0.91)\n",
    "axs = [fig.add_subplot(311), fig.add_subplot(312), fig.add_subplot(313)]\n",
    "dims = ['x', 'y', 'z']\n",
    "u = np.load('{}/validation.npy'.format(L63_data_path)).astype(np.float32)\n",
    "u = train\n",
    "idx = [[4, 14, 18], [13, 17, 46], [13, 2, 31], ]\n",
    "labels = ['good', 'medium', 'bad']\n",
    "predicted = model.multistep_forecast(u[:, 0], N)\n",
    "for i, ax in enumerate(axs):\n",
    "    ax.plot(t, u[i, :N], label='truth')\n",
    "    ax.plot(t, predicted[i, :N], label='network')\n",
    "    ax.legend(loc='upper right')\n",
    "    if i == len(dims)-1:\n",
    "        ax.set_xlabel('t')\n",
    "    ax.set_ylabel(dims[i])"
   ]
  },
  {
   "cell_type": "code",
   "execution_count": null,
   "id": "b9d4f7a4-a77f-457c-a366-7d20ade0c22a",
   "metadata": {},
   "outputs": [],
   "source": [
    "new_model = srnn.SurrogateModel_NN(3, 300, name='test_model', save_folder='../data/test/test_model')\n",
    "new_model.net = torch.load(model.save_folder+f'/{model.name}_900')"
   ]
  },
  {
   "cell_type": "code",
   "execution_count": null,
   "id": "25820c98-e7ea-4d25-b014-05852324dca4",
   "metadata": {},
   "outputs": [],
   "source": [
    "torch.load(model.save_folder+f'/{model.name}_900')(X) - new_model.net(X)"
   ]
  },
  {
   "cell_type": "code",
   "execution_count": null,
   "id": "99676cf0-5b3a-4570-b485-6c694352756e",
   "metadata": {},
   "outputs": [],
   "source": []
  }
 ],
 "metadata": {
  "kernelspec": {
   "display_name": "Python 3 (ipykernel)",
   "language": "python",
   "name": "python3"
  },
  "language_info": {
   "codemirror_mode": {
    "name": "ipython",
    "version": 3
   },
   "file_extension": ".py",
   "mimetype": "text/x-python",
   "name": "python",
   "nbconvert_exporter": "python",
   "pygments_lexer": "ipython3",
   "version": "3.11.5"
  }
 },
 "nbformat": 4,
 "nbformat_minor": 5
}
