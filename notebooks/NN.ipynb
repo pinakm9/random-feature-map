{
 "cells": [
  {
   "cell_type": "code",
   "execution_count": 1,
   "id": "9f91fe87-e4cf-4d90-bf34-2e9dac62ef97",
   "metadata": {},
   "outputs": [],
   "source": [
    "import numpy as np \n",
    "from scipy.integrate import odeint\n",
    "import os, sys, warnings\n",
    "from pathlib import Path\n",
    "from os.path import dirname, realpath\n",
    "script_dir = Path(dirname(realpath('.')))\n",
    "module_dir = str(script_dir)\n",
    "sys.path.insert(0, module_dir + '/modules')\n",
    "import utility as ut\n",
    "import surrogate_nn as srnn\n",
    "import matplotlib.pyplot as plt\n",
    "import pandas as pd\n",
    "import torch\n",
    "from torch import nn\n",
    "from torch.optim import lr_scheduler\n",
    "from torch.utils.data import DataLoader, TensorDataset\n",
    "warnings.filterwarnings('ignore')"
   ]
  },
  {
   "cell_type": "code",
   "execution_count": 2,
   "id": "d8341f71-46f2-49e7-bee9-8154bace790c",
   "metadata": {},
   "outputs": [],
   "source": [
    "L63_data_path = '../data/L63-trajectories'\n",
    "N = 20000\n",
    "train = np.load(f'{L63_data_path}/train.npy')[:, :N].astype(np.float32)\n",
    "test = np.load(f'{L63_data_path}/test.npy')[:, :, :1000].astype(np.float32)\n",
    "\n",
    "train_dataset = TensorDataset(torch.Tensor(train[:, :-1].T), torch.Tensor(train[:, 1:].T))\n",
    "# test_dataset = test = np.load(f'{L63_data_path}/test.npy')[:, :, 1000]\n",
    "train_dataloader = DataLoader(train_dataset, batch_size=int(N/10))#, shuffle=True)\n",
    "# test_dataloader = DataLoader(test_data, batch_size=64, shuffle=True)\n",
    "\n",
    "model = srnn.SurrogateModel_NN(3, 300, name='test_model', save_folder='../data/test/test_model')\n",
    "x = torch.rand(3)"
   ]
  },
  {
   "cell_type": "code",
   "execution_count": 3,
   "id": "29f3a2f6-d413-4364-bd63-3e87f25c5f45",
   "metadata": {},
   "outputs": [
    {
     "name": "stdout",
     "output_type": "stream",
     "text": [
      "epoch: 0    loss: 14982488.000000     time elapsed=0.0252\n",
      "epoch: 100    loss: 2064132.000000     time elapsed=1.9853\n",
      "epoch: 200    loss: 1317448.000000     time elapsed=3.9450\n",
      "epoch: 300    loss: 789920.062500     time elapsed=5.9222\n",
      "epoch: 400    loss: 407898.250000     time elapsed=7.9420\n",
      "epoch: 500    loss: 185691.562500     time elapsed=9.9636\n",
      "epoch: 600    loss: 87067.570312     time elapsed=12.0007\n",
      "epoch: 700    loss: 47568.292969     time elapsed=14.0817\n",
      "epoch: 800    loss: 30201.255859     time elapsed=16.1338\n",
      "epoch: 900    loss: 21192.628906     time elapsed=18.1756\n",
      "Time taken by learn is 20.3297 seconds\n"
     ]
    }
   ],
   "source": [
    "model.learn(train, epochs=1000, learning_rate=1e-3)"
   ]
  },
  {
   "cell_type": "code",
   "execution_count": 4,
   "id": "f847e2b7-9805-4513-938c-e0bcec7ebbef",
   "metadata": {},
   "outputs": [
    {
     "name": "stdout",
     "output_type": "stream",
     "text": [
      "Time taken by compute_tau_f is 6.5913 seconds\n"
     ]
    }
   ],
   "source": [
    "tau_f_rmse, tau_f_se, rmse, se = model.compute_tau_f(test[:500], error_threshold=0.05)"
   ]
  },
  {
   "cell_type": "code",
   "execution_count": 5,
   "id": "d306fb85-6025-41db-92b1-2f5c271f027f",
   "metadata": {},
   "outputs": [
    {
     "data": {
      "image/png": "[encoded data removed]",
      "text/plain": [
       "<Figure size 640x480 with 1 Axes>"
      ]
     },
     "metadata": {},
     "output_type": "display_data"
    }
   ],
   "source": [
    "plt.hist(tau_f_se, density=True)\n",
    "plt.xlabel(r'$\\tau_f$ (NN)')\n",
    "plt.savefig('../data/plots/tau_f_NN.png')\n",
    "# plt.title(f'training_data_size={N}')"
   ]
  },
  {
   "cell_type": "code",
   "execution_count": 6,
   "id": "d390eee1-fdde-4ccf-a9b4-a15c687f4664",
   "metadata": {},
   "outputs": [
    {
     "name": "stdout",
     "output_type": "stream",
     "text": [
      "Time taken by compute_tau_f is 0.3587 seconds\n"
     ]
    },
    {
     "data": {
      "text/plain": [
       "Text(0.5, 1.0, 'training_data_size=20000')"
      ]
     },
     "execution_count": 6,
     "metadata": {},
     "output_type": "execute_result"
    },
    {
     "data": {
      "image/png": "[encoded data removed]",
      "text/plain": [
       "<Figure size 640x480 with 1 Axes>"
      ]
     },
     "metadata": {},
     "output_type": "display_data"
    }
   ],
   "source": [
    "tau_f_rmse, tau_f_se, rmse, se = model.compute_tau_f(train.T.reshape(-1, 3, 800))\n",
    "\n",
    "plt.hist(tau_f_se)\n",
    "plt.xlabel(r'$\\tau_f$ (NN), for train data')\n",
    "plt.title(f'training_data_size={N}')"
   ]
  },
  {
   "cell_type": "code",
   "execution_count": 7,
   "id": "1b826734-53d5-438f-a1c4-e5091e6dd576",
   "metadata": {},
   "outputs": [
    {
     "data": {
      "text/plain": [
       "0.0"
      ]
     },
     "execution_count": 7,
     "metadata": {},
     "output_type": "execute_result"
    }
   ],
   "source": [
    "tau_f_se.mean()"
   ]
  },
  {
   "cell_type": "code",
   "execution_count": 8,
   "id": "abec1600-bdd2-46b8-a835-bb9f8a528531",
   "metadata": {},
   "outputs": [
    {
     "name": "stdout",
     "output_type": "stream",
     "text": [
      "tensor([[ -8.3611, -13.3140,  18.1467],\n",
      "        [ -9.3860, -14.6547,  19.6255],\n",
      "        [-10.4542, -15.8231,  21.5584],\n",
      "        ...,\n",
      "        [  2.0305,   3.3969,  15.7262],\n",
      "        [  2.3213,   3.8728,  15.0634],\n",
      "        [  2.6548,   4.4476,  14.4824]]) tensor([[ -9.3860, -14.6547,  19.6255],\n",
      "        [-10.4542, -15.8231,  21.5584],\n",
      "        [-11.5119, -16.6562,  23.9250],\n",
      "        ...,\n",
      "        [  2.3213,   3.8728,  15.0634],\n",
      "        [  2.6548,   4.4476,  14.4824],\n",
      "        [  3.0424,   5.1353,  13.9958]])\n",
      "tensor([[ 3.0424,  5.1353, 13.9958],\n",
      "        [ 3.4962,  5.9518, 13.6216],\n",
      "        [ 4.0290,  6.9134, 13.3851],\n",
      "        ...,\n",
      "        [14.0473, 11.6263, 36.7345],\n",
      "        [13.3525,  8.8866, 37.5703],\n",
      "        [12.2934,  6.2659, 37.5103]]) tensor([[ 3.4962,  5.9518, 13.6216],\n",
      "        [ 4.0290,  6.9134, 13.3851],\n",
      "        [ 4.6544,  8.0351, 13.3216],\n",
      "        ...,\n",
      "        [13.3525,  8.8866, 37.5703],\n",
      "        [12.2934,  6.2659, 37.5103],\n",
      "        [10.9839,  4.0252, 36.7231]])\n",
      "tensor([[10.9839,  4.0252, 36.7231],\n",
      "        [ 9.5522,  2.2928, 35.4411],\n",
      "        [ 8.1150,  1.0769, 33.8848],\n",
      "        ...,\n",
      "        [-5.2309, -0.9258, 28.9462],\n",
      "        [-4.4444, -0.8837, 27.5267],\n",
      "        [-3.8046, -0.9592, 26.1702]]) tensor([[ 9.5522,  2.2928, 35.4411],\n",
      "        [ 8.1150,  1.0769, 33.8848],\n",
      "        [ 6.7612,  0.3086, 32.2215],\n",
      "        ...,\n",
      "        [-4.4444, -0.8837, 27.5267],\n",
      "        [-3.8046, -0.9592, 26.1702],\n",
      "        [-3.3023, -1.1132, 24.8820]])\n",
      "tensor([[ -3.3023,  -1.1132,  24.8820],\n",
      "        [ -2.9242,  -1.3199,  23.6629],\n",
      "        [ -2.6557,  -1.5642,  22.5118],\n",
      "        ...,\n",
      "        [ -9.5990, -16.2401,  17.0468],\n",
      "        [-10.9621, -17.8938,  19.5890],\n",
      "        [-12.3418, -19.1151,  22.7890]]) tensor([[ -2.9242,  -1.3199,  23.6629],\n",
      "        [ -2.6557,  -1.5642,  22.5118],\n",
      "        [ -2.4832,  -1.8391,  21.4274],\n",
      "        ...,\n",
      "        [-10.9621, -17.8938,  19.5890],\n",
      "        [-12.3418, -19.1151,  22.7890],\n",
      "        [-13.6282, -19.5964,  26.5281]])\n",
      "tensor([[-13.6282, -19.5964,  26.5281],\n",
      "        [-14.6763, -19.0543,  30.5132],\n",
      "        [-15.3277, -17.3488,  34.2859],\n",
      "        ...,\n",
      "        [  6.0192,   8.3061,  19.7591],\n",
      "        [  6.5131,   9.1628,  19.7987],\n",
      "        [  7.0777,  10.0699,  20.0434]]) tensor([[-14.6763, -19.0543,  30.5132],\n",
      "        [-15.3277, -17.3488,  34.2859],\n",
      "        [-15.4495, -14.5923,  37.3253],\n",
      "        ...,\n",
      "        [  6.5131,   9.1628,  19.7987],\n",
      "        [  7.0777,  10.0699,  20.0434],\n",
      "        [  7.7073,  11.0020,  20.5204]])\n",
      "tensor([[ 7.7073, 11.0020, 20.5204],\n",
      "        [ 8.3911, 11.9200, 21.2533],\n",
      "        [ 9.1118, 12.7685, 22.2568],\n",
      "        ...,\n",
      "        [ 6.2272, 10.2874, 15.6720],\n",
      "        [ 7.0912, 11.6701, 16.2826],\n",
      "        [ 8.0568, 13.1243, 17.2675]]) tensor([[ 8.3911, 11.9200, 21.2533],\n",
      "        [ 9.1118, 12.7685, 22.2568],\n",
      "        [ 9.8437, 13.4765, 23.5283],\n",
      "        ...,\n",
      "        [ 7.0912, 11.6701, 16.2826],\n",
      "        [ 8.0568, 13.1243, 17.2675],\n",
      "        [ 9.1118, 14.5706, 18.6897]])\n",
      "tensor([[ 9.1118, 14.5706, 18.6897],\n",
      "        [10.2276, 15.8859, 20.5941],\n",
      "        [11.3544, 16.9021, 22.9820],\n",
      "        ...,\n",
      "        [ 1.7431, -3.0146, 27.4918],\n",
      "        [ 0.8889, -2.9243, 25.9889],\n",
      "        [ 0.2060, -2.8393, 24.6092]]) tensor([[10.2276, 15.8859, 20.5941],\n",
      "        [11.3544, 16.9021, 22.9820],\n",
      "        [12.4177, 17.4208, 25.7787],\n",
      "        ...,\n",
      "        [ 0.8889, -2.9243, 25.9889],\n",
      "        [ 0.2060, -2.8393, 24.6092],\n",
      "        [-0.3407, -2.7905, 23.3354]])\n",
      "tensor([[-0.3407, -2.7905, 23.3354],\n",
      "        [-0.7844, -2.7956, 22.1545],\n",
      "        [-1.1544, -2.8645, 21.0576],\n",
      "        ...,\n",
      "        [-2.4977,  1.8040, 27.2532],\n",
      "        [-1.7264,  1.7078, 25.7659],\n",
      "        [-1.1146,  1.5936, 24.3824]]) tensor([[-0.7844, -2.7956, 22.1545],\n",
      "        [-1.1544, -2.8645, 21.0576],\n",
      "        [-1.4763, -3.0031, 20.0393],\n",
      "        ...,\n",
      "        [-1.7264,  1.7078, 25.7659],\n",
      "        [-1.1146,  1.5936, 24.3824],\n",
      "        [-0.6337,  1.4900, 23.0902]])\n",
      "tensor([[-0.6337,  1.4900, 23.0902],\n",
      "        [-0.2564,  1.4134, 21.8786],\n",
      "        [ 0.0419,  1.3726, 20.7396],\n",
      "        ...,\n",
      "        [14.5419, 15.5504, 34.1320],\n",
      "        [14.5064, 13.1205, 36.4372],\n",
      "        [13.9906, 10.2575, 37.8014]]) tensor([[-0.2564,  1.4134, 21.8786],\n",
      "        [ 0.0419,  1.3726, 20.7396],\n",
      "        [ 0.2824,  1.3716, 19.6669],\n",
      "        ...,\n",
      "        [14.5064, 13.1205, 36.4372],\n",
      "        [13.9906, 10.2575, 37.8014],\n",
      "        [13.0399,  7.3560, 38.1588]])\n",
      "tensor([[13.0399,  7.3560, 38.1588],\n",
      "        [11.7598,  4.7596, 37.6357],\n",
      "        [10.2872,  2.6761, 36.4723],\n",
      "        ...,\n",
      "        [-9.2793, -5.5981, 32.0444],\n",
      "        [-8.5377, -4.8378, 31.2825],\n",
      "        [-7.8119, -4.2816, 30.3809]]) tensor([[11.7598,  4.7596, 37.6357],\n",
      "        [10.2872,  2.6761, 36.4723],\n",
      "        [ 8.7574,  1.1641, 34.9278],\n",
      "        ...,\n",
      "        [-8.5377, -4.8378, 31.2825],\n",
      "        [-7.8119, -4.2816, 30.3809],\n",
      "        [-7.1350, -3.9159, 29.3969]])\n"
     ]
    }
   ],
   "source": [
    "for batch, (X, y) in enumerate(train_dataloader):\n",
    "    print(X, y)"
   ]
  },
  {
   "cell_type": "code",
   "execution_count": 9,
   "id": "984b261e-76f2-4905-94eb-1b80b4ea0ffd",
   "metadata": {},
   "outputs": [
    {
     "data": {
      "text/plain": [
       "array([[ -8.361066 , -13.313976 ,  18.146687 ],\n",
       "       [ -9.38598  , -14.654672 ,  19.625534 ],\n",
       "       [-10.454209 , -15.823077 ,  21.55841  ],\n",
       "       ...,\n",
       "       [ -8.537725 ,  -4.837833 ,  31.28254  ],\n",
       "       [ -7.811937 ,  -4.2815824,  30.380886 ],\n",
       "       [ -7.1350317,  -3.9159417,  29.39694  ]], dtype=float32)"
      ]
     },
     "execution_count": 9,
     "metadata": {},
     "output_type": "execute_result"
    }
   ],
   "source": [
    "train.T"
   ]
  },
  {
   "cell_type": "code",
   "execution_count": 10,
   "id": "92ee3a86-e33f-40fb-b000-0c3b38ee99f8",
   "metadata": {},
   "outputs": [],
   "source": [
    "import torch.nn.functional as F"
   ]
  },
  {
   "cell_type": "code",
   "execution_count": 11,
   "id": "91116d20-58ec-4027-9c75-965424c5fdd8",
   "metadata": {},
   "outputs": [],
   "source": [
    "l = nn.Linear(3, 300)"
   ]
  },
  {
   "cell_type": "code",
   "execution_count": 12,
   "id": "4c7ef6d9-7976-435b-8291-22047cadcfcc",
   "metadata": {},
   "outputs": [
    {
     "data": {
      "text/plain": [
       "tensor([ 0.2399,  0.1630, -0.2064, -0.2504, -0.6211, -0.0100, -0.2785,  0.5487,\n",
       "         0.4231, -0.0666,  0.1347, -0.5217, -0.2879,  0.4792,  0.4990,  0.0616,\n",
       "        -0.0222, -0.5687,  0.3787, -0.0304,  0.2008, -0.5992,  0.2598,  0.1771,\n",
       "         0.3574,  0.5211,  0.2215, -0.7270,  0.5737,  0.7249,  0.6424,  0.4828,\n",
       "        -0.2355, -0.1060,  0.3220,  0.8777, -0.3843, -0.5152, -0.5356, -0.6559,\n",
       "        -0.6998,  0.0286,  0.5810, -0.4653, -0.3102,  0.7824,  0.6723,  0.2205,\n",
       "         0.5439,  0.3180,  0.0308, -0.0113,  0.8906, -0.0967, -0.3539,  0.6093,\n",
       "         0.1040,  0.4707,  0.6002, -0.6631,  0.0592, -0.4144,  0.9223,  0.1886,\n",
       "        -0.2677, -0.0627, -0.2207, -0.4844,  0.0656,  0.2494,  0.7033, -0.3881,\n",
       "         0.5424,  0.4578,  0.6437,  0.0587,  0.8334, -0.7822,  0.7037,  0.0150,\n",
       "         0.2402,  0.7457, -0.1363, -0.4039, -0.5995,  0.1804, -0.1622, -0.3110,\n",
       "         0.6526, -0.1775, -0.0312, -0.6729,  0.3592, -0.4615, -0.2329, -0.6121,\n",
       "         0.0448, -0.3432,  0.3811,  0.6958, -0.5234, -0.5175,  0.7457,  0.4386,\n",
       "        -0.6869,  0.5728,  0.0197, -0.4081,  0.1141, -0.2686, -0.2434, -0.7454,\n",
       "         0.4597,  0.4822,  0.3690, -0.7730, -0.3511, -0.4160,  0.4561,  0.6143,\n",
       "         0.0914,  0.7126,  0.7953, -0.3380, -0.6992, -0.4675,  0.0032,  0.1391,\n",
       "         0.1365,  0.3050,  0.1403, -0.4824, -0.1349,  0.6258, -0.1319,  0.3537,\n",
       "         0.6145, -0.8056, -0.3534,  0.5264, -0.2589,  0.0544,  0.0344, -0.2746,\n",
       "         0.4223, -0.6944,  0.1482,  0.1486,  0.1192,  0.3939, -0.0780, -0.3109,\n",
       "         0.6775,  0.0291,  0.3262, -0.5568, -0.1741,  0.1597, -0.4798, -0.6612,\n",
       "         0.3594,  0.1010,  0.7904, -0.1382,  0.4949,  0.4324, -0.5233,  0.3368,\n",
       "        -0.1330, -0.0666,  0.1945,  0.5534, -0.1931,  0.1534,  0.6335, -0.3682,\n",
       "         0.4242, -0.3842,  0.5571, -0.0741, -0.1485, -0.3094,  0.0830, -0.3479,\n",
       "        -0.3691,  0.1129, -0.5487, -0.0426,  0.0869, -0.3496,  0.3910, -0.4867,\n",
       "         0.0809,  0.4240, -0.5080,  0.3120,  0.2098, -0.4619,  0.0740, -0.2838,\n",
       "        -0.3402,  0.2491, -0.2320,  0.6304,  0.3499, -0.9187, -0.0533,  0.4642,\n",
       "         0.6817,  0.0925, -0.3593,  0.7497, -0.7741, -0.0234,  0.4223,  0.6782,\n",
       "        -0.6696,  0.6177, -0.7557,  0.3116,  0.2153,  0.5998, -0.0249,  0.6462,\n",
       "        -0.3630, -0.2185, -0.0759,  0.5135, -0.8481,  0.4141,  0.7045,  0.3112,\n",
       "        -0.1907,  0.4293, -0.5311, -0.7125,  0.1027,  0.7222,  0.7712,  0.0515,\n",
       "        -0.1196, -0.2426, -0.6017, -0.6391,  0.2667,  0.1505, -0.6121,  0.1800,\n",
       "         0.5714,  0.7831, -0.0398,  0.1492, -0.3207, -0.0565, -0.3465,  0.6304,\n",
       "         0.0610, -0.1455,  0.0015, -0.6384,  0.3353, -0.7148,  0.3358, -0.4723,\n",
       "         0.6134,  0.4470, -0.3903,  0.7393, -0.2007, -0.2976,  0.5552,  0.5784,\n",
       "        -0.2472,  0.4349,  0.2587,  0.6393, -0.7453,  0.1526,  0.1767,  0.4142,\n",
       "         0.1820, -0.2094, -0.8571, -0.6174, -0.6286, -0.5857, -0.4714, -0.2489,\n",
       "         0.3259,  0.0691,  0.1220, -0.4563,  0.4308,  0.2571,  0.0168, -0.6684,\n",
       "         0.1942,  0.7497, -0.4063, -0.0698], grad_fn=<TanhBackward0>)"
      ]
     },
     "execution_count": 12,
     "metadata": {},
     "output_type": "execute_result"
    }
   ],
   "source": [
    "F.tanh(l(torch.rand(3)))"
   ]
  },
  {
   "cell_type": "code",
   "execution_count": 13,
   "id": "3b3957ee-2a72-49ea-a4b7-f2ab16907d46",
   "metadata": {},
   "outputs": [
    {
     "data": {
      "text/plain": [
       "<torch.utils.data.dataset.TensorDataset at 0x17b27ef90>"
      ]
     },
     "execution_count": 13,
     "metadata": {},
     "output_type": "execute_result"
    }
   ],
   "source": [
    "train_dataset"
   ]
  },
  {
   "cell_type": "code",
   "execution_count": 14,
   "id": "a57aa77a-ee35-4937-97ac-d7be5a54f3fc",
   "metadata": {},
   "outputs": [
    {
     "name": "stdout",
     "output_type": "stream",
     "text": [
      "tensor([[ 3.0424,  5.1353, 13.9958],\n",
      "        [ 3.4962,  5.9518, 13.6216],\n",
      "        [ 4.0290,  6.9134, 13.3851],\n",
      "        ...,\n",
      "        [14.0473, 11.6263, 36.7345],\n",
      "        [13.3525,  8.8866, 37.5703],\n",
      "        [12.2934,  6.2659, 37.5103]]) tensor([[ 3.4962,  5.9518, 13.6216],\n",
      "        [ 4.0290,  6.9134, 13.3851],\n",
      "        [ 4.6544,  8.0351, 13.3216],\n",
      "        ...,\n",
      "        [13.3525,  8.8866, 37.5703],\n",
      "        [12.2934,  6.2659, 37.5103],\n",
      "        [10.9839,  4.0252, 36.7231]])\n"
     ]
    }
   ],
   "source": [
    "for batch, (X, y) in enumerate(train_dataloader):\n",
    "    if batch == 1:\n",
    "        print(X, y)"
   ]
  },
  {
   "cell_type": "code",
   "execution_count": 15,
   "id": "480f8e73-923b-4cd0-8408-0d7d6b4f2fa2",
   "metadata": {},
   "outputs": [
    {
     "data": {
      "text/plain": [
       "tensor([[11.8769,  4.7864, 36.9993],\n",
       "        [10.4681,  2.6845, 36.1822],\n",
       "        [ 8.8928,  1.1093, 34.8442],\n",
       "        ...,\n",
       "        [-8.6995, -4.5736, 31.6629],\n",
       "        [-7.9137, -3.9886, 30.6766],\n",
       "        [-7.2174, -3.6321, 29.6445]], grad_fn=<MmBackward0>)"
      ]
     },
     "execution_count": 15,
     "metadata": {},
     "output_type": "execute_result"
    }
   ],
   "source": [
    "model.net(X)"
   ]
  },
  {
   "cell_type": "code",
   "execution_count": 16,
   "id": "76160fef-3389-428f-aafe-cae17358070c",
   "metadata": {},
   "outputs": [
    {
     "data": {
      "text/plain": [
       "tensor([[10.4681,  2.6845, 36.1822],\n",
       "        [ 8.8928,  1.1093, 34.8442],\n",
       "        [ 7.3334,  0.0953, 33.1316],\n",
       "        ...,\n",
       "        [-7.9137, -3.9886, 30.6766],\n",
       "        [-7.2174, -3.6321, 29.6445],\n",
       "        [-6.5901, -3.4648, 28.6045]], grad_fn=<MmBackward0>)"
      ]
     },
     "execution_count": 16,
     "metadata": {},
     "output_type": "execute_result"
    }
   ],
   "source": [
    "model.net(y)"
   ]
  },
  {
   "cell_type": "code",
   "execution_count": 17,
   "id": "da6967bd-71b3-4b91-a8e3-1412b1aaffd6",
   "metadata": {},
   "outputs": [
    {
     "data": {
      "text/plain": [
       "tensor(0.2795, grad_fn=<MseLossBackward0>)"
      ]
     },
     "execution_count": 17,
     "metadata": {},
     "output_type": "execute_result"
    }
   ],
   "source": [
    "nn.MSELoss()(model.net(X), y)"
   ]
  },
  {
   "cell_type": "code",
   "execution_count": 18,
   "id": "a9d36cae-f9c4-424e-87b2-e282a401534c",
   "metadata": {},
   "outputs": [
    {
     "data": {
      "text/plain": [
       "tensor(0.5891, grad_fn=<MeanBackward0>)"
      ]
     },
     "execution_count": 18,
     "metadata": {},
     "output_type": "execute_result"
    }
   ],
   "source": [
    "torch.mean(torch.sum((model.net(X)-y)**2, axis=1)**0.5)"
   ]
  },
  {
   "cell_type": "code",
   "execution_count": 19,
   "id": "0a7ddf88-9a27-4d06-9396-22e956ee53d6",
   "metadata": {},
   "outputs": [
    {
     "data": {
      "text/plain": [
       "58956.6961"
      ]
     },
     "execution_count": 19,
     "metadata": {},
     "output_type": "execute_result"
    }
   ],
   "source": [
    "242.81**2"
   ]
  },
  {
   "cell_type": "code",
   "execution_count": 20,
   "id": "201a0ab5-610b-4c69-aec7-60ee25e3f25b",
   "metadata": {},
   "outputs": [
    {
     "ename": "NameError",
     "evalue": "name 'attrs' is not defined",
     "output_type": "error",
     "traceback": [
      "\u001b[0;31m---------------------------------------------------------------------------\u001b[0m",
      "\u001b[0;31mNameError\u001b[0m                                 Traceback (most recent call last)",
      "Cell \u001b[0;32mIn[20], line 1\u001b[0m\n\u001b[0;32m----> 1\u001b[0m \u001b[43mattrs\u001b[49m(model\u001b[38;5;241m.\u001b[39mnet\u001b[38;5;241m.\u001b[39mW)\n",
      "\u001b[0;31mNameError\u001b[0m: name 'attrs' is not defined"
     ]
    }
   ],
   "source": [
    "attrs(model.net.W)"
   ]
  },
  {
   "cell_type": "code",
   "execution_count": null,
   "id": "b76d0ffe-6f36-4669-a5ea-08c4352dc5b0",
   "metadata": {},
   "outputs": [],
   "source": [
    "seq = nn.Sequential(nn.Linear(3, 300, bias=True), nn.Tanh(), nn.Linear(300, 3, bias=False))"
   ]
  },
  {
   "cell_type": "code",
   "execution_count": null,
   "id": "887a7bf7-610a-4160-b4ef-bfdb8dc07517",
   "metadata": {},
   "outputs": [],
   "source": [
    "for name, param in seq.named_parameters():\n",
    "    if param.requires_grad:\n",
    "        print(name, param.data)"
   ]
  },
  {
   "cell_type": "code",
   "execution_count": null,
   "id": "d3badfeb-a1d3-4495-9265-746969fad9af",
   "metadata": {},
   "outputs": [],
   "source": [
    "torch.sum(seq.state_dict()['2.weight']**2)"
   ]
  },
  {
   "cell_type": "code",
   "execution_count": null,
   "id": "8c79f068-8b41-4a20-8952-f3a3e1b908e9",
   "metadata": {},
   "outputs": [],
   "source": [
    "fig, N, dt = plt.figure(figsize=(8, 8)), 500, 0.02\n",
    "t = np.arange(0., N*dt, dt) / (1/0.91)\n",
    "axs = [fig.add_subplot(311), fig.add_subplot(312), fig.add_subplot(313)]\n",
    "dims = ['x', 'y', 'z']\n",
    "u = np.load('{}/validation.npy'.format(L63_data_path)).astype(np.float32)\n",
    "u = train\n",
    "idx = [[4, 14, 18], [13, 17, 46], [13, 2, 31], ]\n",
    "labels = ['good', 'medium', 'bad']\n",
    "predicted = model.multistep_forecast(u[:, 0], N)\n",
    "for i, ax in enumerate(axs):\n",
    "    ax.plot(t, u[i, :N], label='truth')\n",
    "    ax.plot(t, predicted[i, :N], label='network')\n",
    "    ax.legend(loc='upper right')\n",
    "    if i == len(dims)-1:\n",
    "        ax.set_xlabel('t')\n",
    "    ax.set_ylabel(dims[i])"
   ]
  },
  {
   "cell_type": "code",
   "execution_count": null,
   "id": "d8cd8878-8d51-489e-921b-1ff1b696f2e6",
   "metadata": {},
   "outputs": [],
   "source": [
    "train.shape"
   ]
  },
  {
   "cell_type": "code",
   "execution_count": null,
   "id": "c016f1db-021a-4562-85f0-fa415d98aed8",
   "metadata": {},
   "outputs": [],
   "source": [
    "model = srnn.SurrogateModel_NN_multi(3, 50)\n",
    "model.learn(train, epochs=10000, learning_rate=1e-3)"
   ]
  },
  {
   "cell_type": "code",
   "execution_count": null,
   "id": "99b041b5-80a3-4061-87b0-22e08798117d",
   "metadata": {},
   "outputs": [],
   "source": [
    "fig, N, dt = plt.figure(figsize=(8, 8)), 500, 0.02\n",
    "t = np.arange(0., N*dt, dt) / (1/0.91)\n",
    "axs = [fig.add_subplot(311), fig.add_subplot(312), fig.add_subplot(313)]\n",
    "dims = ['x', 'y', 'z']\n",
    "u = np.load('{}/validation.npy'.format(L63_data_path)).astype(np.float32)\n",
    "u = train\n",
    "idx = [[4, 14, 18], [13, 17, 46], [13, 2, 31], ]\n",
    "labels = ['good', 'medium', 'bad']\n",
    "predicted = model.multistep_forecast(u[:, 0], N)\n",
    "for i, ax in enumerate(axs):\n",
    "    ax.plot(t, u[i, :N], label='truth')\n",
    "    ax.plot(t, predicted[i, :N], label='network')\n",
    "    ax.legend(loc='upper right')\n",
    "    if i == len(dims)-1:\n",
    "        ax.set_xlabel('t')\n",
    "    ax.set_ylabel(dims[i])"
   ]
  },
  {
   "cell_type": "code",
   "execution_count": null,
   "id": "b9d4f7a4-a77f-457c-a366-7d20ade0c22a",
   "metadata": {},
   "outputs": [],
   "source": [
    "new_model = srnn.SurrogateModel_NN(3, 300, name='test_model', save_folder='../data/test/test_model')\n",
    "new_model.net = torch.load(model.save_folder+f'/{model.name}_900')"
   ]
  },
  {
   "cell_type": "code",
   "execution_count": null,
   "id": "25820c98-e7ea-4d25-b014-05852324dca4",
   "metadata": {},
   "outputs": [],
   "source": [
    "torch.load(model.save_folder+f'/{model.name}_900')(X) - new_model.net(X)"
   ]
  },
  {
   "cell_type": "code",
   "execution_count": null,
   "id": "99676cf0-5b3a-4570-b485-6c694352756e",
   "metadata": {},
   "outputs": [],
   "source": []
  }
 ],
 "metadata": {
  "kernelspec": {
   "display_name": "Python 3 (ipykernel)",
   "language": "python",
   "name": "python3"
  },
  "language_info": {
   "codemirror_mode": {
    "name": "ipython",
    "version": 3
   },
   "file_extension": ".py",
   "mimetype": "text/x-python",
   "name": "python",
   "nbconvert_exporter": "python",
   "pygments_lexer": "ipython3",
   "version": "3.11.5"
  }
 },
 "nbformat": 4,
 "nbformat_minor": 5
}
