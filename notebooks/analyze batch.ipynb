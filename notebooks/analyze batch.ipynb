{
 "cells": [
  {
   "cell_type": "markdown",
   "id": "5821fb5a-5162-418f-a7e3-72e55b891e07",
   "metadata": {},
   "source": [
    "**Load necessary modules**"
   ]
  },
  {
   "cell_type": "code",
   "execution_count": 1,
   "id": "6e210a05-8e49-421a-81c4-69d0d3da7e58",
   "metadata": {},
   "outputs": [],
   "source": [
    "import numpy as np \n",
    "from scipy.integrate import odeint\n",
    "import os, sys \n",
    "from pathlib import Path\n",
    "from os.path import dirname, realpath\n",
    "script_dir = Path(dirname(realpath('.')))\n",
    "module_dir = str(script_dir)\n",
    "sys.path.insert(0, module_dir + '/modules')\n",
    "import utility as ut\n",
    "import surrogate as sr\n",
    "import matplotlib.pyplot as plt"
   ]
  },
  {
   "cell_type": "code",
   "execution_count": 2,
   "id": "8587fd90-3e7a-49d6-83d8-d15b0e26bccd",
   "metadata": {},
   "outputs": [
    {
     "name": "stdout",
     "output_type": "stream",
     "text": [
      "Time taken by get_idx is 0.018655061721801758 seconds\n"
     ]
    }
   ],
   "source": [
    "anb = sr.BatchRunAnalyzer(save_folder='../data/L63-SMLR-0')"
   ]
  },
  {
   "cell_type": "code",
   "execution_count": 3,
   "id": "3d2d5537-47b3-4fac-a849-26fef1910627",
   "metadata": {},
   "outputs": [
    {
     "name": "stdout",
     "output_type": "stream",
     "text": [
      "Time taken by count_zero_W is 19.428448915481567 seconds\n"
     ]
    }
   ],
   "source": [
    "zr, zc = anb.count_zero_W(bins=1000)"
   ]
  },
  {
   "cell_type": "code",
   "execution_count": 4,
   "id": "1ca351e1-18dd-4f61-a6b1-c55fe2c3019e",
   "metadata": {},
   "outputs": [
    {
     "data": {
      "text/plain": [
       "(array([4.966e+03, 1.489e+03, 0.000e+00, 8.380e+02, 0.000e+00, 5.390e+02,\n",
       "        3.480e+02, 0.000e+00, 2.030e+02, 0.000e+00, 1.540e+02, 1.140e+02,\n",
       "        0.000e+00, 8.600e+01, 0.000e+00, 5.100e+01, 4.800e+01, 0.000e+00,\n",
       "        4.200e+01, 0.000e+00, 1.900e+01, 2.300e+01, 0.000e+00, 2.000e+01,\n",
       "        0.000e+00, 6.000e+00, 9.000e+00, 0.000e+00, 5.000e+00, 0.000e+00,\n",
       "        4.000e+00, 6.000e+00, 0.000e+00, 0.000e+00, 0.000e+00, 2.000e+00,\n",
       "        3.000e+00, 0.000e+00, 2.000e+00, 0.000e+00, 3.000e+00, 3.000e+00,\n",
       "        0.000e+00, 1.000e+00, 0.000e+00, 1.000e+00, 1.000e+00, 0.000e+00,\n",
       "        0.000e+00, 0.000e+00, 0.000e+00, 1.000e+00, 0.000e+00, 1.000e+00,\n",
       "        0.000e+00, 1.000e+00, 0.000e+00, 0.000e+00, 0.000e+00, 0.000e+00,\n",
       "        0.000e+00, 0.000e+00, 0.000e+00, 0.000e+00, 0.000e+00, 0.000e+00,\n",
       "        0.000e+00, 0.000e+00, 0.000e+00, 0.000e+00, 1.000e+00, 0.000e+00,\n",
       "        0.000e+00, 0.000e+00, 0.000e+00, 0.000e+00, 0.000e+00, 0.000e+00,\n",
       "        0.000e+00, 0.000e+00, 0.000e+00, 0.000e+00, 0.000e+00, 0.000e+00,\n",
       "        0.000e+00, 0.000e+00, 0.000e+00, 0.000e+00, 0.000e+00, 0.000e+00,\n",
       "        0.000e+00, 0.000e+00, 0.000e+00, 0.000e+00, 0.000e+00, 0.000e+00,\n",
       "        0.000e+00, 0.000e+00, 0.000e+00, 0.000e+00, 0.000e+00, 0.000e+00,\n",
       "        0.000e+00, 0.000e+00, 0.000e+00, 0.000e+00, 0.000e+00, 0.000e+00,\n",
       "        0.000e+00, 0.000e+00, 0.000e+00, 0.000e+00, 0.000e+00, 0.000e+00,\n",
       "        0.000e+00, 0.000e+00, 0.000e+00, 0.000e+00, 0.000e+00, 0.000e+00,\n",
       "        0.000e+00, 0.000e+00, 0.000e+00, 0.000e+00, 0.000e+00, 0.000e+00,\n",
       "        0.000e+00, 0.000e+00, 0.000e+00, 0.000e+00, 0.000e+00, 0.000e+00,\n",
       "        0.000e+00, 0.000e+00, 0.000e+00, 0.000e+00, 0.000e+00, 0.000e+00,\n",
       "        0.000e+00, 0.000e+00, 0.000e+00, 0.000e+00, 0.000e+00, 0.000e+00,\n",
       "        0.000e+00, 0.000e+00, 0.000e+00, 0.000e+00, 0.000e+00, 0.000e+00,\n",
       "        0.000e+00, 0.000e+00, 0.000e+00, 0.000e+00, 0.000e+00, 0.000e+00,\n",
       "        0.000e+00, 0.000e+00, 0.000e+00, 0.000e+00, 0.000e+00, 0.000e+00,\n",
       "        0.000e+00, 0.000e+00, 0.000e+00, 0.000e+00, 0.000e+00, 0.000e+00,\n",
       "        0.000e+00, 0.000e+00, 0.000e+00, 0.000e+00, 0.000e+00, 0.000e+00,\n",
       "        0.000e+00, 0.000e+00, 0.000e+00, 0.000e+00, 0.000e+00, 0.000e+00,\n",
       "        0.000e+00, 0.000e+00, 0.000e+00, 0.000e+00, 0.000e+00, 0.000e+00,\n",
       "        0.000e+00, 0.000e+00, 0.000e+00, 0.000e+00, 0.000e+00, 0.000e+00,\n",
       "        0.000e+00, 0.000e+00, 0.000e+00, 0.000e+00, 0.000e+00, 0.000e+00,\n",
       "        0.000e+00, 0.000e+00, 0.000e+00, 0.000e+00, 0.000e+00, 0.000e+00,\n",
       "        0.000e+00, 0.000e+00, 0.000e+00, 0.000e+00, 0.000e+00, 0.000e+00,\n",
       "        0.000e+00, 0.000e+00, 0.000e+00, 0.000e+00, 0.000e+00, 0.000e+00,\n",
       "        0.000e+00, 0.000e+00, 0.000e+00, 0.000e+00, 0.000e+00, 0.000e+00,\n",
       "        0.000e+00, 0.000e+00, 0.000e+00, 0.000e+00, 0.000e+00, 0.000e+00,\n",
       "        0.000e+00, 0.000e+00, 0.000e+00, 0.000e+00, 0.000e+00, 0.000e+00,\n",
       "        0.000e+00, 0.000e+00, 0.000e+00, 0.000e+00, 0.000e+00, 0.000e+00,\n",
       "        0.000e+00, 0.000e+00, 0.000e+00, 0.000e+00, 0.000e+00, 0.000e+00,\n",
       "        0.000e+00, 0.000e+00, 0.000e+00, 0.000e+00, 0.000e+00, 0.000e+00,\n",
       "        0.000e+00, 0.000e+00, 0.000e+00, 0.000e+00, 0.000e+00, 0.000e+00,\n",
       "        0.000e+00, 0.000e+00, 0.000e+00, 0.000e+00, 0.000e+00, 0.000e+00,\n",
       "        0.000e+00, 0.000e+00, 0.000e+00, 0.000e+00, 0.000e+00, 0.000e+00,\n",
       "        0.000e+00, 0.000e+00, 0.000e+00, 0.000e+00, 0.000e+00, 0.000e+00,\n",
       "        0.000e+00, 0.000e+00, 0.000e+00, 0.000e+00, 0.000e+00, 0.000e+00,\n",
       "        0.000e+00, 0.000e+00, 0.000e+00, 0.000e+00, 0.000e+00, 0.000e+00,\n",
       "        0.000e+00, 0.000e+00, 0.000e+00, 0.000e+00, 0.000e+00, 0.000e+00,\n",
       "        0.000e+00, 0.000e+00, 0.000e+00, 0.000e+00, 0.000e+00, 0.000e+00,\n",
       "        0.000e+00, 0.000e+00, 0.000e+00, 0.000e+00, 0.000e+00, 0.000e+00,\n",
       "        0.000e+00, 0.000e+00, 0.000e+00, 0.000e+00, 0.000e+00, 0.000e+00,\n",
       "        0.000e+00, 0.000e+00, 0.000e+00, 0.000e+00, 0.000e+00, 0.000e+00,\n",
       "        0.000e+00, 0.000e+00, 0.000e+00, 0.000e+00, 0.000e+00, 0.000e+00,\n",
       "        0.000e+00, 0.000e+00, 0.000e+00, 0.000e+00, 0.000e+00, 0.000e+00,\n",
       "        0.000e+00, 0.000e+00, 0.000e+00, 0.000e+00, 0.000e+00, 0.000e+00,\n",
       "        0.000e+00, 0.000e+00, 0.000e+00, 0.000e+00, 0.000e+00, 0.000e+00,\n",
       "        0.000e+00, 0.000e+00, 0.000e+00, 0.000e+00, 0.000e+00, 0.000e+00,\n",
       "        0.000e+00, 0.000e+00, 0.000e+00, 0.000e+00, 0.000e+00, 0.000e+00,\n",
       "        0.000e+00, 0.000e+00, 0.000e+00, 0.000e+00, 0.000e+00, 0.000e+00,\n",
       "        0.000e+00, 0.000e+00, 0.000e+00, 0.000e+00, 0.000e+00, 0.000e+00,\n",
       "        0.000e+00, 0.000e+00, 0.000e+00, 0.000e+00, 0.000e+00, 0.000e+00,\n",
       "        0.000e+00, 0.000e+00, 0.000e+00, 0.000e+00, 0.000e+00, 0.000e+00,\n",
       "        0.000e+00, 0.000e+00, 0.000e+00, 0.000e+00, 0.000e+00, 0.000e+00,\n",
       "        0.000e+00, 0.000e+00, 0.000e+00, 0.000e+00, 0.000e+00, 0.000e+00,\n",
       "        0.000e+00, 0.000e+00, 0.000e+00, 0.000e+00, 0.000e+00, 0.000e+00,\n",
       "        0.000e+00, 0.000e+00, 0.000e+00, 0.000e+00, 0.000e+00, 0.000e+00,\n",
       "        0.000e+00, 0.000e+00, 0.000e+00, 0.000e+00, 0.000e+00, 0.000e+00,\n",
       "        0.000e+00, 0.000e+00, 0.000e+00, 0.000e+00, 0.000e+00, 0.000e+00,\n",
       "        0.000e+00, 0.000e+00, 0.000e+00, 0.000e+00, 0.000e+00, 0.000e+00,\n",
       "        0.000e+00, 0.000e+00, 0.000e+00, 0.000e+00, 0.000e+00, 0.000e+00,\n",
       "        0.000e+00, 0.000e+00, 0.000e+00, 0.000e+00, 0.000e+00, 0.000e+00,\n",
       "        0.000e+00, 0.000e+00, 0.000e+00, 0.000e+00, 0.000e+00, 0.000e+00,\n",
       "        0.000e+00, 0.000e+00, 0.000e+00, 0.000e+00, 0.000e+00, 0.000e+00,\n",
       "        0.000e+00, 0.000e+00, 0.000e+00, 0.000e+00, 0.000e+00, 0.000e+00,\n",
       "        0.000e+00, 0.000e+00, 0.000e+00, 0.000e+00, 0.000e+00, 0.000e+00,\n",
       "        0.000e+00, 0.000e+00, 0.000e+00, 0.000e+00, 0.000e+00, 0.000e+00,\n",
       "        0.000e+00, 0.000e+00, 0.000e+00, 0.000e+00, 0.000e+00, 0.000e+00,\n",
       "        0.000e+00, 0.000e+00, 0.000e+00, 0.000e+00, 0.000e+00, 0.000e+00,\n",
       "        0.000e+00, 0.000e+00, 0.000e+00, 0.000e+00, 0.000e+00, 0.000e+00,\n",
       "        0.000e+00, 0.000e+00, 0.000e+00, 0.000e+00, 0.000e+00, 0.000e+00,\n",
       "        0.000e+00, 0.000e+00, 0.000e+00, 0.000e+00, 0.000e+00, 0.000e+00,\n",
       "        0.000e+00, 0.000e+00, 0.000e+00, 0.000e+00, 0.000e+00, 0.000e+00,\n",
       "        0.000e+00, 1.000e+01]),\n",
       " array([  0. ,   0.6,   1.2,   1.8,   2.4,   3. ,   3.6,   4.2,   4.8,\n",
       "          5.4,   6. ,   6.6,   7.2,   7.8,   8.4,   9. ,   9.6,  10.2,\n",
       "         10.8,  11.4,  12. ,  12.6,  13.2,  13.8,  14.4,  15. ,  15.6,\n",
       "         16.2,  16.8,  17.4,  18. ,  18.6,  19.2,  19.8,  20.4,  21. ,\n",
       "         21.6,  22.2,  22.8,  23.4,  24. ,  24.6,  25.2,  25.8,  26.4,\n",
       "         27. ,  27.6,  28.2,  28.8,  29.4,  30. ,  30.6,  31.2,  31.8,\n",
       "         32.4,  33. ,  33.6,  34.2,  34.8,  35.4,  36. ,  36.6,  37.2,\n",
       "         37.8,  38.4,  39. ,  39.6,  40.2,  40.8,  41.4,  42. ,  42.6,\n",
       "         43.2,  43.8,  44.4,  45. ,  45.6,  46.2,  46.8,  47.4,  48. ,\n",
       "         48.6,  49.2,  49.8,  50.4,  51. ,  51.6,  52.2,  52.8,  53.4,\n",
       "         54. ,  54.6,  55.2,  55.8,  56.4,  57. ,  57.6,  58.2,  58.8,\n",
       "         59.4,  60. ,  60.6,  61.2,  61.8,  62.4,  63. ,  63.6,  64.2,\n",
       "         64.8,  65.4,  66. ,  66.6,  67.2,  67.8,  68.4,  69. ,  69.6,\n",
       "         70.2,  70.8,  71.4,  72. ,  72.6,  73.2,  73.8,  74.4,  75. ,\n",
       "         75.6,  76.2,  76.8,  77.4,  78. ,  78.6,  79.2,  79.8,  80.4,\n",
       "         81. ,  81.6,  82.2,  82.8,  83.4,  84. ,  84.6,  85.2,  85.8,\n",
       "         86.4,  87. ,  87.6,  88.2,  88.8,  89.4,  90. ,  90.6,  91.2,\n",
       "         91.8,  92.4,  93. ,  93.6,  94.2,  94.8,  95.4,  96. ,  96.6,\n",
       "         97.2,  97.8,  98.4,  99. ,  99.6, 100.2, 100.8, 101.4, 102. ,\n",
       "        102.6, 103.2, 103.8, 104.4, 105. , 105.6, 106.2, 106.8, 107.4,\n",
       "        108. , 108.6, 109.2, 109.8, 110.4, 111. , 111.6, 112.2, 112.8,\n",
       "        113.4, 114. , 114.6, 115.2, 115.8, 116.4, 117. , 117.6, 118.2,\n",
       "        118.8, 119.4, 120. , 120.6, 121.2, 121.8, 122.4, 123. , 123.6,\n",
       "        124.2, 124.8, 125.4, 126. , 126.6, 127.2, 127.8, 128.4, 129. ,\n",
       "        129.6, 130.2, 130.8, 131.4, 132. , 132.6, 133.2, 133.8, 134.4,\n",
       "        135. , 135.6, 136.2, 136.8, 137.4, 138. , 138.6, 139.2, 139.8,\n",
       "        140.4, 141. , 141.6, 142.2, 142.8, 143.4, 144. , 144.6, 145.2,\n",
       "        145.8, 146.4, 147. , 147.6, 148.2, 148.8, 149.4, 150. , 150.6,\n",
       "        151.2, 151.8, 152.4, 153. , 153.6, 154.2, 154.8, 155.4, 156. ,\n",
       "        156.6, 157.2, 157.8, 158.4, 159. , 159.6, 160.2, 160.8, 161.4,\n",
       "        162. , 162.6, 163.2, 163.8, 164.4, 165. , 165.6, 166.2, 166.8,\n",
       "        167.4, 168. , 168.6, 169.2, 169.8, 170.4, 171. , 171.6, 172.2,\n",
       "        172.8, 173.4, 174. , 174.6, 175.2, 175.8, 176.4, 177. , 177.6,\n",
       "        178.2, 178.8, 179.4, 180. , 180.6, 181.2, 181.8, 182.4, 183. ,\n",
       "        183.6, 184.2, 184.8, 185.4, 186. , 186.6, 187.2, 187.8, 188.4,\n",
       "        189. , 189.6, 190.2, 190.8, 191.4, 192. , 192.6, 193.2, 193.8,\n",
       "        194.4, 195. , 195.6, 196.2, 196.8, 197.4, 198. , 198.6, 199.2,\n",
       "        199.8, 200.4, 201. , 201.6, 202.2, 202.8, 203.4, 204. , 204.6,\n",
       "        205.2, 205.8, 206.4, 207. , 207.6, 208.2, 208.8, 209.4, 210. ,\n",
       "        210.6, 211.2, 211.8, 212.4, 213. , 213.6, 214.2, 214.8, 215.4,\n",
       "        216. , 216.6, 217.2, 217.8, 218.4, 219. , 219.6, 220.2, 220.8,\n",
       "        221.4, 222. , 222.6, 223.2, 223.8, 224.4, 225. , 225.6, 226.2,\n",
       "        226.8, 227.4, 228. , 228.6, 229.2, 229.8, 230.4, 231. , 231.6,\n",
       "        232.2, 232.8, 233.4, 234. , 234.6, 235.2, 235.8, 236.4, 237. ,\n",
       "        237.6, 238.2, 238.8, 239.4, 240. , 240.6, 241.2, 241.8, 242.4,\n",
       "        243. , 243.6, 244.2, 244.8, 245.4, 246. , 246.6, 247.2, 247.8,\n",
       "        248.4, 249. , 249.6, 250.2, 250.8, 251.4, 252. , 252.6, 253.2,\n",
       "        253.8, 254.4, 255. , 255.6, 256.2, 256.8, 257.4, 258. , 258.6,\n",
       "        259.2, 259.8, 260.4, 261. , 261.6, 262.2, 262.8, 263.4, 264. ,\n",
       "        264.6, 265.2, 265.8, 266.4, 267. , 267.6, 268.2, 268.8, 269.4,\n",
       "        270. , 270.6, 271.2, 271.8, 272.4, 273. , 273.6, 274.2, 274.8,\n",
       "        275.4, 276. , 276.6, 277.2, 277.8, 278.4, 279. , 279.6, 280.2,\n",
       "        280.8, 281.4, 282. , 282.6, 283.2, 283.8, 284.4, 285. , 285.6,\n",
       "        286.2, 286.8, 287.4, 288. , 288.6, 289.2, 289.8, 290.4, 291. ,\n",
       "        291.6, 292.2, 292.8, 293.4, 294. , 294.6, 295.2, 295.8, 296.4,\n",
       "        297. , 297.6, 298.2, 298.8, 299.4, 300. ]),\n",
       " <BarContainer object of 500 artists>)"
      ]
     },
     "execution_count": 4,
     "metadata": {},
     "output_type": "execute_result"
    },
    {
     "data": {
      "image/png": "[encoded data removed]",
      "text/plain": [
       "<Figure size 640x480 with 1 Axes>"
      ]
     },
     "metadata": {},
     "output_type": "display_data"
    }
   ],
   "source": [
    "plt.hist(zc.flatten(), bins=500)"
   ]
  },
  {
   "cell_type": "code",
   "execution_count": 7,
   "id": "ff017605-e81b-45bc-a3a1-7c8206cec8fe",
   "metadata": {},
   "outputs": [
    {
     "data": {
      "text/plain": [
       "array([[[300., 300., 300., ..., 300., 300., 300.],\n",
       "        [300., 300., 300., ..., 300., 300., 300.],\n",
       "        [300., 300., 300., ..., 300., 300., 300.],\n",
       "        ...,\n",
       "        [300., 300., 300., ..., 300., 300., 300.],\n",
       "        [300., 300., 300., ..., 300., 300., 300.],\n",
       "        [300., 300., 300., ..., 300., 300., 300.]],\n",
       "\n",
       "       [[300., 300., 300., ..., 300., 300., 300.],\n",
       "        [300., 300., 300., ..., 300., 300., 300.],\n",
       "        [300., 300., 300., ..., 300., 300., 300.],\n",
       "        ...,\n",
       "        [300., 300., 300., ..., 300., 300., 300.],\n",
       "        [300., 300., 300., ..., 300., 300., 300.],\n",
       "        [300., 300., 300., ..., 300., 300., 300.]],\n",
       "\n",
       "       [[300., 300., 300., ..., 300., 300., 300.],\n",
       "        [300., 300., 300., ..., 300., 300., 300.],\n",
       "        [300., 300., 300., ..., 300., 300., 300.],\n",
       "        ...,\n",
       "        [300., 300., 300., ..., 300., 300., 300.],\n",
       "        [300., 300., 300., ..., 300., 300., 300.],\n",
       "        [300., 300., 300., ..., 300., 300., 300.]],\n",
       "\n",
       "       ...,\n",
       "\n",
       "       [[300., 300., 300., ..., 300., 300., 300.],\n",
       "        [300., 300., 300., ..., 300., 300., 300.],\n",
       "        [300., 300., 300., ..., 300., 300., 300.],\n",
       "        ...,\n",
       "        [300., 300., 300., ..., 300., 300., 300.],\n",
       "        [300., 300., 300., ..., 300., 300., 300.],\n",
       "        [300., 300., 300., ..., 300., 300., 300.]],\n",
       "\n",
       "       [[300., 300., 300., ..., 300., 300., 300.],\n",
       "        [300., 300., 300., ..., 300., 300., 300.],\n",
       "        [300., 300., 300., ..., 300., 300., 300.],\n",
       "        ...,\n",
       "        [300., 300., 300., ..., 300., 300., 300.],\n",
       "        [300., 300., 300., ..., 300., 300., 300.],\n",
       "        [300., 300., 300., ..., 300., 300., 300.]],\n",
       "\n",
       "       [[300., 300., 300., ..., 300., 300., 300.],\n",
       "        [300., 300., 300., ..., 300., 300., 300.],\n",
       "        [300., 300., 300., ..., 300., 300., 300.],\n",
       "        ...,\n",
       "        [300., 300., 300., ..., 300., 300., 300.],\n",
       "        [300., 300., 300., ..., 300., 300., 300.],\n",
       "        [300., 300., 300., ..., 300., 300., 300.]]])"
      ]
     },
     "execution_count": 7,
     "metadata": {},
     "output_type": "execute_result"
    }
   ],
   "source": [
    "zc"
   ]
  },
  {
   "cell_type": "code",
   "execution_count": null,
   "id": "822ff9ca-44f8-4672-9e1b-8cd5a2484853",
   "metadata": {},
   "outputs": [],
   "source": []
  }
 ],
 "metadata": {
  "kernelspec": {
   "display_name": "Python 3 (ipykernel)",
   "language": "python",
   "name": "python3"
  },
  "language_info": {
   "codemirror_mode": {
    "name": "ipython",
    "version": 3
   },
   "file_extension": ".py",
   "mimetype": "text/x-python",
   "name": "python",
   "nbconvert_exporter": "python",
   "pygments_lexer": "ipython3",
   "version": "3.11.5"
  }
 },
 "nbformat": 4,
 "nbformat_minor": 5
}
