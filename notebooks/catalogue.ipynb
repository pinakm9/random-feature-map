{
 "cells": [
  {
   "cell_type": "code",
   "execution_count": 3,
   "id": "fa4622cb-b312-4ae8-9157-306124c5933a",
   "metadata": {},
   "outputs": [],
   "source": [
    "import numpy as np \n",
    "from scipy.integrate import odeint\n",
    "import os, sys \n",
    "from pathlib import Path\n",
    "from os.path import dirname, realpath\n",
    "script_dir = Path(dirname(realpath('.')))\n",
    "module_dir = str(script_dir)\n",
    "sys.path.insert(0, module_dir + '/modules')\n",
    "import utility as ut\n",
    "import surrogate1 as sr1\n",
    "import matplotlib.pyplot as plt\n",
    "import pandas as pd\n",
    "import warnings\n",
    "import glob\n",
    "# warnings.filterwarnings('ignore')"
   ]
  },
  {
   "cell_type": "markdown",
   "id": "57b7fb0c-7d85-45dd-b342-5649ad20ff42",
   "metadata": {},
   "source": [
    "**Delete csv files**"
   ]
  },
  {
   "cell_type": "code",
   "execution_count": 18,
   "id": "959b5c16-05ff-4ec8-b17a-e86cc1cf66fb",
   "metadata": {},
   "outputs": [
    {
     "name": "stdout",
     "output_type": "stream",
     "text": [
      "../random-feature-catalogue/RF_w_sampling/L63-varying-featuresize/32/ftle.npy\n",
      "../random-feature-catalogue/RF_w_sampling/L63-varying-featuresize/2048/ftle.npy\n",
      "../random-feature-catalogue/RF_w_sampling/L63-varying-featuresize/256/ftle.npy\n",
      "../random-feature-catalogue/RF_w_sampling/L63-varying-featuresize/16/ftle.npy\n",
      "../random-feature-catalogue/RF_w_sampling/L63-varying-featuresize/8/ftle.npy\n",
      "../random-feature-catalogue/RF_w_sampling/L63-varying-featuresize/128/ftle.npy\n",
      "../random-feature-catalogue/RF_w_sampling/L63-varying-featuresize/64/ftle.npy\n",
      "../random-feature-catalogue/RF_w_sampling/L63-varying-featuresize/4096/ftle.npy\n",
      "../random-feature-catalogue/RF_w_sampling/L63-varying-featuresize/4/ftle.npy\n",
      "../random-feature-catalogue/RF_w_sampling/L63-varying-featuresize/1024/ftle.npy\n",
      "../random-feature-catalogue/RF_w_sampling/L63-varying-featuresize/512/ftle.npy\n"
     ]
    }
   ],
   "source": [
    "dir = \"../random-feature-catalogue\"\n",
    "\n",
    "for csvpath in glob.glob(f'{dir}/**/ftle.npy',recursive=True):\n",
    "    print(csvpath)\n",
    "    os.remove(csvpath)"
   ]
  },
  {
   "cell_type": "code",
   "execution_count": 21,
   "id": "b5916619-dd8e-4f2a-b72b-fbf941d4d167",
   "metadata": {},
   "outputs": [
    {
     "data": {
      "text/plain": [
       "895"
      ]
     },
     "execution_count": 21,
     "metadata": {},
     "output_type": "execute_result"
    }
   ],
   "source": [
    "len(glob.glob(f'{dir}/**/*.png',recursive=True)) + len(glob.glob(f'{dir}/**/*.jpg',recursive=True))"
   ]
  },
  {
   "cell_type": "code",
   "execution_count": 8,
   "id": "acfd5bee-afd7-47a1-b37e-194ef29cb57f",
   "metadata": {},
   "outputs": [
    {
     "data": {
      "text/plain": [
       "['.DS_Store', 'NN', 'RF_w_sampling', 'RF_ wo_sampling']"
      ]
     },
     "execution_count": 8,
     "metadata": {},
     "output_type": "execute_result"
    }
   ],
   "source": [
    "os.listdir(dir)"
   ]
  },
  {
   "cell_type": "code",
   "execution_count": null,
   "id": "6594eed7-7c52-4ccb-a07c-0108034fa399",
   "metadata": {},
   "outputs": [],
   "source": []
  }
 ],
 "metadata": {
  "kernelspec": {
   "display_name": "Python 3 (ipykernel)",
   "language": "python",
   "name": "python3"
  },
  "language_info": {
   "codemirror_mode": {
    "name": "ipython",
    "version": 3
   },
   "file_extension": ".py",
   "mimetype": "text/x-python",
   "name": "python",
   "nbconvert_exporter": "python",
   "pygments_lexer": "ipython3",
   "version": "3.11.5"
  }
 },
 "nbformat": 4,
 "nbformat_minor": 5
}
