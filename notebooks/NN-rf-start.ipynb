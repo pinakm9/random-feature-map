{
 "cells": [
  {
   "cell_type": "code",
   "execution_count": 1,
   "id": "9f91fe87-e4cf-4d90-bf34-2e9dac62ef97",
   "metadata": {},
   "outputs": [],
   "source": [
    "import numpy as np \n",
    "from scipy.integrate import odeint\n",
    "import os, sys, warnings\n",
    "from pathlib import Path\n",
    "from os.path import dirname, realpath\n",
    "script_dir = Path(dirname(realpath('.')))\n",
    "module_dir = str(script_dir)\n",
    "sys.path.insert(0, module_dir + '/modules')\n",
    "import utility as ut\n",
    "import surrogate_nn as srnn\n",
    "import matplotlib.pyplot as plt\n",
    "import pandas as pd\n",
    "import torch\n",
    "import sample as sm\n",
    "from torch import nn\n",
    "from torch.optim import lr_scheduler\n",
    "from torch.utils.data import DataLoader, TensorDataset\n",
    "warnings.filterwarnings('ignore')"
   ]
  },
  {
   "cell_type": "code",
   "execution_count": 2,
   "id": "4b8fafbc-83f6-4c5d-8b8e-5bfa3e65dc14",
   "metadata": {},
   "outputs": [
    {
     "ename": "TypeError",
     "evalue": "SurrogateModel_NN.compute_tau_f() missing 2 required positional arguments: 'train' and 'test'",
     "output_type": "error",
     "traceback": [
      "\u001b[0;31m---------------------------------------------------------------------------\u001b[0m",
      "\u001b[0;31mTypeError\u001b[0m                                 Traceback (most recent call last)",
      "Cell \u001b[0;32mIn[2], line 20\u001b[0m\n\u001b[1;32m     18\u001b[0m model \u001b[38;5;241m=\u001b[39m srnn\u001b[38;5;241m.\u001b[39mSurrogateModel_NN(\u001b[38;5;241m3\u001b[39m, \u001b[38;5;241m300\u001b[39m, name\u001b[38;5;241m=\u001b[39m\u001b[38;5;124m'\u001b[39m\u001b[38;5;124mnn\u001b[39m\u001b[38;5;124m'\u001b[39m, save_folder\u001b[38;5;241m=\u001b[39msave_folder)\n\u001b[1;32m     19\u001b[0m model\u001b[38;5;241m.\u001b[39minit_with_rf(L0, L1, beta, train, partition\u001b[38;5;241m=\u001b[39m[\u001b[38;5;241m300\u001b[39m, \u001b[38;5;241m0\u001b[39m, \u001b[38;5;241m0\u001b[39m])\n\u001b[0;32m---> 20\u001b[0m tau_f_rmse, tau_f_se, rmse, se \u001b[38;5;241m=\u001b[39m \u001b[43mmodel\u001b[49m\u001b[38;5;241;43m.\u001b[39;49m\u001b[43mcompute_tau_f\u001b[49m\u001b[43m(\u001b[49m\u001b[43mtest\u001b[49m\u001b[43m[\u001b[49m\u001b[43m:\u001b[49m\u001b[38;5;241;43m100\u001b[39;49m\u001b[43m]\u001b[49m\u001b[43m,\u001b[49m\u001b[43m \u001b[49m\u001b[43merror_threshold\u001b[49m\u001b[38;5;241;43m=\u001b[39;49m\u001b[38;5;241;43m0.05\u001b[39;49m\u001b[43m)\u001b[49m\n\u001b[1;32m     21\u001b[0m tau_f_1 \u001b[38;5;241m=\u001b[39m tau_f_se\u001b[38;5;241m.\u001b[39mmean()\n\u001b[1;32m     22\u001b[0m model\u001b[38;5;241m.\u001b[39mlearn(train[:, :N], \u001b[38;5;241m5000\u001b[39m, \u001b[38;5;241m1e-4\u001b[39m, drop\u001b[38;5;241m=\u001b[39m\u001b[38;5;241m1.\u001b[39m, batch_size\u001b[38;5;241m=\u001b[39m\u001b[38;5;124m'\u001b[39m\u001b[38;5;124mGD\u001b[39m\u001b[38;5;124m'\u001b[39m, log_interval\u001b[38;5;241m=\u001b[39m\u001b[38;5;241m10\u001b[39m, save_interval\u001b[38;5;241m=\u001b[39m\u001b[38;5;241m10\u001b[39m)\n",
      "File \u001b[0;32m~/Documents/GitHub/random-feature-map/modules/utility.py:18\u001b[0m, in \u001b[0;36mtimer.<locals>.new_func\u001b[0;34m(*args, **kwargs)\u001b[0m\n\u001b[1;32m     16\u001b[0m \u001b[38;5;28;01mdef\u001b[39;00m \u001b[38;5;21mnew_func\u001b[39m(\u001b[38;5;241m*\u001b[39margs, \u001b[38;5;241m*\u001b[39m\u001b[38;5;241m*\u001b[39mkwargs):\n\u001b[1;32m     17\u001b[0m \tstart \u001b[38;5;241m=\u001b[39m time()\n\u001b[0;32m---> 18\u001b[0m \tval \u001b[38;5;241m=\u001b[39m \u001b[43mfunc\u001b[49m\u001b[43m(\u001b[49m\u001b[38;5;241;43m*\u001b[39;49m\u001b[43margs\u001b[49m\u001b[43m,\u001b[49m\u001b[38;5;241;43m*\u001b[39;49m\u001b[38;5;241;43m*\u001b[39;49m\u001b[43mkwargs\u001b[49m\u001b[43m)\u001b[49m\n\u001b[1;32m     19\u001b[0m \tend \u001b[38;5;241m=\u001b[39m time()\n\u001b[1;32m     20\u001b[0m \t\u001b[38;5;28mprint\u001b[39m(\u001b[38;5;124mf\u001b[39m\u001b[38;5;124m'\u001b[39m\u001b[38;5;124mTime taken by \u001b[39m\u001b[38;5;132;01m{\u001b[39;00mfunc\u001b[38;5;241m.\u001b[39m\u001b[38;5;18m__name__\u001b[39m\u001b[38;5;132;01m}\u001b[39;00m\u001b[38;5;124m is \u001b[39m\u001b[38;5;132;01m{\u001b[39;00mend\u001b[38;5;241m-\u001b[39mstart\u001b[38;5;132;01m:\u001b[39;00m\u001b[38;5;124m.4f\u001b[39m\u001b[38;5;132;01m}\u001b[39;00m\u001b[38;5;124m seconds\u001b[39m\u001b[38;5;124m'\u001b[39m)\n",
      "\u001b[0;31mTypeError\u001b[0m: SurrogateModel_NN.compute_tau_f() missing 2 required positional arguments: 'train' and 'test'"
     ]
    }
   ],
   "source": [
    "DTYPE = 'float64'\n",
    "L63_data_path = '../data/L63-trajectories'\n",
    "save_folder='../data/rf-start-aggresive'\n",
    "log_interval = 100\n",
    "milestones = [10*2**n for n in range(15)]\n",
    "learning_rate = 1e-3\n",
    "drop = 0.7\n",
    "steps = int(1e4)\n",
    "save_interval = 100\n",
    "N = 20000\n",
    "L0 = 0.4\n",
    "L1 = 3.5\n",
    "beta = 4e-5\n",
    "\n",
    "train = np.load(f'{L63_data_path}/train.npy').astype(DTYPE)\n",
    "test = np.load(f'{L63_data_path}/test.npy')[:, :, :1000].astype(DTYPE)\n",
    "\n",
    "model = srnn.SurrogateModel_NN(3, 300, name='nn', save_folder=save_folder)\n",
    "model.init_with_rf(L0, L1, beta, train, partition=[300, 0, 0])\n",
    "tau_f_rmse, tau_f_se, rmse, se = model.compute_tau_f(test[:100], error_threshold=0.05)\n",
    "tau_f_1 = tau_f_se.mean()\n",
    "model.learn(train[:, :N], 5000, 1e-4, drop=1., batch_size='GD', log_interval=10, save_interval=10)\n",
    "tau_f_rmse, tau_f_se, rmse, se = model.compute_tau_f(test[:100], error_threshold=0.05)\n",
    "tau_f_2 = tau_f_se.mean()\n",
    "\n",
    "tau_f_1 , tau_f_2, tau_f_1 < tau_f_2\n",
    "model.count_row_types(L0, L1, train.T)"
   ]
  },
  {
   "cell_type": "code",
   "execution_count": 3,
   "id": "ce187ac8-a1f1-480b-bae0-3e16ff18d25f",
   "metadata": {},
   "outputs": [
    {
     "ename": "KeyError",
     "evalue": "'good_rows_W_in'",
     "output_type": "error",
     "traceback": [
      "\u001b[0;31m---------------------------------------------------------------------------\u001b[0m",
      "\u001b[0;31mKeyError\u001b[0m                                  Traceback (most recent call last)",
      "File \u001b[0;32m~/miniconda3/envs/metal/lib/python3.11/site-packages/pandas/core/indexes/base.py:3790\u001b[0m, in \u001b[0;36mIndex.get_loc\u001b[0;34m(self, key)\u001b[0m\n\u001b[1;32m   3789\u001b[0m \u001b[38;5;28;01mtry\u001b[39;00m:\n\u001b[0;32m-> 3790\u001b[0m     \u001b[38;5;28;01mreturn\u001b[39;00m \u001b[38;5;28;43mself\u001b[39;49m\u001b[38;5;241;43m.\u001b[39;49m\u001b[43m_engine\u001b[49m\u001b[38;5;241;43m.\u001b[39;49m\u001b[43mget_loc\u001b[49m\u001b[43m(\u001b[49m\u001b[43mcasted_key\u001b[49m\u001b[43m)\u001b[49m\n\u001b[1;32m   3791\u001b[0m \u001b[38;5;28;01mexcept\u001b[39;00m \u001b[38;5;167;01mKeyError\u001b[39;00m \u001b[38;5;28;01mas\u001b[39;00m err:\n",
      "File \u001b[0;32mindex.pyx:152\u001b[0m, in \u001b[0;36mpandas._libs.index.IndexEngine.get_loc\u001b[0;34m()\u001b[0m\n",
      "File \u001b[0;32mindex.pyx:181\u001b[0m, in \u001b[0;36mpandas._libs.index.IndexEngine.get_loc\u001b[0;34m()\u001b[0m\n",
      "File \u001b[0;32mpandas/_libs/hashtable_class_helper.pxi:7080\u001b[0m, in \u001b[0;36mpandas._libs.hashtable.PyObjectHashTable.get_item\u001b[0;34m()\u001b[0m\n",
      "File \u001b[0;32mpandas/_libs/hashtable_class_helper.pxi:7088\u001b[0m, in \u001b[0;36mpandas._libs.hashtable.PyObjectHashTable.get_item\u001b[0;34m()\u001b[0m\n",
      "\u001b[0;31mKeyError\u001b[0m: 'good_rows_W_in'",
      "\nThe above exception was the direct cause of the following exception:\n",
      "\u001b[0;31mKeyError\u001b[0m                                  Traceback (most recent call last)",
      "Cell \u001b[0;32mIn[3], line 5\u001b[0m\n\u001b[1;32m      3\u001b[0m ax1 \u001b[38;5;241m=\u001b[39m fig\u001b[38;5;241m.\u001b[39madd_subplot(\u001b[38;5;241m121\u001b[39m)\n\u001b[1;32m      4\u001b[0m ax2 \u001b[38;5;241m=\u001b[39m fig\u001b[38;5;241m.\u001b[39madd_subplot(\u001b[38;5;241m122\u001b[39m)\n\u001b[0;32m----> 5\u001b[0m ax1\u001b[38;5;241m.\u001b[39mplot(df[\u001b[38;5;124m'\u001b[39m\u001b[38;5;124miteration\u001b[39m\u001b[38;5;124m'\u001b[39m], \u001b[43mdf\u001b[49m\u001b[43m[\u001b[49m\u001b[38;5;124;43m'\u001b[39;49m\u001b[38;5;124;43mgood_rows_W_in\u001b[39;49m\u001b[38;5;124;43m'\u001b[39;49m\u001b[43m]\u001b[49m, c\u001b[38;5;241m=\u001b[39m\u001b[38;5;124m'\u001b[39m\u001b[38;5;124mgreen\u001b[39m\u001b[38;5;124m'\u001b[39m, label\u001b[38;5;241m=\u001b[39m\u001b[38;5;124m'\u001b[39m\u001b[38;5;124mgood rows\u001b[39m\u001b[38;5;124m'\u001b[39m)\n\u001b[1;32m      6\u001b[0m ax1\u001b[38;5;241m.\u001b[39mplot(df[\u001b[38;5;124m'\u001b[39m\u001b[38;5;124miteration\u001b[39m\u001b[38;5;124m'\u001b[39m], df[\u001b[38;5;124m'\u001b[39m\u001b[38;5;124mlinear_rows_W_in\u001b[39m\u001b[38;5;124m'\u001b[39m], c\u001b[38;5;241m=\u001b[39m\u001b[38;5;124m'\u001b[39m\u001b[38;5;124mblue\u001b[39m\u001b[38;5;124m'\u001b[39m, label \u001b[38;5;241m=\u001b[39m \u001b[38;5;124m'\u001b[39m\u001b[38;5;124mlinear rows\u001b[39m\u001b[38;5;124m'\u001b[39m)\n\u001b[1;32m      7\u001b[0m ax1\u001b[38;5;241m.\u001b[39mplot(df[\u001b[38;5;124m'\u001b[39m\u001b[38;5;124miteration\u001b[39m\u001b[38;5;124m'\u001b[39m], df[\u001b[38;5;124m'\u001b[39m\u001b[38;5;124mextreme_rows_W_in\u001b[39m\u001b[38;5;124m'\u001b[39m], c\u001b[38;5;241m=\u001b[39m\u001b[38;5;124m'\u001b[39m\u001b[38;5;124mred\u001b[39m\u001b[38;5;124m'\u001b[39m, label \u001b[38;5;241m=\u001b[39m \u001b[38;5;124m'\u001b[39m\u001b[38;5;124mextreme rows\u001b[39m\u001b[38;5;124m'\u001b[39m)\n",
      "File \u001b[0;32m~/miniconda3/envs/metal/lib/python3.11/site-packages/pandas/core/frame.py:3896\u001b[0m, in \u001b[0;36mDataFrame.__getitem__\u001b[0;34m(self, key)\u001b[0m\n\u001b[1;32m   3894\u001b[0m \u001b[38;5;28;01mif\u001b[39;00m \u001b[38;5;28mself\u001b[39m\u001b[38;5;241m.\u001b[39mcolumns\u001b[38;5;241m.\u001b[39mnlevels \u001b[38;5;241m>\u001b[39m \u001b[38;5;241m1\u001b[39m:\n\u001b[1;32m   3895\u001b[0m     \u001b[38;5;28;01mreturn\u001b[39;00m \u001b[38;5;28mself\u001b[39m\u001b[38;5;241m.\u001b[39m_getitem_multilevel(key)\n\u001b[0;32m-> 3896\u001b[0m indexer \u001b[38;5;241m=\u001b[39m \u001b[38;5;28;43mself\u001b[39;49m\u001b[38;5;241;43m.\u001b[39;49m\u001b[43mcolumns\u001b[49m\u001b[38;5;241;43m.\u001b[39;49m\u001b[43mget_loc\u001b[49m\u001b[43m(\u001b[49m\u001b[43mkey\u001b[49m\u001b[43m)\u001b[49m\n\u001b[1;32m   3897\u001b[0m \u001b[38;5;28;01mif\u001b[39;00m is_integer(indexer):\n\u001b[1;32m   3898\u001b[0m     indexer \u001b[38;5;241m=\u001b[39m [indexer]\n",
      "File \u001b[0;32m~/miniconda3/envs/metal/lib/python3.11/site-packages/pandas/core/indexes/base.py:3797\u001b[0m, in \u001b[0;36mIndex.get_loc\u001b[0;34m(self, key)\u001b[0m\n\u001b[1;32m   3792\u001b[0m     \u001b[38;5;28;01mif\u001b[39;00m \u001b[38;5;28misinstance\u001b[39m(casted_key, \u001b[38;5;28mslice\u001b[39m) \u001b[38;5;129;01mor\u001b[39;00m (\n\u001b[1;32m   3793\u001b[0m         \u001b[38;5;28misinstance\u001b[39m(casted_key, abc\u001b[38;5;241m.\u001b[39mIterable)\n\u001b[1;32m   3794\u001b[0m         \u001b[38;5;129;01mand\u001b[39;00m \u001b[38;5;28many\u001b[39m(\u001b[38;5;28misinstance\u001b[39m(x, \u001b[38;5;28mslice\u001b[39m) \u001b[38;5;28;01mfor\u001b[39;00m x \u001b[38;5;129;01min\u001b[39;00m casted_key)\n\u001b[1;32m   3795\u001b[0m     ):\n\u001b[1;32m   3796\u001b[0m         \u001b[38;5;28;01mraise\u001b[39;00m InvalidIndexError(key)\n\u001b[0;32m-> 3797\u001b[0m     \u001b[38;5;28;01mraise\u001b[39;00m \u001b[38;5;167;01mKeyError\u001b[39;00m(key) \u001b[38;5;28;01mfrom\u001b[39;00m \u001b[38;5;21;01merr\u001b[39;00m\n\u001b[1;32m   3798\u001b[0m \u001b[38;5;28;01mexcept\u001b[39;00m \u001b[38;5;167;01mTypeError\u001b[39;00m:\n\u001b[1;32m   3799\u001b[0m     \u001b[38;5;66;03m# If we have a listlike key, _check_indexing_error will raise\u001b[39;00m\n\u001b[1;32m   3800\u001b[0m     \u001b[38;5;66;03m#  InvalidIndexError. Otherwise we fall through and re-raise\u001b[39;00m\n\u001b[1;32m   3801\u001b[0m     \u001b[38;5;66;03m#  the TypeError.\u001b[39;00m\n\u001b[1;32m   3802\u001b[0m     \u001b[38;5;28mself\u001b[39m\u001b[38;5;241m.\u001b[39m_check_indexing_error(key)\n",
      "\u001b[0;31mKeyError\u001b[0m: 'good_rows_W_in'"
     ]
    },
    {
     "data": {
      "image/png": "[encoded data removed]",
      "text/plain": [
       "<Figure size 1000x500 with 2 Axes>"
      ]
     },
     "metadata": {},
     "output_type": "display_data"
    }
   ],
   "source": [
    "df = pd.read_csv(f'{model.save_folder}/train_log.csv')\n",
    "fig = plt.figure(figsize=(10, 5))\n",
    "ax1 = fig.add_subplot(121)\n",
    "ax2 = fig.add_subplot(122)\n",
    "ax1.plot(df['iteration'], df['good_rows_W_in'], c='green', label='good rows')\n",
    "ax1.plot(df['iteration'], df['linear_rows_W_in'], c='blue', label = 'linear rows')\n",
    "ax1.plot(df['iteration'], df['extreme_rows_W_in'], c='red', label = 'extreme rows')\n",
    "ax2.scatter(df['iteration'], np.log(df['loss']), s=1)\n",
    "ax1.set_xlabel('iteration')\n",
    "ax2.set_xlabel('iteration')\n",
    "ax2.set_ylabel('log loss')\n",
    "ax1.legend()\n",
    "plt.savefig(f'{model.save_folder}/row_types.png')"
   ]
  },
  {
   "cell_type": "code",
   "execution_count": null,
   "id": "55911bd7-f2ad-444f-85e5-92d3d6fbb0e8",
   "metadata": {},
   "outputs": [],
   "source": [
    "tau_f_1, tau_f_2"
   ]
  },
  {
   "cell_type": "code",
   "execution_count": 4,
   "id": "76a337c5-9ece-4d12-9cab-8f9fbe120897",
   "metadata": {},
   "outputs": [
    {
     "name": "stdout",
     "output_type": "stream",
     "text": [
      "Time taken by compute_tau_f is 1.4385 seconds\n",
      "step: 0 loss: 2.032387 time: 0.0438 lr: 0.000010,  change: nan%\n",
      "step: 100 loss: 2.033980 time: 3.2361 lr: 0.000010,  change: 0.08%\n",
      "step: 200 loss: 2.032681 time: 6.5094 lr: 0.000010,  change: -0.06%\n",
      "step: 300 loss: 2.032461 time: 9.6915 lr: 0.000010,  change: -0.01%\n",
      "step: 400 loss: 2.032369 time: 12.8923 lr: 0.000010,  change: -0.00%\n",
      "step: 500 loss: 2.032324 time: 16.1828 lr: 0.000010,  change: -0.00%\n",
      "step: 600 loss: 2.032296 time: 19.3903 lr: 0.000010,  change: -0.00%\n",
      "step: 700 loss: 2.032276 time: 22.6119 lr: 0.000010,  change: -0.00%\n",
      "step: 800 loss: 2.032259 time: 25.8564 lr: 0.000010,  change: -0.00%\n",
      "step: 900 loss: 2.154530 time: 29.0582 lr: 0.000010,  change: 6.02%\n",
      "step: 1000 loss: 2.032240 time: 32.6327 lr: 0.000010,  change: -5.68%\n",
      "step: 1100 loss: 2.032226 time: 35.8160 lr: 0.000010,  change: -0.00%\n",
      "step: 1200 loss: 2.032217 time: 38.9865 lr: 0.000010,  change: -0.00%\n",
      "step: 1300 loss: 2.051780 time: 42.1712 lr: 0.000010,  change: 0.96%\n",
      "step: 1400 loss: 2.032200 time: 45.4095 lr: 0.000010,  change: -0.95%\n",
      "step: 1500 loss: 2.032192 time: 48.6042 lr: 0.000010,  change: -0.00%\n",
      "step: 1600 loss: 2.112634 time: 51.7984 lr: 0.000010,  change: 3.96%\n",
      "step: 1700 loss: 2.032178 time: 55.0963 lr: 0.000010,  change: -3.81%\n",
      "step: 1800 loss: 2.032168 time: 58.2914 lr: 0.000010,  change: -0.00%\n",
      "step: 1900 loss: 2.081648 time: 61.5219 lr: 0.000010,  change: 2.43%\n",
      "step: 2000 loss: 2.039173 time: 64.7318 lr: 0.000010,  change: -2.04%\n",
      "step: 2100 loss: 2.036986 time: 68.0017 lr: 0.000010,  change: -0.11%\n",
      "step: 2200 loss: 2.035208 time: 71.2866 lr: 0.000010,  change: -0.09%\n",
      "step: 2300 loss: 2.063930 time: 74.5478 lr: 0.000010,  change: 1.41%\n",
      "step: 2400 loss: 2.034921 time: 77.7681 lr: 0.000010,  change: -1.41%\n",
      "step: 2500 loss: 2.494027 time: 80.9938 lr: 0.000010,  change: 22.56%\n",
      "step: 2600 loss: 2.032118 time: 84.2344 lr: 0.000010,  change: -18.52%\n",
      "step: 2700 loss: 2.090206 time: 87.4440 lr: 0.000010,  change: 2.86%\n",
      "step: 2800 loss: 2.700128 time: 90.6459 lr: 0.000010,  change: 29.18%\n",
      "step: 2900 loss: 2.057442 time: 93.9164 lr: 0.000010,  change: -23.80%\n",
      "step: 3000 loss: 2.040934 time: 97.1102 lr: 0.000010,  change: -0.80%\n",
      "step: 3100 loss: 2.047863 time: 100.4678 lr: 0.000010,  change: 0.34%\n",
      "step: 3200 loss: 2.036837 time: 103.7553 lr: 0.000010,  change: -0.54%\n",
      "step: 3300 loss: 2.035583 time: 106.9292 lr: 0.000010,  change: -0.06%\n",
      "step: 3400 loss: 2.244986 time: 110.2449 lr: 0.000010,  change: 10.29%\n",
      "step: 3500 loss: 2.518219 time: 113.4183 lr: 0.000010,  change: 12.17%\n",
      "step: 3600 loss: 2.147694 time: 116.5773 lr: 0.000010,  change: -14.71%\n",
      "step: 3700 loss: 2.088070 time: 119.8312 lr: 0.000010,  change: -2.78%\n",
      "step: 3800 loss: 2.094937 time: 123.0252 lr: 0.000010,  change: 0.33%\n",
      "step: 3900 loss: 2.225737 time: 126.2699 lr: 0.000010,  change: 6.24%\n",
      "step: 4000 loss: 2.074814 time: 129.6395 lr: 0.000010,  change: -6.78%\n",
      "step: 4100 loss: 2.891375 time: 133.4320 lr: 0.000010,  change: 39.36%\n",
      "step: 4200 loss: 2.743697 time: 136.7085 lr: 0.000010,  change: -5.11%\n",
      "step: 4300 loss: 2.090740 time: 140.1897 lr: 0.000010,  change: -23.80%\n",
      "step: 4400 loss: 2.037227 time: 143.6860 lr: 0.000010,  change: -2.56%\n",
      "step: 4500 loss: 2.092760 time: 146.8952 lr: 0.000010,  change: 2.73%\n",
      "step: 4600 loss: 2.166805 time: 150.3208 lr: 0.000010,  change: 3.54%\n",
      "step: 4700 loss: 2.043574 time: 153.9277 lr: 0.000010,  change: -5.69%\n",
      "step: 4800 loss: 2.883752 time: 157.1505 lr: 0.000010,  change: 41.11%\n",
      "step: 4900 loss: 2.768497 time: 160.3282 lr: 0.000010,  change: -4.00%\n",
      "Time taken by learn is 163.5874 seconds\n",
      "Time taken by compute_tau_f is 1.3334 seconds\n",
      "Time taken by count_row_types is 0.1854 seconds\n"
     ]
    }
   ],
   "source": [
    "model = srnn.SurrogateModel_NN(3, 300, name='nn', save_folder=save_folder+'-suboptimal-8')\n",
    "model.init_with_rf(L0, L1, beta, train, partition=[300, 0, 0])\n",
    "tau_f_rmse, tau_f_se, rmse, se = model.compute_tau_f(test[:100], error_threshold=0.05)\n",
    "tau_f_1 = tau_f_se.mean()\n",
    "model.learn(train[:, :N], 5000, 1e-5, batch_size='GD', log_interval=100, save_interval=100, last_folder=None,\\\n",
    "           max_delta=0.1, min_change=1e-4, constant_rate=True, update_frequency=1000, mode='BS')\n",
    "tau_f_rmse, tau_f_se, rmse, se = model.compute_tau_f(test[:100], error_threshold=0.05)\n",
    "tau_f_2 = tau_f_se.mean()\n",
    "\n",
    "tau_f_1 , tau_f_2, tau_f_1 < tau_f_2\n",
    "model.count_row_types(L0, L1, train.T)"
   ]
  },
  {
   "cell_type": "code",
   "execution_count": 8,
   "id": "1a9ac4d1-f0f9-402d-8a8e-469f2e84a6e1",
   "metadata": {},
   "outputs": [
    {
     "data": {
      "image/png": "[encoded data removed]",
      "text/plain": [
       "<Figure size 1000x500 with 2 Axes>"
      ]
     },
     "metadata": {},
     "output_type": "display_data"
    }
   ],
   "source": [
    "df = pd.read_csv(f'{model.save_folder}/train_log.csv')\n",
    "fig = plt.figure(figsize=(10, 5))\n",
    "ax1 = fig.add_subplot(121)\n",
    "ax2 = fig.add_subplot(122)\n",
    "ax1.plot(df['iteration'], df['good_rows_W_in'], c='green', label='good rows')\n",
    "ax1.plot(df['iteration'], df['linear_rows_W_in'], c='blue', label = 'linear rows')\n",
    "ax1.plot(df['iteration'], df['extreme_rows_W_in'], c='red', label = 'extreme rows')\n",
    "ax2.scatter(df['iteration'], (df['loss']), s=1)\n",
    "ax1.set_xlabel('iteration')\n",
    "ax2.set_xlabel('iteration')\n",
    "ax2.set_ylabel('log loss')\n",
    "ax1.legend()\n",
    "plt.show()\n",
    "# plt.savefig(f'{model.save_folder}/row_types.png')"
   ]
  },
  {
   "cell_type": "code",
   "execution_count": 19,
   "id": "15f4f758-4137-4d76-9d55-587540f7dac5",
   "metadata": {},
   "outputs": [
    {
     "data": {
      "text/plain": [
       "(5.651828, 5.866042000000001)"
      ]
     },
     "execution_count": 19,
     "metadata": {},
     "output_type": "execute_result"
    }
   ],
   "source": [
    "tau_f_1, tau_f_2"
   ]
  },
  {
   "cell_type": "code",
   "execution_count": null,
   "id": "58efc1b3-d895-4c88-975a-bdfde6cb55da",
   "metadata": {},
   "outputs": [],
   "source": [
    "save_folder='../data/rf-start-super-aggresive'\n",
    "model = srnn.SurrogateModel_NN(3, 300, name='nn', save_folder=save_folder+'-suboptimal')\n",
    "model.init_with_rf(L0, L1, beta, train, partition=[100, 100, 100])\n",
    "tau_f_rmse, tau_f_se, rmse, se = model.compute_tau_f(test[:100], error_threshold=0.05)\n",
    "tau_f_1 = tau_f_se.mean()\n",
    "model.learn(train[:, :N], 5000, 1e-3, drop=1., batch_size='GD', log_interval=10, save_interval=10)\n",
    "tau_f_rmse, tau_f_se, rmse, se = model.compute_tau_f(test[:100], error_threshold=0.05)\n",
    "tau_f_2 = tau_f_se.mean()\n",
    "\n",
    "tau_f_1 , tau_f_2, tau_f_1 < tau_f_2\n",
    "model.count_row_types(L0, L1, train.T)"
   ]
  },
  {
   "cell_type": "code",
   "execution_count": null,
   "id": "15c8a4bf-e325-4304-aeb0-8cf9551c7f25",
   "metadata": {},
   "outputs": [],
   "source": [
    "df = pd.read_csv(f'{model.save_folder}/train_log.csv')\n",
    "fig = plt.figure(figsize=(10, 5))\n",
    "ax1 = fig.add_subplot(121)\n",
    "ax2 = fig.add_subplot(122)\n",
    "ax1.plot(df['iteration'], df['good_rows_W_in'], c='green', label='good rows')\n",
    "ax1.plot(df['iteration'], df['linear_rows_W_in'], c='blue', label = 'linear rows')\n",
    "ax1.plot(df['iteration'], df['extreme_rows_W_in'], c='red', label = 'extreme rows')\n",
    "ax2.scatter(df['iteration'], np.log(df['loss']), s=1)\n",
    "ax1.set_xlabel('iteration')\n",
    "ax2.set_xlabel('iteration')\n",
    "ax2.set_ylabel('log loss')\n",
    "ax1.legend()\n",
    "plt.savefig(f'{model.save_folder}/row_types.png')"
   ]
  },
  {
   "cell_type": "code",
   "execution_count": null,
   "id": "66fa7dd4-cd0c-4953-9acd-a63b1ceb8502",
   "metadata": {},
   "outputs": [],
   "source": [
    "tau_f_1,  tau_f_2"
   ]
  },
  {
   "cell_type": "code",
   "execution_count": null,
   "id": "5a32fb94-33ca-4c6a-b17e-4a9735af6186",
   "metadata": {},
   "outputs": [],
   "source": [
    "save_folder='../data/rf-start-super-aggresive'\n",
    "model = srnn.SurrogateModel_NN(3, 300, name='nn', save_folder=save_folder)\n",
    "model.init_with_rf(L0, L1, beta, train, partition=[300, 0, 0])\n",
    "tau_f_rmse, tau_f_se, rmse, se = model.compute_tau_f(test[:100], error_threshold=0.05)\n",
    "tau_f_1 = tau_f_se.mean()\n",
    "model.learn(train[:, :N], 5000, 1e-3, drop=1., batch_size='GD', log_interval=10, save_interval=10)\n",
    "tau_f_rmse, tau_f_se, rmse, se = model.compute_tau_f(test[:100], error_threshold=0.05)\n",
    "tau_f_2 = tau_f_se.mean()\n",
    "\n",
    "tau_f_1 , tau_f_2, tau_f_1 < tau_f_2\n",
    "model.count_row_types(L0, L1, train.T)"
   ]
  },
  {
   "cell_type": "code",
   "execution_count": null,
   "id": "770f095e-dc91-4a39-90bd-364846e6cf6e",
   "metadata": {},
   "outputs": [],
   "source": [
    "df = pd.read_csv(f'{model.save_folder}/train_log.csv')\n",
    "fig = plt.figure(figsize=(10, 5))\n",
    "ax1 = fig.add_subplot(121)\n",
    "ax2 = fig.add_subplot(122)\n",
    "ax1.plot(df['iteration'], df['good_rows_W_in'], c='green', label='good rows')\n",
    "ax1.plot(df['iteration'], df['linear_rows_W_in'], c='blue', label = 'linear rows')\n",
    "ax1.plot(df['iteration'], df['extreme_rows_W_in'], c='red', label = 'extreme rows')\n",
    "ax2.scatter(df['iteration'], np.log(df['loss']), s=1)\n",
    "ax1.set_xlabel('iteration')\n",
    "ax2.set_xlabel('iteration')\n",
    "ax2.set_ylabel('log loss')\n",
    "ax1.legend()\n",
    "plt.savefig(f'{model.save_folder}/row_types.png')"
   ]
  },
  {
   "cell_type": "code",
   "execution_count": null,
   "id": "cb7a663b-bf57-4863-aa94-d8d244b34093",
   "metadata": {},
   "outputs": [],
   "source": [
    "tau_f_1, tau_f_2"
   ]
  },
  {
   "cell_type": "code",
   "execution_count": null,
   "id": "9f240e54-9bb5-4a94-9d45-a374444d3078",
   "metadata": {},
   "outputs": [],
   "source": [
    "save_folder='../data/rf-start-none'\n",
    "model = srnn.SurrogateModel_NN(3, 300, name='nn', save_folder=save_folder)\n",
    "# model.init_with_rf(L0, L1, beta, train, partition)\n",
    "model.init_with_rf(L0, L1, beta, train, partition=[300, 0, 0])\n",
    "tau_f_rmse, tau_f_se, rmse, se = model.compute_tau_f(test[:100], error_threshold=0.05)\n",
    "tau_f_1 = tau_f_se.mean()\n",
    "model.learn(train[:, :N], 20000, 1e-3, drop=1., batch_size='GD', log_interval=10, save_interval=10)\n",
    "tau_f_rmse, tau_f_se, rmse, se = model.compute_tau_f(test[:100], error_threshold=0.05)\n",
    "tau_f_2 = tau_f_se.mean()\n",
    "\n",
    "tau_f_1 , tau_f_2, tau_f_1 < tau_f_2\n",
    "model.count_row_types(L0, L1, train.T)"
   ]
  },
  {
   "cell_type": "code",
   "execution_count": null,
   "id": "4025f103-5459-4669-a235-38387177631f",
   "metadata": {},
   "outputs": [],
   "source": [
    "df = pd.read_csv(f'{model.save_folder}/train_log.csv')\n",
    "fig = plt.figure(figsize=(10, 5))\n",
    "ax1 = fig.add_subplot(121)\n",
    "ax2 = fig.add_subplot(122)\n",
    "ax1.plot(df['iteration'], df['good_rows_W_in'], c='green', label='good rows')\n",
    "ax1.plot(df['iteration'], df['linear_rows_W_in'], c='blue', label = 'linear rows')\n",
    "ax1.plot(df['iteration'], df['extreme_rows_W_in'], c='red', label = 'extreme rows')\n",
    "ax2.scatter(df['iteration'], np.log(df['loss']), s=1)\n",
    "ax1.set_xlabel('iteration')\n",
    "ax2.set_xlabel('iteration')\n",
    "ax2.set_ylabel('log loss')\n",
    "ax1.legend()\n",
    "plt.savefig(f'{model.save_folder}/row_types.png')"
   ]
  },
  {
   "cell_type": "code",
   "execution_count": null,
   "id": "0ed4ecdb-c687-48c7-9a0e-5fd37bfa6680",
   "metadata": {},
   "outputs": [],
   "source": []
  },
  {
   "cell_type": "code",
   "execution_count": null,
   "id": "b30a7abc-1b17-4ee9-bb1f-16db4bf88c16",
   "metadata": {},
   "outputs": [],
   "source": [
    "n = 100\n",
    "loss = np.zeros(n)\n",
    "tau = np.zeros(n)\n",
    "x = torch.Tensor(train.T[:-1])\n",
    "y = torch.Tensor(train.T[1:])\n",
    "for i in range(n):\n",
    "    model.init_with_rf(L0, L1, beta, train, partition=[300, 0, 0])\n",
    "    tau_f_rmse, tau_f_se, rmse, se = model.compute_tau_f(test[:100], error_threshold=0.05)\n",
    "    tau[i] = tau_f_se.mean()\n",
    "    loss[i] = model.loss_fn(x, y, beta).detach().numpy()\n",
    "    print(f'working at index {i}')"
   ]
  },
  {
   "cell_type": "code",
   "execution_count": null,
   "id": "ce7cf342-229f-4af3-baea-0675aa0e1703",
   "metadata": {},
   "outputs": [],
   "source": [
    "plt.scatter(np.log(loss), tau)\n",
    "plt.xlabel('log loss')\n",
    "plt.ylabel(r'$\\tau_f$')\n",
    "plt.title(f'{n} random feature maps with 100% good rows')\n",
    "plt.savefig('../data/plots/tau_f_vs_loss_rf_full.png')"
   ]
  },
  {
   "cell_type": "code",
   "execution_count": null,
   "id": "59d7008a-9cab-420c-a5c6-3c8204a72ada",
   "metadata": {},
   "outputs": [],
   "source": [
    "n = 100\n",
    "loss = np.zeros(n)\n",
    "tau = np.zeros(n)\n",
    "x = torch.Tensor(train.T[:-1])\n",
    "y = torch.Tensor(train.T[1:])\n",
    "for i in range(n):\n",
    "    p = np.random.randint(300)\n",
    "    q = int((300 - p) / 2)\n",
    "    model.init_with_rf(L0, L1, beta, train, partition=[p, q, 300-p-q])\n",
    "    tau_f_rmse, tau_f_se, rmse, se = model.compute_tau_f(test[:100], error_threshold=0.05)\n",
    "    tau[i] = tau_f_se.mean()\n",
    "    loss[i] = model.loss_fn(x, y, beta).detach().numpy()\n",
    "    print(f'working at index {i}')"
   ]
  },
  {
   "cell_type": "code",
   "execution_count": null,
   "id": "1dd5b5e0-e684-4409-a1d8-c8f4799c6894",
   "metadata": {},
   "outputs": [],
   "source": [
    "plt.scatter(np.log(loss), tau)\n",
    "plt.xlabel('log loss')\n",
    "plt.ylabel(r'$\\tau_f$')\n",
    "plt.title(f'{n} random feature maps with random% good rows')\n",
    "plt.savefig('../data/plots/tau_f_vs_loss_rf_random.png')"
   ]
  },
  {
   "cell_type": "code",
   "execution_count": null,
   "id": "1cba88ae-5bf1-43ca-afb7-874d61521f91",
   "metadata": {},
   "outputs": [],
   "source": [
    "DTYPE = 'float64'\n",
    "L63_data_path = '../data/L63-trajectories'\n",
    "save_folder='../data/rf-start-aggresive'\n",
    "log_interval = 100\n",
    "milestones = [10*2**n for n in range(15)]\n",
    "learning_rate = 1e-3\n",
    "drop = 0.7\n",
    "steps = int(1e4)\n",
    "save_interval = 100\n",
    "N = 20000\n",
    "L0 = 0.4\n",
    "L1 = 3.5\n",
    "beta = 4e-5\n",
    "\n",
    "train = np.load(f'{L63_data_path}/train.npy').astype(DTYPE)\n",
    "test = np.load(f'{L63_data_path}/test.npy')[:, :, :1000].astype(DTYPE)\n",
    "\n",
    "model = srnn.SurrogateModel_NN(3, 300, name='nn', save_folder=save_folder)\n",
    "model.init_with_rf(L0, L1, beta, train, partition=[300, 0, 0])\n",
    "\n",
    "for parameter in model.net.parameters(): \n",
    "     print(parameter.requires_grad)"
   ]
  },
  {
   "cell_type": "code",
   "execution_count": null,
   "id": "4bdb6a2b-3b1f-48fa-a0aa-3bab6940d8d7",
   "metadata": {},
   "outputs": [],
   "source": [
    "(1.-0.01)**(1./log_interval) - 1."
   ]
  },
  {
   "cell_type": "code",
   "execution_count": 5,
   "id": "a2358e08-bfba-4a0f-a5d3-42de6cdd79e4",
   "metadata": {},
   "outputs": [
    {
     "data": {
      "text/plain": [
       "True"
      ]
     },
     "execution_count": 5,
     "metadata": {},
     "output_type": "execute_result"
    }
   ],
   "source": [
    "model.init_with_rf(L0, L1, beta, train, partition=[300, 0, 0])\n",
    "model.net.training"
   ]
  },
  {
   "cell_type": "code",
   "execution_count": 6,
   "id": "24286a4b-d935-4099-b735-000df833d6aa",
   "metadata": {},
   "outputs": [
    {
     "data": {
      "text/plain": [
       "(3, 200000)"
      ]
     },
     "execution_count": 6,
     "metadata": {},
     "output_type": "execute_result"
    }
   ],
   "source": [
    "train.shape"
   ]
  },
  {
   "cell_type": "code",
   "execution_count": 19,
   "id": "f3c87366-3190-416c-94f3-1b5e358a7cb6",
   "metadata": {},
   "outputs": [
    {
     "data": {
      "text/plain": [
       "(300, 200000)"
      ]
     },
     "execution_count": 19,
     "metadata": {},
     "output_type": "execute_result"
    }
   ],
   "source": [
    "().shape"
   ]
  },
  {
   "cell_type": "code",
   "execution_count": null,
   "id": "eb5e0491-7463-42ae-a047-9b9e0f4f6dea",
   "metadata": {},
   "outputs": [],
   "source": []
  }
 ],
 "metadata": {
  "kernelspec": {
   "display_name": "Python 3 (ipykernel)",
   "language": "python",
   "name": "python3"
  },
  "language_info": {
   "codemirror_mode": {
    "name": "ipython",
    "version": 3
   },
   "file_extension": ".py",
   "mimetype": "text/x-python",
   "name": "python",
   "nbconvert_exporter": "python",
   "pygments_lexer": "ipython3",
   "version": "3.11.5"
  }
 },
 "nbformat": 4,
 "nbformat_minor": 5
}
