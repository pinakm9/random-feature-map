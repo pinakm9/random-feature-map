{
 "cells": [
  {
   "cell_type": "code",
   "execution_count": 1,
   "id": "9f91fe87-e4cf-4d90-bf34-2e9dac62ef97",
   "metadata": {},
   "outputs": [],
   "source": [
    "import numpy as np \n",
    "from scipy.integrate import odeint\n",
    "import os, sys, warnings\n",
    "from pathlib import Path\n",
    "from os.path import dirname, realpath\n",
    "script_dir = Path(dirname(realpath('.')))\n",
    "module_dir = str(script_dir)\n",
    "sys.path.insert(0, module_dir + '/modules')\n",
    "import utility as ut\n",
    "import surrogate_nn as srnn\n",
    "import matplotlib.pyplot as plt\n",
    "import pandas as pd\n",
    "import torch\n",
    "from torch import nn\n",
    "from torch.optim import lr_scheduler\n",
    "from torch.utils.data import DataLoader, TensorDataset\n",
    "warnings.filterwarnings('ignore')"
   ]
  },
  {
   "cell_type": "code",
   "execution_count": 2,
   "id": "d8341f71-46f2-49e7-bee9-8154bace790c",
   "metadata": {},
   "outputs": [],
   "source": [
    "DTYPE = 'float64'\n",
    "L63_data_path = '../data/L63-trajectories'\n",
    "save_folder='../data/rf-start'\n",
    "log_interval = 100\n",
    "milestones = [10*2**n for n in range(15)]\n",
    "learning_rate = 1e-3\n",
    "drop = 0.7\n",
    "steps = int(1e4)\n",
    "save_interval = 100\n",
    "N = 20000\n",
    "L0 = 0.4\n",
    "L1 = 3.5\n",
    "beta = 4e-5\n",
    "partition = [100, 100, 100]\n",
    "train = np.load(f'{L63_data_path}/train.npy').astype(DTYPE)\n",
    "test = np.load(f'{L63_data_path}/test.npy')[:, :, :1000].astype(DTYPE)\n",
    "\n",
    "model = srnn.SurrogateModel_NN(3, 300, name='nn', save_folder=save_folder)\n",
    "model.init_with_rf(L0, L1, beta, train, partition)\n",
    "# model.learn(train[:, :N], steps, learning_rate, beta, log_interval, save_interval, milestones, drop, batch_size=N-1)"
   ]
  },
  {
   "cell_type": "code",
   "execution_count": 3,
   "id": "f847e2b7-9805-4513-938c-e0bcec7ebbef",
   "metadata": {},
   "outputs": [],
   "source": [
    "iters = list(range(0, 10000, 100))\n",
    "# tau = np.zeros(len(iters))\n",
    "# for i, iter in enumerate(iters):\n",
    "#     model.net = torch.load(f'{model.save_folder}/nn_{iter}')\n",
    "#     tau_f_rmse, tau_f_se, rmse, se = model.compute_tau_f(test[:100], error_threshold=0.05)\n",
    "#     tau[i] = tau_f_se.mean()\n",
    "#     print(i)"
   ]
  },
  {
   "cell_type": "code",
   "execution_count": 9,
   "id": "4119bbde-dbd6-48de-96c5-5cc55ca32f8a",
   "metadata": {},
   "outputs": [],
   "source": [
    "# plt.plot(iters, tau, label=\"test_model\")\n",
    "# plt.xlabel('iteration (descent step)')\n",
    "# plt.ylabel(r'mean $\\tau_f$')\n",
    "# plt.legend()\n",
    "# plt.savefig(f'{model.save_folder}/iter_vs_mean_tau_f.png')"
   ]
  },
  {
   "cell_type": "code",
   "execution_count": 11,
   "id": "fa35fe28-4d33-4f7d-a4c7-31a23e11e8e0",
   "metadata": {},
   "outputs": [
    {
     "name": "stdout",
     "output_type": "stream",
     "text": [
      "Time taken by compute_tau_f is 1.4475 seconds\n",
      "step: 0    loss: 2.236528     time elapsed=0.0318\n",
      "step: 100    loss: 2.395607     time elapsed=3.1510\n",
      "step: 200    loss: 2.254527     time elapsed=6.2691\n",
      "step: 300    loss: 2.243238     time elapsed=9.3791\n",
      "step: 400    loss: 2.240326     time elapsed=12.5128\n",
      "step: 500    loss: 3.731614     time elapsed=15.6269\n",
      "step: 600    loss: 2.238660     time elapsed=18.7466\n",
      "step: 700    loss: 71.876223     time elapsed=21.8693\n",
      "step: 800    loss: 3.516141     time elapsed=24.9902\n",
      "step: 900    loss: 2.635921     time elapsed=28.1427\n",
      "Time taken by learn is 31.2358 seconds\n",
      "Time taken by compute_tau_f is 1.3719 seconds\n"
     ]
    },
    {
     "data": {
      "text/plain": [
       "(5.302752000000001, 1.2437880000000001, False)"
      ]
     },
     "execution_count": 11,
     "metadata": {},
     "output_type": "execute_result"
    }
   ],
   "source": [
    "model.init_with_rf(L0, L1, beta, train, partition=[300, 0, 0])\n",
    "tau_f_rmse, tau_f_se, rmse, se = model.compute_tau_f(test[:100], error_threshold=0.05)\n",
    "tau_f_1 = tau_f_se.mean()\n",
    "model.learn(train[:, :N], 1000, 1e-4, drop=1., batch_size='GD')\n",
    "tau_f_rmse, tau_f_se, rmse, se = model.compute_tau_f(test[:100], error_threshold=0.05)\n",
    "tau_f_2 = tau_f_se.mean()\n",
    "\n",
    "tau_f_1 , tau_f_2, tau_f_1 < tau_f_2"
   ]
  },
  {
   "cell_type": "code",
   "execution_count": null,
   "id": "ce187ac8-a1f1-480b-bae0-3e16ff18d25f",
   "metadata": {},
   "outputs": [],
   "source": [
    "tau_f"
   ]
  },
  {
   "cell_type": "code",
   "execution_count": null,
   "id": "668a6725-b192-487e-a4ed-d8d61a819879",
   "metadata": {},
   "outputs": [],
   "source": []
  },
  {
   "cell_type": "code",
   "execution_count": null,
   "id": "3e5fd0fd-42e9-4dcd-912a-db22ff62de1b",
   "metadata": {},
   "outputs": [],
   "source": [
    "tau_f_se.mean()"
   ]
  },
  {
   "cell_type": "code",
   "execution_count": null,
   "id": "bb9252e6-ca5c-4b52-bf75-9252ef952363",
   "metadata": {},
   "outputs": [],
   "source": [
    "model.net(next(model.dataloader.__iter__())[0])"
   ]
  },
  {
   "cell_type": "code",
   "execution_count": null,
   "id": "c0f43aa1-ef08-463b-91c8-582713233b9d",
   "metadata": {},
   "outputs": [],
   "source": [
    "train[:N]"
   ]
  },
  {
   "cell_type": "code",
   "execution_count": 8,
   "id": "cb1b1e1d-7b79-4523-9a71-e69b2abdb4f4",
   "metadata": {},
   "outputs": [
    {
     "data": {
      "text/plain": [
       "[<matplotlib.lines.Line2D at 0x177627590>]"
      ]
     },
     "execution_count": 8,
     "metadata": {},
     "output_type": "execute_result"
    },
    {
     "data": {
      "image/png": "[encoded data removed]",
      "text/plain": [
       "<Figure size 640x480 with 1 Axes>"
      ]
     },
     "metadata": {},
     "output_type": "display_data"
    }
   ],
   "source": [
    "df = pd.read_csv('../data/nn_1_extend_0/train_log.csv')\n",
    "plt.plot(df['iteration'], df['loss'])"
   ]
  },
  {
   "cell_type": "code",
   "execution_count": 15,
   "id": "954096e1-540c-4e5c-8984-f02c36f870c6",
   "metadata": {},
   "outputs": [
    {
     "data": {
      "text/plain": [
       "array([0, 0, 0])"
      ]
     },
     "execution_count": 15,
     "metadata": {},
     "output_type": "execute_result"
    }
   ],
   "source": [
    "(np.sign(np.array([-3., 4., 5.])) + 1).astype(int) % 2"
   ]
  },
  {
   "cell_type": "code",
   "execution_count": 16,
   "id": "a805da1b-cb8e-4ba2-bae8-31bcbb4adafb",
   "metadata": {},
   "outputs": [
    {
     "data": {
      "text/plain": [
       "11.0"
      ]
     },
     "execution_count": 16,
     "metadata": {},
     "output_type": "execute_result"
    }
   ],
   "source": [
    "np.array([1., 2.]) @ np.array([3., 4.])"
   ]
  },
  {
   "cell_type": "code",
   "execution_count": null,
   "id": "60066723-5b29-4044-9ef5-929da4b15183",
   "metadata": {},
   "outputs": [],
   "source": []
  }
 ],
 "metadata": {
  "kernelspec": {
   "display_name": "Python 3 (ipykernel)",
   "language": "python",
   "name": "python3"
  },
  "language_info": {
   "codemirror_mode": {
    "name": "ipython",
    "version": 3
   },
   "file_extension": ".py",
   "mimetype": "text/x-python",
   "name": "python",
   "nbconvert_exporter": "python",
   "pygments_lexer": "ipython3",
   "version": "3.11.5"
  }
 },
 "nbformat": 4,
 "nbformat_minor": 5
}
