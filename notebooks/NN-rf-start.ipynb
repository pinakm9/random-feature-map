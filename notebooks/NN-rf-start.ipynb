{
 "cells": [
  {
   "cell_type": "code",
   "execution_count": 1,
   "id": "9f91fe87-e4cf-4d90-bf34-2e9dac62ef97",
   "metadata": {},
   "outputs": [],
   "source": [
    "import numpy as np \n",
    "from scipy.integrate import odeint\n",
    "import os, sys, warnings\n",
    "from pathlib import Path\n",
    "from os.path import dirname, realpath\n",
    "script_dir = Path(dirname(realpath('.')))\n",
    "module_dir = str(script_dir)\n",
    "sys.path.insert(0, module_dir + '/modules')\n",
    "import utility as ut\n",
    "import surrogate_nn as srnn\n",
    "import matplotlib.pyplot as plt\n",
    "import pandas as pd\n",
    "import torch\n",
    "from torch import nn\n",
    "from torch.optim import lr_scheduler\n",
    "from torch.utils.data import DataLoader, TensorDataset\n",
    "warnings.filterwarnings('ignore')"
   ]
  },
  {
   "cell_type": "code",
   "execution_count": 2,
   "id": "d8341f71-46f2-49e7-bee9-8154bace790c",
   "metadata": {},
   "outputs": [],
   "source": [
    "L63_data_path = '../data/L63-trajectories'\n",
    "save_folder='../data/rf-start'\n",
    "log_interval = 100\n",
    "milestones = [10*2**n for n in range(15)]\n",
    "learning_rate = 1e-3\n",
    "drop = 0.7\n",
    "steps = int(1e4)\n",
    "save_interval = 100\n",
    "N = 20000\n",
    "L0 = 0.4\n",
    "L1 = 3.5\n",
    "beta = 4e-5\n",
    "partition = [100, 100, 100]\n",
    "train = np.load(f'{L63_data_path}/train.npy').astype(np.float32)\n",
    "test = np.load(f'{L63_data_path}/test.npy')[:, :, :1000].astype(np.float32)\n",
    "\n",
    "model = srnn.SurrogateModel_NN(3, 300, name='nn', save_folder=save_folder)\n",
    "model.init_with_rf(L0, L1, beta, train, partition)\n",
    "# model.learn(train[:, :N], steps, learning_rate, beta, log_interval, save_interval, milestones, drop, batch_size=N-1)"
   ]
  },
  {
   "cell_type": "code",
   "execution_count": 3,
   "id": "f847e2b7-9805-4513-938c-e0bcec7ebbef",
   "metadata": {},
   "outputs": [],
   "source": [
    "iters = list(range(0, 10000, 100))\n",
    "# tau = np.zeros(len(iters))\n",
    "# for i, iter in enumerate(iters):\n",
    "#     model.net = torch.load(f'{model.save_folder}/nn_{iter}')\n",
    "#     tau_f_rmse, tau_f_se, rmse, se = model.compute_tau_f(test[:100], error_threshold=0.05)\n",
    "#     tau[i] = tau_f_se.mean()\n",
    "#     print(i)"
   ]
  },
  {
   "cell_type": "code",
   "execution_count": 4,
   "id": "4119bbde-dbd6-48de-96c5-5cc55ca32f8a",
   "metadata": {},
   "outputs": [],
   "source": [
    "# plt.plot(iters, tau, label=\"test_model\")\n",
    "# plt.xlabel('iteration (descent step)')\n",
    "# plt.ylabel(r'mean $\\tau_f$')\n",
    "# plt.legend()\n",
    "# plt.savefig(f'{model.save_folder}/iter_vs_mean_tau_f.png')"
   ]
  },
  {
   "cell_type": "code",
   "execution_count": 5,
   "id": "fa35fe28-4d33-4f7d-a4c7-31a23e11e8e0",
   "metadata": {},
   "outputs": [
    {
     "name": "stdout",
     "output_type": "stream",
     "text": [
      "Time taken by compute_tau_f is 1.4002 seconds\n"
     ]
    }
   ],
   "source": [
    "model.init_with_rf(L0, L1, beta, train, partition=[200, 50, 50])\n",
    "tau_f_rmse, tau_f_se, rmse, se = model.compute_tau_f(test[:100], error_threshold=0.05)"
   ]
  },
  {
   "cell_type": "code",
   "execution_count": 6,
   "id": "ce187ac8-a1f1-480b-bae0-3e16ff18d25f",
   "metadata": {},
   "outputs": [
    {
     "data": {
      "text/plain": [
       "array([4.8048, 6.461 , 5.642 , 6.2062, 4.4408, 4.1496, 9.7916, 8.1718,\n",
       "       6.9888, 6.4246, 3.1304, 6.006 , 6.1698, 5.4782, 6.1516, 7.3346,\n",
       "       3.8038, 6.2972, 4.3498, 6.825 , 3.8766, 4.7684, 7.4984, 5.0778,\n",
       "       8.9726, 6.097 , 7.462 , 5.6056, 4.2224, 5.1324, 5.8968, 6.4064,\n",
       "       2.548 , 3.003 , 8.281 , 5.7148, 7.644 , 3.7128, 5.1142, 5.9696,\n",
       "       6.8614, 7.644 , 6.0788, 5.8058, 7.6804, 6.1516, 7.1708, 3.1304,\n",
       "       2.3478, 8.0808, 8.0808, 2.5844, 4.4408, 7.5712, 5.4782, 4.9504,\n",
       "       5.3326, 6.6066, 5.1324, 4.5136, 5.2416, 4.8958, 5.4964, 5.0232,\n",
       "       5.1688, 4.368 , 5.642 , 4.9322, 5.6966, 5.7876, 4.9504, 6.8068,\n",
       "       5.4782, 4.641 , 6.6066, 4.9868, 6.1516, 4.4772, 5.46  , 7.28  ,\n",
       "       6.6976, 8.4084, 7.5166, 6.1334, 6.7704, 8.1172, 3.7128, 4.5318,\n",
       "       6.8796, 5.4782, 4.9322, 6.734 , 5.46  , 8.0262, 6.1698, 6.0424,\n",
       "       5.4236, 5.3326, 5.8422, 6.4246])"
      ]
     },
     "execution_count": 6,
     "metadata": {},
     "output_type": "execute_result"
    }
   ],
   "source": [
    "tau_f_se"
   ]
  },
  {
   "cell_type": "code",
   "execution_count": 7,
   "id": "668a6725-b192-487e-a4ed-d8d61a819879",
   "metadata": {},
   "outputs": [
    {
     "name": "stdout",
     "output_type": "stream",
     "text": [
      "step: 0    loss: 2.664762     time elapsed=0.0230\n",
      "Time taken by learn is 0.3224 seconds\n",
      "Time taken by compute_tau_f is 1.3464 seconds\n"
     ]
    }
   ],
   "source": [
    "model.learn(train[:, :N], 10, learning_rate, beta, log_interval, save_interval, milestones, drop, batch_size=5)\n",
    "tau_f_rmse, tau_f_se, rmse, se = model.compute_tau_f(test[:100], error_threshold=0.05)"
   ]
  },
  {
   "cell_type": "code",
   "execution_count": 8,
   "id": "3e5fd0fd-42e9-4dcd-912a-db22ff62de1b",
   "metadata": {},
   "outputs": [
    {
     "data": {
      "text/plain": [
       "array([0.    , 0.0182, 0.    , 0.    , 0.0182, 0.    , 0.0182, 0.    ,\n",
       "       0.0182, 0.    , 0.0182, 0.    , 0.    , 0.    , 0.0182, 0.    ,\n",
       "       0.0182, 0.    , 0.0182, 0.0182, 0.0182, 0.    , 0.    , 0.0182,\n",
       "       0.0182, 0.    , 0.    , 0.    , 0.    , 0.    , 0.    , 0.0182,\n",
       "       0.0182, 0.    , 0.0182, 0.0182, 0.    , 0.0182, 0.    , 0.0182,\n",
       "       0.    , 0.0182, 0.    , 0.    , 0.    , 0.    , 0.0182, 0.0182,\n",
       "       0.    , 0.    , 0.    , 0.0182, 0.0182, 0.0182, 0.    , 0.    ,\n",
       "       0.    , 0.    , 0.0182, 0.0182, 0.0182, 0.0182, 0.    , 0.0182,\n",
       "       0.0182, 0.0182, 0.0182, 0.0182, 0.    , 0.0182, 0.    , 0.    ,\n",
       "       0.    , 0.    , 0.    , 0.0182, 0.0182, 0.0182, 0.    , 0.    ,\n",
       "       0.    , 0.    , 0.0182, 0.    , 0.0182, 0.0182, 0.0182, 0.0182,\n",
       "       0.    , 0.0182, 0.    , 0.    , 0.    , 0.    , 0.    , 0.    ,\n",
       "       0.    , 0.    , 0.    , 0.    ])"
      ]
     },
     "execution_count": 8,
     "metadata": {},
     "output_type": "execute_result"
    }
   ],
   "source": [
    "tau_f_se"
   ]
  },
  {
   "cell_type": "code",
   "execution_count": 9,
   "id": "bb9252e6-ca5c-4b52-bf75-9252ef952363",
   "metadata": {},
   "outputs": [
    {
     "data": {
      "text/plain": [
       "tensor([[ -9.2252,  -3.4536,  44.8248],\n",
       "        [-11.8170, -19.2823,  31.4022],\n",
       "        [  2.4676,   2.5145,  23.6541],\n",
       "        [  7.8561,  10.0131,  23.5841],\n",
       "        [  6.3446,  10.8706,  13.8709]], grad_fn=<MmBackward0>)"
      ]
     },
     "execution_count": 9,
     "metadata": {},
     "output_type": "execute_result"
    }
   ],
   "source": [
    "model.net(next(model.dataloader.__iter__())[0])"
   ]
  },
  {
   "cell_type": "code",
   "execution_count": 10,
   "id": "c0f43aa1-ef08-463b-91c8-582713233b9d",
   "metadata": {},
   "outputs": [
    {
     "data": {
      "text/plain": [
       "array([[ -8.361066 ,  -9.38598  , -10.454209 , ...,  -5.5973125,\n",
       "         -4.3846292,  -3.3684328],\n",
       "       [-13.313976 , -14.654672 , -15.823077 , ...,   0.951339 ,\n",
       "          1.1862783,   1.2309328],\n",
       "       [ 18.146687 ,  19.625534 ,  21.55841  , ...,  31.42136  ,\n",
       "         29.684444 ,  28.051142 ]], dtype=float32)"
      ]
     },
     "execution_count": 10,
     "metadata": {},
     "output_type": "execute_result"
    }
   ],
   "source": [
    "train[:N]"
   ]
  },
  {
   "cell_type": "code",
   "execution_count": null,
   "id": "cb1b1e1d-7b79-4523-9a71-e69b2abdb4f4",
   "metadata": {},
   "outputs": [],
   "source": []
  }
 ],
 "metadata": {
  "kernelspec": {
   "display_name": "Python 3 (ipykernel)",
   "language": "python",
   "name": "python3"
  },
  "language_info": {
   "codemirror_mode": {
    "name": "ipython",
    "version": 3
   },
   "file_extension": ".py",
   "mimetype": "text/x-python",
   "name": "python",
   "nbconvert_exporter": "python",
   "pygments_lexer": "ipython3",
   "version": "3.11.5"
  }
 },
 "nbformat": 4,
 "nbformat_minor": 5
}
