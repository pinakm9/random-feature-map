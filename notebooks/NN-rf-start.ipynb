{
 "cells": [
  {
   "cell_type": "code",
   "execution_count": 4,
   "id": "9f91fe87-e4cf-4d90-bf34-2e9dac62ef97",
   "metadata": {},
   "outputs": [],
   "source": [
    "import numpy as np \n",
    "from scipy.integrate import odeint\n",
    "import os, sys, warnings\n",
    "from pathlib import Path\n",
    "from os.path import dirname, realpath\n",
    "script_dir = Path(dirname(realpath('.')))\n",
    "module_dir = str(script_dir)\n",
    "sys.path.insert(0, module_dir + '/modules')\n",
    "import utility as ut\n",
    "import surrogate_nn as srnn\n",
    "import matplotlib.pyplot as plt\n",
    "import pandas as pd\n",
    "import torch\n",
    "from torch import nn\n",
    "from torch.optim import lr_scheduler\n",
    "from torch.utils.data import DataLoader, TensorDataset\n",
    "warnings.filterwarnings('ignore')"
   ]
  },
  {
   "cell_type": "code",
   "execution_count": 5,
   "id": "d8341f71-46f2-49e7-bee9-8154bace790c",
   "metadata": {},
   "outputs": [],
   "source": [
    "L63_data_path = '../data/L63-trajectories'\n",
    "save_folder='../data/rf-start'\n",
    "log_interval = 100\n",
    "milestones = [10*2**n for n in range(15)]\n",
    "learning_rate = 1e-3\n",
    "drop = 0.7\n",
    "steps = int(1e4)\n",
    "save_interval = 100\n",
    "N = 20000\n",
    "L0 = 0.4\n",
    "L1 = 3.5\n",
    "beta = 4e-5\n",
    "partition = [100, 100, 100]\n",
    "train = np.load(f'{L63_data_path}/train.npy').astype(np.float32)\n",
    "test = np.load(f'{L63_data_path}/test.npy')[:, :, :1000].astype(np.float32)\n",
    "\n",
    "model = srnn.SurrogateModel_NN(3, 300, name='nn', save_folder=save_folder)\n",
    "model.init_with_rf(L0, L1, beta, train, partition)\n",
    "# model.learn(train[:, :N], steps, learning_rate, beta, log_interval, save_interval, milestones, drop, batch_size=N-1)"
   ]
  },
  {
   "cell_type": "code",
   "execution_count": 6,
   "id": "f847e2b7-9805-4513-938c-e0bcec7ebbef",
   "metadata": {},
   "outputs": [],
   "source": [
    "iters = list(range(0, 10000, 100))\n",
    "# tau = np.zeros(len(iters))\n",
    "# for i, iter in enumerate(iters):\n",
    "#     model.net = torch.load(f'{model.save_folder}/nn_{iter}')\n",
    "#     tau_f_rmse, tau_f_se, rmse, se = model.compute_tau_f(test[:100], error_threshold=0.05)\n",
    "#     tau[i] = tau_f_se.mean()\n",
    "#     print(i)"
   ]
  },
  {
   "cell_type": "code",
   "execution_count": 7,
   "id": "4119bbde-dbd6-48de-96c5-5cc55ca32f8a",
   "metadata": {},
   "outputs": [],
   "source": [
    "# plt.plot(iters, tau, label=\"test_model\")\n",
    "# plt.xlabel('iteration (descent step)')\n",
    "# plt.ylabel(r'mean $\\tau_f$')\n",
    "# plt.legend()\n",
    "# plt.savefig(f'{model.save_folder}/iter_vs_mean_tau_f.png')"
   ]
  },
  {
   "cell_type": "code",
   "execution_count": 16,
   "id": "fa35fe28-4d33-4f7d-a4c7-31a23e11e8e0",
   "metadata": {},
   "outputs": [
    {
     "name": "stdout",
     "output_type": "stream",
     "text": [
      "Time taken by compute_tau_f is 1.3323 seconds\n"
     ]
    }
   ],
   "source": [
    "model.init_with_rf(L0, L1, beta, train, partition=[200, 50, 50])\n",
    "tau_f_rmse, tau_f_se, rmse, se = model.compute_tau_f(test[:100], error_threshold=0.05)"
   ]
  },
  {
   "cell_type": "code",
   "execution_count": 17,
   "id": "ce187ac8-a1f1-480b-bae0-3e16ff18d25f",
   "metadata": {},
   "outputs": [
    {
     "data": {
      "text/plain": [
       "4.9635039999999995"
      ]
     },
     "execution_count": 17,
     "metadata": {},
     "output_type": "execute_result"
    }
   ],
   "source": [
    "tau_f_se.mean()"
   ]
  },
  {
   "cell_type": "code",
   "execution_count": 18,
   "id": "668a6725-b192-487e-a4ed-d8d61a819879",
   "metadata": {},
   "outputs": [
    {
     "name": "stdout",
     "output_type": "stream",
     "text": [
      "step: 0    loss: 4.901759     time elapsed=0.0417\n",
      "step: 100    loss: 5.666841     time elapsed=1.8259\n",
      "step: 200    loss: 5.102170     time elapsed=3.6074\n",
      "step: 300    loss: 5.008341     time elapsed=5.3776\n",
      "step: 400    loss: 4.962396     time elapsed=7.1766\n",
      "step: 500    loss: 4.937736     time elapsed=8.9456\n",
      "step: 600    loss: 4.923184     time elapsed=10.7296\n",
      "step: 700    loss: 4.913925     time elapsed=12.5208\n",
      "step: 800    loss: 4.907634     time elapsed=14.3139\n",
      "step: 900    loss: 4.903021     time elapsed=16.1230\n",
      "step: 1000    loss: 4.899535     time elapsed=17.8936\n",
      "step: 1100    loss: 4.896765     time elapsed=19.6585\n",
      "step: 1200    loss: 4.894525     time elapsed=21.4234\n",
      "step: 1300    loss: 4.892628     time elapsed=23.2300\n",
      "step: 1400    loss: 4.891066     time elapsed=25.0172\n",
      "step: 1500    loss: 4.889759     time elapsed=26.7800\n",
      "step: 1600    loss: 11.236066     time elapsed=28.5805\n",
      "step: 1700    loss: 4.890207     time elapsed=30.3955\n",
      "step: 1800    loss: 4.888700     time elapsed=32.1618\n",
      "step: 1900    loss: 4.887876     time elapsed=33.9233\n",
      "step: 2000    loss: 2470.094482     time elapsed=35.6860\n",
      "step: 2100    loss: 4.907763     time elapsed=37.4632\n",
      "step: 2200    loss: 4.888127     time elapsed=39.3030\n",
      "step: 2300    loss: 4.887479     time elapsed=41.0938\n",
      "step: 2400    loss: 4.886992     time elapsed=42.8588\n",
      "step: 2500    loss: 212.219116     time elapsed=44.6254\n",
      "step: 2600    loss: 4.900349     time elapsed=46.3928\n",
      "step: 2700    loss: 4.888667     time elapsed=48.1788\n",
      "step: 2800    loss: 4.888041     time elapsed=49.9460\n",
      "step: 2900    loss: 4.887597     time elapsed=51.7196\n",
      "step: 3000    loss: 1343.369385     time elapsed=53.5199\n",
      "step: 3100    loss: 4.889745     time elapsed=55.3077\n",
      "step: 3200    loss: 4.888333     time elapsed=57.1129\n",
      "step: 3300    loss: 4.887873     time elapsed=58.9264\n",
      "step: 3400    loss: 120.895958     time elapsed=60.7385\n",
      "step: 3500    loss: 4.899122     time elapsed=62.5992\n",
      "step: 3600    loss: 4.891327     time elapsed=64.5475\n",
      "step: 3700    loss: 4.890555     time elapsed=66.8161\n",
      "step: 3800    loss: 4.890002     time elapsed=68.8195\n",
      "step: 3900    loss: 4.889532     time elapsed=70.9785\n",
      "step: 4000    loss: 27.521942     time elapsed=73.1852\n",
      "step: 4100    loss: 238.411407     time elapsed=74.9768\n",
      "step: 4200    loss: 45.302979     time elapsed=76.9970\n",
      "step: 4300    loss: 36.556442     time elapsed=78.7951\n",
      "step: 4400    loss: 294.372406     time elapsed=80.5627\n",
      "step: 4500    loss: 4.980387     time elapsed=82.3633\n",
      "step: 4600    loss: 4.890371     time elapsed=84.1342\n",
      "step: 4700    loss: 13.457115     time elapsed=85.9164\n",
      "step: 4800    loss: 4.894469     time elapsed=87.7202\n",
      "step: 4900    loss: 4.892752     time elapsed=89.5538\n",
      "step: 5000    loss: 4.892093     time elapsed=91.6216\n",
      "step: 5100    loss: 4.891531     time elapsed=93.3951\n",
      "step: 5200    loss: 32.633202     time elapsed=95.1688\n",
      "step: 5300    loss: 4.894269     time elapsed=96.9489\n",
      "step: 5400    loss: 4.892690     time elapsed=98.7144\n",
      "step: 5500    loss: 23.100454     time elapsed=100.5626\n",
      "step: 5600    loss: 5.028996     time elapsed=102.3526\n",
      "step: 5700    loss: 4.894670     time elapsed=104.1250\n",
      "step: 5800    loss: 4.893960     time elapsed=106.0187\n",
      "step: 5900    loss: 4.893333     time elapsed=107.7938\n",
      "step: 6000    loss: 87.593483     time elapsed=109.5794\n",
      "step: 6100    loss: 4.915342     time elapsed=111.3442\n",
      "step: 6200    loss: 4.895656     time elapsed=113.1422\n",
      "step: 6300    loss: 4.894844     time elapsed=114.9127\n",
      "step: 6400    loss: 4.894211     time elapsed=116.6842\n",
      "step: 6500    loss: 354.470001     time elapsed=118.4701\n",
      "step: 6600    loss: 4.911976     time elapsed=120.2601\n",
      "step: 6700    loss: 4.895071     time elapsed=122.0373\n",
      "step: 6800    loss: 526.219727     time elapsed=123.8649\n",
      "step: 6900    loss: 5.088507     time elapsed=125.6489\n",
      "step: 7000    loss: 4.897365     time elapsed=127.4315\n",
      "step: 7100    loss: 4.896550     time elapsed=129.2251\n",
      "step: 7200    loss: 4.895859     time elapsed=131.3227\n",
      "step: 7300    loss: 4.946901     time elapsed=133.4156\n",
      "step: 7400    loss: 5.583985     time elapsed=135.2598\n",
      "step: 7500    loss: 4.898335     time elapsed=137.2874\n",
      "step: 7600    loss: 4.897446     time elapsed=139.1871\n",
      "step: 7700    loss: 4.896749     time elapsed=141.0031\n",
      "step: 7800    loss: 39.482368     time elapsed=142.8419\n",
      "step: 7900    loss: 11.511147     time elapsed=144.6902\n",
      "step: 8000    loss: 5.175653     time elapsed=146.5055\n",
      "step: 8100    loss: 13.919355     time elapsed=148.3095\n",
      "step: 8200    loss: 4.897764     time elapsed=150.0986\n",
      "step: 8300    loss: 14.369893     time elapsed=151.8821\n",
      "step: 8400    loss: 5.279278     time elapsed=153.6699\n",
      "step: 8500    loss: 4.900649     time elapsed=155.4465\n",
      "step: 8600    loss: 4.899769     time elapsed=157.2239\n",
      "step: 8700    loss: 4.899022     time elapsed=159.0133\n",
      "step: 8800    loss: 45.081741     time elapsed=160.8511\n",
      "step: 8900    loss: 5.134699     time elapsed=162.6715\n",
      "step: 9000    loss: 8.098635     time elapsed=164.6721\n",
      "step: 9100    loss: 4.899473     time elapsed=166.5566\n",
      "step: 9200    loss: 872.607422     time elapsed=168.3870\n",
      "step: 9300    loss: 4.912504     time elapsed=170.2457\n",
      "step: 9400    loss: 4.902303     time elapsed=172.0895\n",
      "step: 9500    loss: 4.901429     time elapsed=173.9682\n",
      "step: 9600    loss: 4.900723     time elapsed=175.7586\n",
      "step: 9700    loss: 495.473755     time elapsed=177.5766\n",
      "step: 9800    loss: 4.949941     time elapsed=179.3708\n",
      "step: 9900    loss: 4.901144     time elapsed=181.2262\n",
      "Time taken by learn is 183.0299 seconds\n",
      "Time taken by compute_tau_f is 1.2621 seconds\n"
     ]
    }
   ],
   "source": [
    "model.learn(train[:, :N], 10000, 1e-4, drop=1., batch_size='GD')\n",
    "tau_f_rmse, tau_f_se, rmse, se = model.compute_tau_f(test[:100], error_threshold=0.05)"
   ]
  },
  {
   "cell_type": "code",
   "execution_count": 19,
   "id": "3e5fd0fd-42e9-4dcd-912a-db22ff62de1b",
   "metadata": {},
   "outputs": [
    {
     "data": {
      "text/plain": [
       "1.9262880000000004"
      ]
     },
     "execution_count": 19,
     "metadata": {},
     "output_type": "execute_result"
    }
   ],
   "source": [
    "tau_f_se.mean()"
   ]
  },
  {
   "cell_type": "code",
   "execution_count": 9,
   "id": "bb9252e6-ca5c-4b52-bf75-9252ef952363",
   "metadata": {},
   "outputs": [
    {
     "data": {
      "text/plain": [
       "tensor([[ -9.2252,  -3.4536,  44.8248],\n",
       "        [-11.8170, -19.2823,  31.4022],\n",
       "        [  2.4676,   2.5145,  23.6541],\n",
       "        [  7.8561,  10.0131,  23.5841],\n",
       "        [  6.3446,  10.8706,  13.8709]], grad_fn=<MmBackward0>)"
      ]
     },
     "execution_count": 9,
     "metadata": {},
     "output_type": "execute_result"
    }
   ],
   "source": [
    "model.net(next(model.dataloader.__iter__())[0])"
   ]
  },
  {
   "cell_type": "code",
   "execution_count": 10,
   "id": "c0f43aa1-ef08-463b-91c8-582713233b9d",
   "metadata": {},
   "outputs": [
    {
     "data": {
      "text/plain": [
       "array([[ -8.361066 ,  -9.38598  , -10.454209 , ...,  -5.5973125,\n",
       "         -4.3846292,  -3.3684328],\n",
       "       [-13.313976 , -14.654672 , -15.823077 , ...,   0.951339 ,\n",
       "          1.1862783,   1.2309328],\n",
       "       [ 18.146687 ,  19.625534 ,  21.55841  , ...,  31.42136  ,\n",
       "         29.684444 ,  28.051142 ]], dtype=float32)"
      ]
     },
     "execution_count": 10,
     "metadata": {},
     "output_type": "execute_result"
    }
   ],
   "source": [
    "train[:N]"
   ]
  },
  {
   "cell_type": "code",
   "execution_count": null,
   "id": "cb1b1e1d-7b79-4523-9a71-e69b2abdb4f4",
   "metadata": {},
   "outputs": [],
   "source": []
  }
 ],
 "metadata": {
  "kernelspec": {
   "display_name": "Python 3 (ipykernel)",
   "language": "python",
   "name": "python3"
  },
  "language_info": {
   "codemirror_mode": {
    "name": "ipython",
    "version": 3
   },
   "file_extension": ".py",
   "mimetype": "text/x-python",
   "name": "python",
   "nbconvert_exporter": "python",
   "pygments_lexer": "ipython3",
   "version": "3.11.5"
  }
 },
 "nbformat": 4,
 "nbformat_minor": 5
}
