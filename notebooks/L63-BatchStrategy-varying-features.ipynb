{
 "cells": [
  {
   "cell_type": "code",
   "execution_count": 1,
   "id": "2e9c3cc0-fb3d-4ae5-ba90-7de5de57a770",
   "metadata": {},
   "outputs": [],
   "source": [
    "import numpy as np \n",
    "from scipy.integrate import odeint\n",
    "import os, sys \n",
    "from pathlib import Path\n",
    "from os.path import dirname, realpath\n",
    "script_dir = Path(dirname(realpath('.')))\n",
    "module_dir = str(script_dir)\n",
    "sys.path.insert(0, module_dir + '/modules')\n",
    "import utility as ut\n",
    "import surrogate1 as sr1\n",
    "import matplotlib.pyplot as plt\n",
    "import pandas as pd\n",
    "import warnings\n",
    "# warnings.filterwarnings('ignore')"
   ]
  },
  {
   "cell_type": "markdown",
   "id": "27b8dd62-6879-4e95-8366-a1a11dad1614",
   "metadata": {},
   "source": [
    "**Run BatchStrategy**"
   ]
  },
  {
   "cell_type": "code",
   "execution_count": 2,
   "id": "6fbd4d5a-d2ea-4da5-b4f7-f49a27ad07d6",
   "metadata": {},
   "outputs": [],
   "source": [
    "save_folder = '../data/L63-Strategy-varying-featuresize/'\n",
    "D, D_r = 3, 300\n",
    "Lyapunov_time, dt = 1./.91, 0.02\n",
    "error_threshold = 0.05\n",
    "beta = 4e-5\n",
    "L0, L1 = 0.4, 3.5\n",
    "percents = 50\n",
    "n_repeats = 500\n",
    "n_models = percents * n_repeats\n",
    "row_selection = 'good_50_50'\n",
    "train_option = 'random_20000'\n",
    "repo = '..'\n",
    "L63_data_folder = '{}/data/L63-trajectories'.format(repo)\n",
    "train = np.load('{}/train.npy'.format(L63_data_folder))\n",
    "test = np.load('{}/test.npy'.format(L63_data_folder))[:, :1000, :]\n",
    "limits_W_in, limits_W = [-0.1, 0.1], [-.5, .5]\n",
    "# for D_r in [2**n for n in range(11, 12, 1)]:\n",
    "#   print('=======================================')\n",
    "#   print(f'Working with {D_r} hidden features ...')\n",
    "#   print('=======================================')\n",
    "#   batch = sr1.BatchStrategy_SMLR(save_folder+str(n_repeats), D, D_r, n_repeats, beta, error_threshold, train, test, dt, Lyapunov_time, L0, L1, percents,\\\n",
    "                              # row_selection, train_option, limits_W_in, limits_W)\n",
    "  # batch.run()"
   ]
  },
  {
   "cell_type": "markdown",
   "id": "2956c380-e654-43da-b18c-8a73ded6015b",
   "metadata": {},
   "source": [
    "**Analyze BatchStrategy**"
   ]
  },
  {
   "cell_type": "code",
   "execution_count": 4,
   "id": "698d3278-150b-4910-a6c7-b94064787b69",
   "metadata": {},
   "outputs": [
    {
     "ename": "NameError",
     "evalue": "name 'save_folder' is not defined",
     "output_type": "error",
     "traceback": [
      "\u001b[0;31m---------------------------------------------------------------------------\u001b[0m",
      "\u001b[0;31mNameError\u001b[0m                                 Traceback (most recent call last)",
      "Cell \u001b[0;32mIn[4], line 2\u001b[0m\n\u001b[1;32m      1\u001b[0m \u001b[38;5;28;01mfor\u001b[39;00m D_r \u001b[38;5;129;01min\u001b[39;00m [\u001b[38;5;241m2\u001b[39m\u001b[38;5;241m*\u001b[39m\u001b[38;5;241m*\u001b[39mn \u001b[38;5;28;01mfor\u001b[39;00m n \u001b[38;5;129;01min\u001b[39;00m \u001b[38;5;28mrange\u001b[39m(\u001b[38;5;241m4\u001b[39m, \u001b[38;5;241m13\u001b[39m)]:\n\u001b[0;32m----> 2\u001b[0m     bsa \u001b[38;5;241m=\u001b[39m sr1\u001b[38;5;241m.\u001b[39mBatchStrategyAnalyzer_SMLR(\u001b[43msave_folder\u001b[49m\u001b[38;5;241m+\u001b[39m\u001b[38;5;28mstr\u001b[39m(D_r))\n\u001b[1;32m      3\u001b[0m     \u001b[38;5;66;03m# i = np.log2(n_repeats)\u001b[39;00m\n\u001b[1;32m      4\u001b[0m     \u001b[38;5;66;03m# if i > 8:\u001b[39;00m\n\u001b[1;32m      5\u001b[0m     \u001b[38;5;66;03m#     reduction_factor = 2**(i-8)\u001b[39;00m\n\u001b[1;32m      6\u001b[0m     \u001b[38;5;66;03m# else:\u001b[39;00m\n\u001b[1;32m      7\u001b[0m     \u001b[38;5;66;03m#     reduction_factor = 1\u001b[39;00m\n\u001b[1;32m      8\u001b[0m     bsa\u001b[38;5;241m.\u001b[39mcompute_train_loss(train)\n",
      "\u001b[0;31mNameError\u001b[0m: name 'save_folder' is not defined"
     ]
    }
   ],
   "source": [
    "for D_r in [2**n for n in range(4, 13)]:\n",
    "    bsa = sr1.BatchStrategyAnalyzer_SMLR(save_folder+str(D_r))\n",
    "    # i = np.log2(n_repeats)\n",
    "    # if i > 8:\n",
    "    #     reduction_factor = 2**(i-8)\n",
    "    # else:\n",
    "    #     reduction_factor = 1\n",
    "    bsa.compute_train_loss(train)\n",
    "    bsa.compute_test_loss(test[:100])"
   ]
  },
  {
   "cell_type": "code",
   "execution_count": null,
   "id": "e61f2a52-0cc0-4cfb-941c-b8f2721d4978",
   "metadata": {},
   "outputs": [],
   "source": [
    "for N in [n for n in [625*2**n for n in range(10)]]:\n",
    "    bsa = sr1.BatchStrategyAnalyzer_SMLR('../data/L63-Strategy-varying-trainsize/'+str(N))\n",
    "    bsa.plot(1)"
   ]
  },
  {
   "cell_type": "code",
   "execution_count": 2,
   "id": "c213db8c-75d7-4707-a21f-e8a506b17f2d",
   "metadata": {},
   "outputs": [
    {
     "ename": "NameError",
     "evalue": "name 'bsa' is not defined",
     "output_type": "error",
     "traceback": [
      "\u001b[0;31m---------------------------------------------------------------------------\u001b[0m",
      "\u001b[0;31mNameError\u001b[0m                                 Traceback (most recent call last)",
      "Cell \u001b[0;32mIn[2], line 1\u001b[0m\n\u001b[0;32m----> 1\u001b[0m model \u001b[38;5;241m=\u001b[39m \u001b[43mbsa\u001b[49m\u001b[38;5;241m.\u001b[39mget_model(\u001b[38;5;241m2\u001b[39m)\n\u001b[1;32m      2\u001b[0m \u001b[38;5;66;03m# model.multistep_forecast(train[:, 1], 20).shape\u001b[39;00m\n\u001b[1;32m      3\u001b[0m model\u001b[38;5;241m.\u001b[39mforecast_m(train[:, :\u001b[38;5;241m1\u001b[39m])\n",
      "\u001b[0;31mNameError\u001b[0m: name 'bsa' is not defined"
     ]
    }
   ],
   "source": [
    "model = bsa.get_model(2)\n",
    "# model.multistep_forecast(train[:, 1], 20).shape\n",
    "model.forecast_m(train[:, :1])"
   ]
  },
  {
   "cell_type": "code",
   "execution_count": 3,
   "id": "5d790ddb-5a79-4dc7-97e2-e974b22d36b2",
   "metadata": {},
   "outputs": [
    {
     "ename": "NameError",
     "evalue": "name 'model' is not defined",
     "output_type": "error",
     "traceback": [
      "\u001b[0;31m---------------------------------------------------------------------------\u001b[0m",
      "\u001b[0;31mNameError\u001b[0m                                 Traceback (most recent call last)",
      "Cell \u001b[0;32mIn[3], line 1\u001b[0m\n\u001b[0;32m----> 1\u001b[0m \u001b[43mmodel\u001b[49m\u001b[38;5;241m.\u001b[39mforecast(train[:, \u001b[38;5;241m1\u001b[39m])\n",
      "\u001b[0;31mNameError\u001b[0m: name 'model' is not defined"
     ]
    }
   ],
   "source": [
    "model.forecast(train[:, 1])"
   ]
  },
  {
   "cell_type": "code",
   "execution_count": null,
   "id": "6c17619a-d791-48b2-a8b6-3df93046c8af",
   "metadata": {},
   "outputs": [],
   "source": [
    "percents = 49\n",
    "dx = 100./percents\n",
    "percents = np.arange(0., 100. + dx, dx) / 100."
   ]
  },
  {
   "cell_type": "code",
   "execution_count": 24,
   "id": "853a1cf0-2a90-45f4-867a-e25baaef11da",
   "metadata": {},
   "outputs": [
    {
     "data": {
      "text/plain": [
       "array([[ -8.36106589,  -9.38744041, -10.45834693],\n",
       "       [-13.31397632, -14.65970643, -15.84254025],\n",
       "       [ 18.14668692,  19.59029474,  21.48415386]])"
      ]
     },
     "execution_count": 24,
     "metadata": {},
     "output_type": "execute_result"
    }
   ],
   "source": [
    "model.multistep_forecast(train[:, 0], 3)"
   ]
  },
  {
   "cell_type": "code",
   "execution_count": null,
   "id": "9056100c-0126-4578-a35c-3b977d55d8b4",
   "metadata": {},
   "outputs": [],
   "source": []
  }
 ],
 "metadata": {
  "kernelspec": {
   "display_name": "Python 3 (ipykernel)",
   "language": "python",
   "name": "python3"
  },
  "language_info": {
   "codemirror_mode": {
    "name": "ipython",
    "version": 3
   },
   "file_extension": ".py",
   "mimetype": "text/x-python",
   "name": "python",
   "nbconvert_exporter": "python",
   "pygments_lexer": "ipython3",
   "version": "3.11.5"
  }
 },
 "nbformat": 4,
 "nbformat_minor": 5
}
